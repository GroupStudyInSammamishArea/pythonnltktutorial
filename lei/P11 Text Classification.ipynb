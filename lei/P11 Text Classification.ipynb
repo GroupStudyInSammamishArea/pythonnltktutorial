{
 "cells": [
  {
   "cell_type": "markdown",
   "metadata": {},
   "source": [
    "## Text Classification\n",
    "\n",
    "The goal with text classification can be pretty broad. Maybe we're trying to classify text as about politics or the military. Maybe we're trying to classify it by the gender of the author who wrote it. A fairly popular text classification task is to identify a body of text as either spam or not spam, for things like email filters. In our case, we're going to try to create a sentiment analysis algorithm.\n",
    "\n",
    "To do this, we're going to start by trying to use the movie reviews database that is part of the NLTK corpus. From there we'll try to use words as \"features\" which are a part of either a positive or negative movie review. The NLTK corpus movie_reviews data set has the reviews, and they are labeled already as positive or negative. This means we can train and test with this data. First, let's wrangle our data."
   ]
  },
  {
   "cell_type": "code",
   "execution_count": 2,
   "metadata": {},
   "outputs": [
    {
     "name": "stdout",
     "output_type": "stream",
     "text": [
      "(['known', 'as', 'the', 'most', 'successful', ',', 'highest', '-', 'grossing', 'romantic', 'comedy', 'in', 'history', ',', 'director', 'garry', 'marshall', 'apparently', 'struck', 'gold', 'with', '\"', 'pretty', 'woman', ',', '\"', 'which', 'opened', 'quietly', 'during', 'the', 'summer', 'of', '1990', 'but', ',', 'thanks', 'to', 'positive', 'word', '-', 'of', '-', 'mouth', ',', 'was', 'able', 'to', 'reach', 'upwards', 'of', '$', '175', '-', 'million', 'in', 'theaters', 'alone', '.', 'the', 'question', 'of', 'why', 'it', 'worked', 'so', 'well', 'lies', 'directly', 'with', 'the', 'film', \"'\", 's', 'two', 'charismatic', 'stars', ',', 'richard', 'gere', 'and', 'julia', 'roberts', ',', 'since', 'the', 'story', 'itself', 'is', 'none', 'too', 'original', 'or', 'even', 'believable', '.', 'the', 'other', 'winning', 'element', 'that', 'makes', '\"', 'pretty', 'woman', '\"', 'so', 'entertaining', 'is', 'its', 'genuine', 'sweetness', 'and', 'innocence', ',', 'which', 'is', 'rarely', 'as', 'palpable', 'in', 'today', \"'\", 's', 'films', 'as', 'it', 'is', 'here', '.', 'edward', 'lewis', '(', 'richard', 'gere', ')', 'is', 'a', 'suave', ',', 'extremely', 'wealthy', 'business', 'mogul', 'who', ',', 'at', 'the', 'start', 'of', 'the', 'picture', ',', 'breaks', 'up', 'with', 'his', 'girlfriend', 'over', 'the', 'phone', 'after', 'a', 'nasty', 'argument', ',', 'and', 'abruptly', 'takes', 'his', 'friend', \"'\", 's', 'car', 'and', 'gets', 'lost', 'on', 'hollywood', 'boulevard', 'while', 'trying', 'to', 'find', 'his', 'hotel', '.', 'stopping', 'the', 'car', 'along', 'the', 'street', ',', 'he', 'asks', 'a', 'woman', ',', 'obviously', 'a', 'prostitute', ',', 'for', 'directions', '.', 'agreeing', 'to', 'get', 'in', 'his', 'car', 'and', 'show', 'him', 'for', 'ten', 'bucks', ',', 'edward', 'ultimately', 'accepts', ',', 'they', 'strike', 'up', 'a', 'conversation', ',', 'and', 'before', 'long', 'she', 'has', 'been', 'asked', 'up', 'to', 'his', 'penthouse', 'room', 'on', 'the', 'top', 'floor', '.', 'this', 'meeting', 'does', 'not', 'lead', 'to', 'sex', ',', 'however', ',', 'as', 'edward', 'confides', 'that', 'he', \"'\", 'd', 'rather', 'just', 'have', 'someone', 'to', 'talk', 'to', ',', 'and', 'offers', 'her', '$', '300', 'to', 'spend', 'the', 'night', '.', 'just', 'as', 'well', ',', 'since', 'the', 'hooker', ',', 'named', 'vivian', ',', 'is', 'a', 'beautiful', ',', 'generally', 'upbeat', 'young', 'woman', 'who', 'is', 'the', 'type', 'of', 'person', 'that', 'can', 'lend', 'an', 'understanding', 'ear', '.', 'the', 'meeting', 'between', 'these', 'two', 'completely', 'opposite', 'people', 'does', 'not', 'end', 'the', 'next', 'morning', 'as', 'planned', ',', 'when', 'edward', 'finally', 'offers', 'to', 'pay', 'vivian', 'three', '-', 'thousand', 'dollars', 'if', 'she', 'will', 'stay', 'with', 'him', 'for', 'six', 'days', 'and', 'nights', 'while', 'he', 'is', 'in', 'the', 'area', ',', 'keeping', 'him', 'company', 'and', 'acting', 'as', 'his', 'companion', 'to', 'business', 'dinners', 'and', 'get', '-', 'togethers', '.', 'since', 'vivian', 'firmly', 'tells', 'edward', 'at', 'the', 'beginning', 'that', 'she', 'will', 'do', 'anything', 'with', 'him', 'except', 'kiss', 'him', 'on', 'the', 'lips', ',', 'which', 'always', 'leads', 'to', 'unwanted', 'intimacy', 'when', 'dealing', 'with', 'her', 'customers', ',', 'the', 'obligatory', 'rule', 'of', 'the', 'genre', 'says', 'that', 'by', 'the', 'third', 'act', ',', 'edward', 'and', 'vivian', 'will', 'finally', ',', 'truly', ',', 'kiss', '.', 'allegedly', 'planned', 'as', 'a', 'grim', ',', 'downbeat', 'drama', 'until', 'garry', 'marshall', 'came', 'on', 'board', 'as', 'director', ',', '\"', 'pretty', 'woman', '\"', 'has', 'been', 'transformed', 'in', 'all', 'senses', 'of', 'the', 'word', 'into', 'a', 'classic', 'fairy', 'tale', ',', 'a', 'la', '\"', 'cinderella', '.', '\"', 'the', 'premise', 'is', 'hardly', 'believable', 'and', 'its', 'portrait', 'of', 'prostitutes', 'hanging', 'out', 'on', 'the', 'streets', 'of', 'hollywood', 'boulevard', 'is', 'just', 'about', 'the', 'most', 'idealized', 'portrayal', 'that', 'there', 'could', 'have', 'possibly', 'been', '.', 'you', 'honestly', 'don', \"'\", 't', 'need', 'a', 'high', '-', 'iq', '(', 'or', 'any', 'iq', ',', 'for', 'that', 'matter', ')', 'to', 'guess', 'how', 'the', 'film', 'will', 'end', ',', 'and', 'the', 'story', 'is', 'as', 'old', 'as', 'my', 'great', 'great', 'grandma', 'bertha', '.', 'the', 'supporting', 'characters', 'are', 'almost', 'all', 'sketchily', 'written', 'and', 'less', '-', 'than', '-', 'gratifying', ',', 'and', 'the', 'screenplay', 'is', 'no', 'award', 'winner', '.', 'and', 'yet', ',', 'amidst', 'all', 'of', 'these', 'qualms', 'and', 'flaws', ',', '\"', 'pretty', 'woman', '\"', 'is', 'an', 'astoundingly', 'charming', 'motion', 'picture', ',', 'and', 'it', 'is', 'definately', 'easy', 'to', 'see', 'why', 'it', 'became', 'such', 'an', 'overnight', 'sensation', 'with', 'moviegoers', '.', 'you', \"'\", 'd', 'actually', 'be', 'amazed', 'how', 'far', 'bemusement', 'can', 'go', ',', 'and', 'there', 'are', 'a', 'few', 'select', 'moments', '(', 'not', 'even', 'whole', 'scenes', ',', 'mind', 'you', ')', 'that', 'are', 'as', 'romantic', 'as', 'anything', 'i', \"'\", 've', 'seen', 'on', 'film', 'in', 'the', '1990', \"'\", 's', '.', 'additionally', ',', 'the', 'film', 'belongs', ',', 'and', 'its', 'success', 'can', 'be', 'attributed', ',', 'to', 'two', 'people', 'and', 'two', 'people', 'only', ',', 'and', 'they', 'are', 'richard', 'gere', 'and', 'julia', 'roberts', '.', 'playing', 'sex', 'symbols', 'throughout', 'the', \"'\", '80s', 'with', 'such', 'pictures', 'as', '\"', 'american', 'gigolo', '\"', 'and', '\"', 'an', 'officer', 'and', 'a', 'gentleman', ',', '\"', 'gere', 'branches', 'out', 'here', 'to', 'play', 'a', 'more', 'quiet', ',', 'almost', 'shy', ',', 'but', 'still', 'alluring', ',', 'character', 'that', 'believably', 'could', 'sweep', 'julia', 'roberts', 'off', 'her', 'feet', ',', 'and', 'vice', 'versa', '.', 'julia', 'roberts', ',', 'in', 'her', 'breakthrough', 'role', 'after', '1988', \"'\", 's', 'well', '-', 'received', '\"', 'mistic', 'pizza', '\"', 'and', '1989', \"'\", 's', '\"', 'steel', 'magnolia', ',', '\"', 'for', 'which', 'she', 'was', 'nominated', 'for', 'an', 'academy', 'award', ',', 'is', 'radiant', 'and', 'funny', 'as', 'the', 'wordly', 'vivian', ',', 'who', 'surprisingly', 'could', 'be', 'a', 'role', 'model', 'for', 'impressionistic', 'viewers', ',', 'not', 'for', 'her', 'line', 'of', 'work', ',', 'but', 'more', 'for', 'her', 'sheer', 'intelligence', '.', 'it', 'would', 'have', 'probably', 'been', 'easy', 'to', 'have', 'written', 'vivian', 'as', 'merely', 'a', 'flake', ',', 'but', 'screenwriter', 'j', '.', 'f', '.', 'lawton', 'clearly', 'cared', 'too', 'much', 'about', 'his', 'central', 'characters', 'to', 'do', 'such', 'a', 'thing', '.', 'after', '\"', 'pretty', 'woman', ',', '\"', 'roberts', ',', 'along', 'with', 'meg', 'ryan', ',', 'became', 'the', 'reigning', 'queen', 'of', 'romantic', 'comedies', '(', 'with', 'her', 'latest', 'being', 'the', 'just', '-', 'released', '\"', 'runaway', 'bride', ',', '\"', 'which', 'repairs', 'gere', 'and', 'roberts', 'together', 'once', 'again', ')', ',', 'and', 'no', 'wonder', '.', 'roberts', 'has', 'continually', 'proven', 'to', 'not', 'only', 'be', 'a', 'strong', 'actress', 'with', 'a', 'flare', 'for', 'comedy', ',', 'but', 'also', 'one', 'who', 'can', 'efficiently', 'do', 'drama', ',', 'and', 'in', 'almost', 'every', 'film', 'she', 'appears', 'in', ',', 'it', 'is', 'difficult', 'not', 'to', 'fall', 'in', 'love', 'with', 'her', 'along', 'with', 'her', 'male', 'co', '-', 'star', '.', 'an', 'especially', 'strong', 'scene', 'that', 'gere', 'and', 'roberts', 'do', 'together', 'takes', 'place', 'after', 'edward', 'foolishly', 'tells', 'one', 'of', 'his', 'co', '-', 'workers', 'that', 'vivian', 'is', 'actually', 'a', 'prostitute', ',', 'and', 'he', 'then', 'approaches', 'her', ',', 'making', 'sexual', 'advances', '.', 'no', 'only', 'does', 'this', 'make', 'vivian', 'feel', 'cheap', ',', 'especially', 'since', 'she', 'had', 'previously', 'been', 'posing', 'as', 'a', 'more', 'professional', ',', 'eloquent', 'young', 'lady', ',', 'but', 'it', 'also', 'maddens', 'her', 'that', 'edward', 'would', 'demean', 'and', 'betray', 'her', 'in', 'such', 'a', 'way', ',', 'and', 'ultimately', 'causes', 'her', 'to', 'question', 'where', 'exactly', 'her', 'life', 'is', 'leading', ',', 'and', 'if', 'she', 'likes', 'this', 'particular', 'path', '.', 'on', 'the', 'more', 'dreamy', 'side', ',', 'the', 'film', 'is', 'filled', 'with', 'romantic', 'scenes', 'that', 'are', 'simply', 'effervescent', 'to', 'behold', ',', 'especially', 'one', 'in', 'which', 'edward', 'enters', 'into', 'the', 'hotel', \"'\", 's', 'lounge', 'to', 'see', 'vivian', 'turn', 'around', 'and', 'not', 'only', 'reveal', 'her', 'marvelous', 'cocktail', 'dress', ',', 'but', 'also', 'her', 'inner', '(', 'and', 'outer', ')', 'glowing', 'beauty', '.', 'another', 'subtle', 'moment', 'has', 'vivian', 'lovingly', 'blowing', 'a', 'kiss', 'to', 'edward', ',', 'who', 'is', 'asleep', ',', 'and', 'placing', 'it', 'on', 'his', 'lips', ',', 'since', 'she', 'still', 'is', 'unsure', 'if', 'she', 'should', 'be', 'getting', 'attached', 'to', 'this', 'man', 'who', 'may', 'very', 'well', 'be', 'out', 'of', 'her', 'life', 'forever', 'in', 'a', 'short', 'couple', 'of', 'days', '.', '\"', 'pretty', 'woman', '\"', 'does', 'not', 'blatantly', 'step', 'wrong', 'until', 'the', 'very', 'last', 'scene', ',', 'which', 'is', 'a', 'happy', 'ending', '(', 'as', 'you', \"'\", 'd', 'expect', ',', 'and', 'wouldn', \"'\", 't', 'have', 'it', 'any', 'other', 'way', ')', 'that', 'somehow', 'does', 'not', 'work', ',', 'perhaps', 'because', 'of', 'its', 'undeniable', 'contrivances', '.', 'this', 'one', 'misstep', 'does', 'not', 'put', 'a', 'damper', 'on', 'the', 'rest', 'of', 'the', 'film', ',', 'though', ',', 'because', 'there', 'is', 'just', 'far', 'too', 'much', 'magic', 'at', 'work', 'here', 'to', 'disaffirm', 'such', 'a', 'petty', 'problem', '.', 'helped', 'along', 'by', 'a', 'warm', ',', 'memorable', 'supporting', 'performance', 'from', 'laura', 'san', 'giacomo', ',', 'as', 'vivian', \"'\", 's', 'best', 'friend', 'and', 'roommate', ',', 'and', 'a', 'fabulously', 'catchy', 'soundtrack', ',', 'in', 'which', 'all', 'of', 'the', 'songs', 'prominently', 'aid', 'in', 'the', 'movie', \"'\", 's', 'overall', 'fulfillment', ',', '\"', 'pretty', 'woman', '\"', 'is', 'a', 'sparkler', 'of', 'a', 'motion', 'picture', ',', 'and', 'has', 'what', 'it', 'takes', 'to', 'act', 'as', 'a', 'blueprint', 'on', 'how', 'to', 'make', 'the', 'quintessential', 'romantic', 'comedy', '.'], 'pos')\n"
     ]
    },
    {
     "name": "stdout",
     "output_type": "stream",
     "text": [
      "[(',', 77717), ('the', 76529), ('.', 65876), ('a', 38106), ('and', 35576), ('of', 34123), ('to', 31937), (\"'\", 30585), ('is', 25195), ('in', 21822), ('s', 18513), ('\"', 17612), ('it', 16107), ('that', 15924), ('-', 15595)]\n",
      "253\n"
     ]
    }
   ],
   "source": [
    "import nltk\n",
    "import random\n",
    "from nltk.corpus import movie_reviews\n",
    "\n",
    "documents = [(list(movie_reviews.words(fileid)), category)\n",
    "             for category in movie_reviews.categories()\n",
    "             for fileid in movie_reviews.fileids(category)]\n",
    "\n",
    "random.shuffle(documents)\n",
    "\n",
    "print(documents[1])\n",
    "\n",
    "all_words = []\n",
    "for w in movie_reviews.words():\n",
    "    all_words.append(w.lower())\n",
    "\n",
    "all_words = nltk.FreqDist(all_words)\n",
    "print(all_words.most_common(15))\n",
    "print(all_words[\"stupid\"])"
   ]
  },
  {
   "cell_type": "markdown",
   "metadata": {},
   "source": [
    "In each category (we have pos or neg), take all of the file IDs (each review has its own ID), then store the word_tokenized version (a list of words) for the file ID, followed by the positive or negative label in one big list.\n",
    "\n",
    "Next, we use random to shuffle our documents. This is because we're going to be training and testing. If we left them in order, chances are we'd train on all of the negatives, some positives, and then test only against positives. We don't want that, so we shuffle the data.\n",
    "\n",
    "Then, just so you can see the data you are working with, we print out documents[1], which is a big list, where the first element is a list the words, and the 2nd element is the \"pos\" or \"neg\" label.\n",
    "\n",
    "Next, we want to collect all words that we find, so we can have a massive list of typical words. From here, we can perform a frequency distribution, to then find out the most common words. As you will see, the most popular \"words\" are actually things like punctuation, \"the,\" \"a\" and so on, but quickly we get to legitimate words. We intend to store a few thousand of the most popular words, so this shouldn't be a problem."
   ]
  },
  {
   "cell_type": "code",
   "execution_count": 7,
   "metadata": {
    "scrolled": true
   },
   "outputs": [
    {
     "name": "stdout",
     "output_type": "stream",
     "text": [
      "(['\"', '.', '.', 'it', \"'\", 's', 'certainly', 'more', 'than', 'just', 'a', 'monster', 'story', '.', '.', '\"', '-', 'kenneth', 'branagh', ',', 'director', '/', 'actor', '/', 'co', '-', 'writer', 'of', 'mary', 'shelley', \"'\", 's', 'frankenstein', '.', 'kenneth', 'branagh', \"'\", 's', 'new', 'motion', 'picture', 'had', 'to', 'compete', 'with', 'all', 'the', 'previous', 'frankenstein', '-', 'films', 'made', 'throughout', 'the', 'years', 'in', 'almost', 'every', 'part', 'of', 'the', 'world', ',', 'including', 'the', 'most', 'controversial', 'version', 'of', 'them', 'all', '-', 'directed', 'by', 'james', 'whale', '.', 'the', 'dark', 'and', 'stormy', 'nights', ',', 'the', 'lightning', 'bolts', ',', 'the', 'charnel', 'houses', 'of', 'spare', 'body', 'parts', ',', 'the', 'laboratory', 'where', 'victor', 'frankenstein', 'stirs', 'his', 'steaming', 'cauldron', 'of', 'life', 'are', 'effectful', '.', 'but', 'the', 'center', 'of', 'the', 'film', ',', 'quieter', 'and', 'more', 'thoughtful', ',', 'contains', 'the', 'real', 'story', '.', 'horror', '-', 'fans', 'will', 'probably', 'be', 'disappointed', 'by', 'the', 'total', 'lack', 'of', 'horror', '.', 'branagh', 'has', 'instead', 'concentrated', 'on', 'serious', 'issues', ':', 'morality', ',', 'philosophy', 'and', 'human', 'elements', 'of', 'the', 'story', ',', 'and', 'not', 'on', 'old', 'fashioned', 'horror', 'cliches', '.', 'his', 'version', 'is', 'much', 'closer', 'to', 'the', 'book', 'than', 'all', 'the', 'previous', 'adaptions', 'of', 'the', 'classic', 'novel', '.', 'the', 'film', 'begins', 'and', 'ends', 'somewhere', 'in', 'the', 'arctic', 'ocean', '.', 'the', 'year', 'is', '1794', '.', 'a', 'bold', 'captain', 'is', 'steering', 'his', 'ship', 'through', 'the', 'unknown', 'waters', '.', 'his', 'gole', 'is', 'to', 'reach', 'the', 'north', 'pole', 'at', 'all', 'costs', '.', 'as', 'the', 'ice', 'closes', 'around', 'his', 'ship', ',', 'a', 'figure', 'appears', 'on', 'the', 'horizon', '.', 'it', \"'\", 's', 'a', 'man', '.', 'exhausted', 'and', 'on', 'the', 'brink', 'of', 'death', 'he', 'approaches', 'the', 'frightening', 'crew', '.', 'his', 'name', 'is', 'victor', 'frankenstein', '(', 'kenneth', 'branagh', ')', 'and', 'his', 'story', 'is', 'so', 'terrifying', 'that', 'it', 'will', 'scare', 'everyone', 'from', 'venturing', 'into', 'the', 'unknown', '.', 'the', 'myserious', 'stranger', 'begins', 'his', 'tale', ',', 'or', 'more', 'precisely', 'his', 'confession', ',', 'in', 'geneva', ',', '1773', '.', 'he', 'is', 'remembering', 'his', 'childhood', 'and', 'youth', '.', 'laughter', ',', 'banquets', 'and', 'parties', '-', 'a', 'happy', 'life', ',', 'without', 'troubles', 'or', 'concerns', '.', 'here', 'victor', 'lived', 'with', 'his', 'father', '(', 'ian', 'holm', ')', ',', 'mother', '(', 'cherie', 'lunghi', ')', ',', 'his', 'surrogate', 'sister', '(', 'helena', 'boham', 'carter', ')', 'and', 'his', 'servants', 'in', 'happiness', 'and', 'harmony', '.', 'this', 'idyllic', 'lifestyle', 'is', 'suddenly', 'changed', '.', 'like', 'thunder', 'from', 'a', 'quite', 'sky', ',', 'his', 'mother', 'dies', ',', 'giving', 'birth', 'to', 'his', 'youngest', 'brother', '.', 'shocked', ',', 'baffled', 'and', 'then', 'gradually', 'changed', 'by', 'grief', 'and', 'despair', ',', 'victor', '(', 'already', 'interested', 'in', 'science', ')', 'becomes', 'obsessed', 'with', 'death', '.', 'standing', 'on', 'his', 'mother', \"'\", 's', 'grave', 'he', 'says', ':', '\"', 'oh', 'mother', '.', '.', 'you', 'did', 'not', 'have', 'to', 'die', '.', '.', '.', 'no', 'one', 'should', 'ever', 'die', '.', '.', '.', 'i', 'will', 'stop', 'this', '.', '.', 'i', 'promiss', '.', '.', '\"', 'after', 'proposing', 'marridge', 'to', 'his', 'surrogate', 'sister', 'and', 'promising', 'to', 'return', 'as', 'soon', 'as', 'his', 'studies', 'are', 'finished', ',', 'victor', 'travels', 'to', 'ingolstadt', ',', 'in', 'presuite', 'of', 'a', 'medical', 'career', '.', 'after', 'a', 'while', 'his', 'obsession', 'totally', 'overtakes', 'him', 'as', 'he', 'is', 'working', 'day', 'and', 'night', ',', 'creating', 'life', 'from', 'death', '.', 'composing', 'dead', 'bodies', ',', 'frankenstein', 'wanted', 'to', 'create', 'the', 'perfect', 'man', '-', 'both', 'physically', 'and', 'mentally', '.', 'with', 'strong', 'electrical', 'impulses', ',', 'he', 'managed', 'to', 'breeth', 'life', 'into', 'his', 'creation', '.', 'the', 'result', 'was', 'ugliness', '.', 'realizing', 'what', 'he', 'has', 'done', ',', 'frankenstein', 'tried', 'to', 'undo', 'his', 'work', ',', 'but', 'it', 'was', 'to', 'late', '.', 'the', 'creature', 'has', 'escaped', '.', 'because', 'of', 'the', 'epidemic', ',', 'frankenstein', 'hoped', 'that', 'his', 'creation', 'has', 'died', 'and', 'returned', 'to', 'his', 'home', ',', 'making', 'plans', 'for', 'the', 'wedding', '.', 'for', 'a', 'while', 'everything', 'is', 'as', 'it', 'was', 'before', 'his', 'mother', \"'\", 's', 'death', '.', 'but', 'then', 'one', 'by', 'one', 'his', 'loved', 'once', 'are', 'dying', 'mysteriously', '.', '.', '.', 'whale', \"'\", 's', 'picture', ',', 'although', 'powerful', ',', 'never', 'managed', 'to', 'capture', 'the', 'total', 'depth', 'of', 'the', 'novel', '.', 'brannagh', 'has', 'more', 'or', 'less', 'done', 'that', '.', 'another', 'thing', 'is', 'characters', 'and', 'actors', '.', 'branagh', 'has', 'developed', 'every', 'character', 'and', 'assembled', 'a', 'magnificent', 'cast', '.', 'the', 'greatest', 'performances', 'comes', 'from', 'de', 'niro', '-', 'the', 'monster', ',', 'that', 'has', 'been', 'played', 'by', '(', 'among', 'others', ')', 'charles', 'ogle', ',', 'karloff', ',', 'lon', 'chaney', ',', 'bela', 'lugosi', ',', 'glenn', 'strange', ',', 'christopher', 'lee', ',', 'fred', 'gwynne', '(', 'as', 'herman', 'munster', ')', ',', 'and', 'now', ',', 'robert', 'de', 'niro', '.', 'alone', ',', 'hated', 'and', 'feared', ',', 'he', 'is', 'completely', 'aware', 'of', 'his', 'ugliness', '.', 'at', 'first', 'he', 'is', 'like', 'a', 'helpless', ',', 'abandoned', 'child', ',', 'desperately', 'reaching', 'out', 'for', 'love', '.', 'later', 'when', 'he', 'reads', 'frankenstein', \"'\", 's', 'journal', ',', 'and', 'learns', 'that', 'he', 'is', 'composed', 'of', 'dead', 'bodies', ',', 'his', 'love', 'turns', 'into', 'rage', 'as', 'he', 'is', 'seeking', 'revenge', '.', 'he', 'is', 'capable', 'of', 'killing', 'without', 'regret', '.', '\"', 'i', 'took', 'him', 'by', 'the', 'throughout', 'and', 'lifted', 'him', 'off', 'the', 'ground', '.', '.', '.', '.', 'and', 'then', 'i', 'slowly', 'crushed', 'his', 'neck', '.', '.', '.', 'and', 'as', 'i', 'killed', 'him', ',', 'i', 'saw', 'your', 'face', '.', '.', '\"', 'that', 'is', 'how', 'he', 'reveals', 'his', 'savage', 'nature', 'to', 'his', 'creator', '.', 'and', 'yet', ',', 'he', 'is', 'never', 'quite', 'evil', 'in', 'our', 'eyes', 'and', 'his', 'vaulerbility', 'and', 'his', 'loneliness', 'are', 'palpable', ':', '\"', 'for', 'the', 'sympathy', 'of', 'one', 'living', 'being', 'i', 'would', 'make', 'peace', 'with', 'all', '.', '\"', 'rarely', 'has', 'a', 'cinematic', 'interpretation', 'of', '\"', 'the', 'daemon', '\"', 'approached', 'the', 'level', 'of', 'three', '-', 'dimensionality', 'and', 'humanity', 'with', 'which', 'it', 'is', 'portrayed', 'in', 'the', 'novel', '.', 'another', 'vital', 'thing', 'is', 'the', 'character', 'of', 'victor', 'frankenstein', '.', 'in', 'most', 'of', 'the', 'previous', 'adaptions', 'he', 'was', 'simply', 'a', 'mad', 'scientist', 'that', 'trolls', 'the', 'graveyards', 'for', 'corpses', 'and', 'then', 'creates', 'a', 'monster', '(', 'god', 'knows', 'why', '!', ')', 'with', 'the', 'power', 'of', 'an', 'electrical', 'storm', '.', 'almost', 'no', 'time', 'was', 'granted', 'on', 'his', 'charecter', ',', 'who', 'is', 'the', 'most', 'important', 'and', 'vital', 'charecter', 'in', 'the', 'novel', '.', 'here', ',', 'branagh', 'introduces', 'the', 'character', 'of', 'victor', 'frankenstein', ',', 'establishes', 'his', 'obsession', 'with', 'the', 'very', 'nature', 'of', 'life', 'and', 'death', ',', 'sets', 'up', 'the', 'intellectual', 'and', 'ideological', 'conflict', 'between', 'victor', 'and', 'the', 'academic', 'establishment', ',', 'and', 'somehow', 'manages', 'to', 'build', 'up', 'to', 'a', 'rousing', 'and', 'horrifying', 'creation', 'scene', '.', 'branagh', 'plays', 'frankenstein', 'with', 'a', 'remarkable', 'understanding', 'of', 'his', 'character', '.', 'on', 'the', 'outside', 'he', 'is', 'strong', ',', 'ambitious', 'and', 'talented', 'scientist', ',', 'but', 'deep', 'down', 'he', 'is', 'unsecure', ',', 'fragile', 'and', 'vaulerble', ',', 'constantly', 'haunted', 'by', 'the', 'ghosts', 'from', 'his', 'past', '.', 'helen', 'boham', 'carter', 'is', 'equally', 'wonderful', 'as', 'frankenstein', \"'\", 's', 'surrogate', 'sister', ',', 'who', 'at', 'the', 'end', 'becomes', 'his', 'wife', 'for', 'a', 'little', 'while', ',', 'before', 'death', 'drives', 'them', 'apart', '.', 'the', 'rest', 'of', 'the', 'cast', ',', 'playing', 'secondary', 'characters', ',', 'is', 'solid', 'and', 'nothing', 'less', 'than', 'convincing', '.', 'visually', 'the', 'film', 'is', 'stunning', '(', 'especially', 'the', 'makeup', ')', '.', 'the', 'spinning', 'camera', ',', 'the', 'constantly', 'building', '-', 'up', 'musical', 'acore', ',', 'the', 'art', 'direction', ',', 'the', 'production', 'design', ',', 'the', 'costumes', 'are', 'all', 'magnificent', ':', 'from', 'the', 'arctic', 'ocean', 'to', 'the', 'swiss', 'alps', 'and', 'dark', 'forests', ',', 'to', 'the', 'plague', '-', 'riddled', 'streets', 'of', 'ingolstadt', ',', 'mary', 'shelley', \"'\", 's', 'frankenstein', 'is', 'a', 'wonder', 'to', 'behold', '.', 'kenneth', 'branagh', 'directs', 'his', 'film', 'as', 'if', 'the', 'script', 'was', 'written', 'by', 'shakespeare', ':', '\"', '.', '.', 'all', 'i', 'once', 'loved', 'lies', 'in', 'a', 'shallow', 'grave', '.', '.', '.', '.', 'by', 'my', 'hand', '.', '.', '\"', '.', 'and', 'the', 'film', 'ends', 'exacly', 'as', 'hamlet', ',', 'when', 'the', 'creature', 'sets', 'both', 'his', 'and', 'his', 'creator', \"'\", 's', 'body', 'on', 'fire', '.', 'the', 'film', 'ends', 'with', 'frankenstein', 'and', 'his', 'creation', 'burning', 'in', 'the', 'almost', 'hellish', 'fire', 'in', 'the', 'darkness', '.', 'and', 'a', 'terrifying', 'last', 'close', '-', 'up', 'on', 'the', 'creature', \"'\", 's', 'smiling', 'face', '.', 'can', 'a', 'man', 'create', 'life', ',', 'then', 'abandon', 'his', 'creation', 'because', 'its', 'appearance', 'horrifies', 'him', '?', 'to', 'whom', 'are', 'its', 'actions', 'then', 'attributable', ':', 'the', 'creature', 'or', 'the', 'being', 'who', 'brought', 'about', 'its', 'existence', '?', 'shelley', 'did', 'not', 'answer', 'these', 'questions', ',', 'but', 'she', 'certainly', 'posed', 'them', '.', 'following', 'her', 'example', ',', 'branagh', 'does', 'the', 'same', '.', 'his', 'film', 'is', 'a', 'tragic', 'saga', 'about', 'playing', 'god', '.', 'victor', 'frankenstein', 'is', 'not', 'an', 'evil', 'man', '.', 'he', 'wanted', 'to', 'change', 'the', 'world', 'to', 'the', 'better', '.', 'in', 'this', 'he', 'represents', 'everything', 'science', 'stands', 'for', ':', 'acting', 'without', 'doubts', ',', 'never', 'considering', 'the', 'consequences', 'of', 'his', 'actions', '.', 'produced', 'by', 'francis', 'ford', 'coppola', ',', 'frankenstein', 'resembles', 'in', 'some', 'respects', 'coppolas', 'previous', 'film', '\"', 'dracula', '\"', '.', 'in', 'comparison', ',', 'i', 'can', 'say', 'that', '\"', 'dracula', '\"', 'has', 'visuals', 'that', 'even', '\"', 'frankenstein', '\"', 'can', 'not', 'live', 'up', 'to', '.', 'but', 'when', 'it', 'comes', 'to', 'story', ',', 'characters', 'and', 'casting', ',', '\"', 'frankenstein', '\"', 'is', 'stronger', '.', 'but', 'stronger', 'than', 'both', 'of', 'them', ',', 'on', 'every', 'aspect', ',', 'is', 'neil', 'jordan', \"'\", 's', '\"', 'interview', 'with', 'the', 'vampire', '\"', '.', 'although', 'the', 'film', 'is', 'not', 'perfect', '(', 'the', 'camera', 'that', 'simply', 'refuses', 'to', 'stay', 'still', 'and', 'the', 'occasionally', 'pushy', 'score', 'are', 'at', 'times', 'more', 'tiering', 'than', 'effective', ')', ',', 'these', 'minor', 'faults', 'are', 'easily', 'forgivable', ',', 'as', 'the', 'picture', 'is', 'otherwise', 'captivating', 'and', 'stimulating', '.', 'branagh', 'has', 'probably', 'created', 'one', 'of', 'the', 'best', '(', 'if', 'not', 'the', 'best', ')', 'adaptions', 'of', 'shelly', \"'\", 's', 'classic', 'novel', '.'], 'pos')\n"
     ]
    },
    {
     "name": "stdout",
     "output_type": "stream",
     "text": [
      "[(',', 77717), ('the', 76529), ('.', 65876), ('a', 38106), ('and', 35576), ('of', 34123), ('to', 31937), (\"'\", 30585), ('is', 25195), ('in', 21822), ('s', 18513), ('\"', 17612), ('it', 16107), ('that', 15924), ('-', 15595)]\n",
      "253\n",
      "[(',', 77717), ('the', 76529), ('.', 65876), ('a', 38106), ('and', 35576), ('of', 34123), ('to', 31937), (\"'\", 30585), ('is', 25195), ('in', 21822), ('s', 18513), ('\"', 17612), ('it', 16107), ('that', 15924), ('-', 15595)]\n",
      "=================================splitter===================================\n",
      "253\n"
     ]
    }
   ],
   "source": [
    "import nltk\n",
    "import random\n",
    "from nltk.corpus import movie_reviews\n",
    "\n",
    "documents = [(list(movie_reviews.words(fileid)), category)\n",
    "             for category in movie_reviews.categories()\n",
    "             for fileid in movie_reviews.fileids(category)]\n",
    "\n",
    "random.shuffle(documents)\n",
    "\n",
    "print(documents[1])\n",
    "\n",
    "all_words = []\n",
    "for w in movie_reviews.words():\n",
    "    all_words.append(w.lower())\n",
    "\n",
    "all_words = nltk.FreqDist(all_words)\n",
    "print(all_words.most_common(15))\n",
    "print(all_words[\"stupid\"])\n",
    "\n",
    "documents = [(list(movie_reviews.words(fileid)), category)\n",
    "             for category in movie_reviews.categories()\n",
    "             for fileid in movie_reviews.fileids(category)]\n",
    "\n",
    "print(all_words.most_common(15))\n",
    "print(\"=================================splitter===================================\")\n",
    "print(all_words[\"stupid\"])"
   ]
  },
  {
   "cell_type": "code",
   "execution_count": null,
   "metadata": {},
   "outputs": [],
   "source": [
    "The above gives the 15 most common words, also find out how many occurences a word of \"stupid\""
   ]
  }
 ],
 "metadata": {
  "celltoolbar": "Edit Metadata",
  "kernelspec": {
   "display_name": "Python 3",
   "language": "python",
   "name": "python3"
  },
  "language_info": {
   "codemirror_mode": {
    "name": "ipython",
    "version": 3
   },
   "file_extension": ".py",
   "mimetype": "text/x-python",
   "name": "python",
   "nbconvert_exporter": "python",
   "pygments_lexer": "ipython3",
   "version": "3.6.3"
  }
 },
 "nbformat": 4,
 "nbformat_minor": 2
}
