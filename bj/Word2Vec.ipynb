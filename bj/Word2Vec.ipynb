{
 "cells": [
  {
   "cell_type": "markdown",
   "metadata": {},
   "source": [
    "https://radimrehurek.com/gensim/models/word2vec.html\n",
    "\n",
    "https://www.youtube.com/watch?v=thLzt3D-A10\n",
    "\n",
    "https://www.youtube.com/watch?v=5PL0TmQhItY"
   ]
  },
  {
   "cell_type": "code",
   "execution_count": null,
   "metadata": {
    "collapsed": true
   },
   "outputs": [],
   "source": [
    "import os\n",
    "import pandas as pd\n",
    "import nltk\n",
    "import gensim\n",
    "from gensim import corpora, models, similarities"
   ]
  },
  {
   "cell_type": "code",
   "execution_count": 2,
   "metadata": {},
   "outputs": [],
   "source": [
    "with open('nltk_positive.txt') as f:\n",
    "    corpus1 = f.readlines()\n",
    "    \n",
    "with open('nltk_negative.txt') as f:\n",
    "    corpus2 = f.readlines()\n",
    "\n",
    "corpus = corpus1 + corpus2\n",
    "\n",
    "tok_corp = [nltk.word_tokenize(sent) for sent in corpus]"
   ]
  },
  {
   "cell_type": "code",
   "execution_count": 3,
   "metadata": {},
   "outputs": [
    {
     "data": {
      "text/plain": [
       "10662"
      ]
     },
     "execution_count": 3,
     "metadata": {},
     "output_type": "execute_result"
    }
   ],
   "source": [
    "len(corpus)"
   ]
  },
  {
   "cell_type": "code",
   "execution_count": 4,
   "metadata": {
    "collapsed": true
   },
   "outputs": [],
   "source": [
    "import nltk\n",
    "from nltk.corpus import movie_reviews"
   ]
  },
  {
   "cell_type": "code",
   "execution_count": 5,
   "metadata": {
    "collapsed": true
   },
   "outputs": [],
   "source": [
    "documents = [(list(movie_reviews.words(fileid)))\n",
    "                for category in movie_reviews.categories()\n",
    "                    for fileid in movie_reviews.fileids(category)]"
   ]
  },
  {
   "cell_type": "code",
   "execution_count": 6,
   "metadata": {},
   "outputs": [
    {
     "data": {
      "text/plain": [
       "2000"
      ]
     },
     "execution_count": 6,
     "metadata": {},
     "output_type": "execute_result"
    }
   ],
   "source": [
    "len(documents)"
   ]
  },
  {
   "cell_type": "code",
   "execution_count": 7,
   "metadata": {},
   "outputs": [],
   "source": [
    "tok_corp += documents"
   ]
  },
  {
   "cell_type": "code",
   "execution_count": 8,
   "metadata": {},
   "outputs": [
    {
     "data": {
      "text/plain": [
       "12662"
      ]
     },
     "execution_count": 8,
     "metadata": {},
     "output_type": "execute_result"
    }
   ],
   "source": [
    "len(tok_corp)"
   ]
  },
  {
   "cell_type": "code",
   "execution_count": 9,
   "metadata": {},
   "outputs": [],
   "source": [
    "model = gensim.models.Word2Vec(documents, min_count=1, window=5, size = 50)\n",
    "#model.save('testmodel')\n",
    "#model = gensim.models.Word2Vec.load('test_model')\n",
    "#model.most_similar('word')\n",
    "#model.most_similar([vector])"
   ]
  },
  {
   "cell_type": "code",
   "execution_count": 10,
   "metadata": {},
   "outputs": [
    {
     "name": "stderr",
     "output_type": "stream",
     "text": [
      "C:\\Users\\iambj\\AppData\\Local\\conda\\conda\\envs\\nltk\\lib\\site-packages\\ipykernel_launcher.py:1: DeprecationWarning: Call to deprecated `most_similar` (Method will be removed in 4.0.0, use self.wv.most_similar() instead).\n",
      "  \"\"\"Entry point for launching an IPython kernel.\n"
     ]
    },
    {
     "data": {
      "text/plain": [
       "[('girl', 0.9351904392242432),\n",
       " ('man', 0.9272058010101318),\n",
       " ('child', 0.8943281173706055),\n",
       " ('boy', 0.8907212018966675),\n",
       " ('doctor', 0.8300577402114868),\n",
       " ('son', 0.8168326616287231),\n",
       " ('killer', 0.8162667751312256),\n",
       " ('father', 0.8141521215438843),\n",
       " ('mother', 0.8136352896690369),\n",
       " ('kid', 0.7993451356887817)]"
      ]
     },
     "execution_count": 10,
     "metadata": {},
     "output_type": "execute_result"
    }
   ],
   "source": [
    "model.most_similar('woman')"
   ]
  },
  {
   "cell_type": "code",
   "execution_count": 11,
   "metadata": {},
   "outputs": [
    {
     "name": "stderr",
     "output_type": "stream",
     "text": [
      "C:\\Users\\iambj\\AppData\\Local\\conda\\conda\\envs\\nltk\\lib\\site-packages\\ipykernel_launcher.py:1: DeprecationWarning: Call to deprecated `most_similar` (Method will be removed in 4.0.0, use self.wv.most_similar() instead).\n",
      "  \"\"\"Entry point for launching an IPython kernel.\n"
     ]
    },
    {
     "data": {
      "text/plain": [
       "[('woman', 0.9272058010101318),\n",
       " ('girl', 0.8811298608779907),\n",
       " ('boy', 0.8585867881774902),\n",
       " ('killer', 0.8413604497909546),\n",
       " ('child', 0.8212050199508667),\n",
       " ('kid', 0.790278971195221),\n",
       " ('guy', 0.7626290321350098),\n",
       " ('cop', 0.749203085899353),\n",
       " ('doctor', 0.7423938512802124),\n",
       " ('person', 0.7416951656341553)]"
      ]
     },
     "execution_count": 11,
     "metadata": {},
     "output_type": "execute_result"
    }
   ],
   "source": [
    "model.most_similar('man')"
   ]
  },
  {
   "cell_type": "code",
   "execution_count": 12,
   "metadata": {},
   "outputs": [
    {
     "data": {
      "text/plain": [
       "array([ 0.26336229, -2.31263089, -1.55409157,  0.41297123,  0.69565392,\n",
       "       -1.35147011,  0.71340728, -1.02190351,  1.44280148, -0.78659517,\n",
       "        0.34940746, -1.08159721,  1.71010303,  0.99716991, -0.21893212,\n",
       "        0.93264985, -1.35466397, -0.89639419,  0.01004144,  1.08921981,\n",
       "       -0.63130969,  3.46968079, -0.08500274,  0.91726804,  0.7619313 ,\n",
       "        1.48262227,  0.54515338, -0.88034886,  0.0935104 , -1.55379963,\n",
       "       -1.37845397,  0.77764159,  0.70372128,  1.98551333, -0.14177682,\n",
       "        0.32662141, -0.99814177,  0.89547008, -0.69929993, -1.7069484 ,\n",
       "       -1.08054411,  0.75561386, -0.96529508, -0.09019417,  2.26309013,\n",
       "        0.94892997,  0.12115491, -0.44527739, -0.26729962,  1.13531959], dtype=float32)"
      ]
     },
     "execution_count": 12,
     "metadata": {},
     "output_type": "execute_result"
    }
   ],
   "source": [
    "model.wv['woman']"
   ]
  },
  {
   "cell_type": "code",
   "execution_count": 13,
   "metadata": {},
   "outputs": [
    {
     "data": {
      "text/plain": [
       "array([ 0.26636484, -2.37495017, -0.78144431, -0.13405554,  0.90029329,\n",
       "       -2.35659575,  1.1878233 , -1.25166225,  1.20197582, -0.78968012,\n",
       "        0.43674031, -0.84171158,  1.9595809 ,  0.23653767,  0.07628018,\n",
       "        2.02531958, -0.97755498, -0.35044846, -0.65321964,  2.19328666,\n",
       "       -0.63200814,  4.32591677, -0.56475985,  0.68680483,  0.73632491,\n",
       "        1.94764566,  0.74946707, -1.05029714,  0.62504625, -2.35694718,\n",
       "       -1.26270843,  1.71966052,  1.15438855,  2.77386403, -0.51595294,\n",
       "        0.25415584, -0.9590475 ,  1.89425111, -1.26378083, -0.92243314,\n",
       "       -0.72668105,  0.89648485, -0.30360031,  0.45152327,  2.43171072,\n",
       "        0.13270339,  0.01142177, -0.14526343, -0.21259809,  1.49337089], dtype=float32)"
      ]
     },
     "execution_count": 13,
     "metadata": {},
     "output_type": "execute_result"
    }
   ],
   "source": [
    "model.wv['man']"
   ]
  },
  {
   "cell_type": "code",
   "execution_count": 14,
   "metadata": {},
   "outputs": [
    {
     "data": {
      "text/plain": [
       "[('queen', 0.9189285039901733),\n",
       " ('freddie', 0.8885049819946289),\n",
       " ('jane', 0.8880370855331421),\n",
       " ('fonda', 0.8853460550308228),\n",
       " ('captain', 0.8842428922653198),\n",
       " ('jay', 0.8820372223854065),\n",
       " ('lapage', 0.8775780200958252),\n",
       " ('diaz', 0.8766645193099976),\n",
       " ('hall', 0.8764651417732239),\n",
       " ('williams', 0.875653088092804)]"
      ]
     },
     "execution_count": 14,
     "metadata": {},
     "output_type": "execute_result"
    }
   ],
   "source": [
    "model.wv.most_similar(positive=['woman', 'king'], negative=['man'])"
   ]
  },
  {
   "cell_type": "code",
   "execution_count": 15,
   "metadata": {},
   "outputs": [
    {
     "data": {
      "text/plain": [
       "[('queen', 1.0448578596115112),\n",
       " ('lapage', 1.0436986684799194),\n",
       " ('freddie', 1.0342475175857544),\n",
       " ('williams', 1.0305020809173584),\n",
       " ('fonda', 1.0272701978683472),\n",
       " ('jane', 1.026904821395874),\n",
       " ('jay', 1.0256062746047974),\n",
       " ('diaz', 1.0255537033081055),\n",
       " ('jr', 1.0231263637542725),\n",
       " ('jessica', 1.0220378637313843)]"
      ]
     },
     "execution_count": 15,
     "metadata": {},
     "output_type": "execute_result"
    }
   ],
   "source": [
    "model.wv.most_similar_cosmul(positive=['woman', 'king'], negative=['man'])"
   ]
  },
  {
   "cell_type": "code",
   "execution_count": 16,
   "metadata": {},
   "outputs": [
    {
     "data": {
      "text/plain": [
       "'cereal'"
      ]
     },
     "execution_count": 16,
     "metadata": {},
     "output_type": "execute_result"
    }
   ],
   "source": [
    "model.wv.doesnt_match(\"breakfast cereal dinner lunch\".split())"
   ]
  },
  {
   "cell_type": "code",
   "execution_count": null,
   "metadata": {
    "collapsed": true
   },
   "outputs": [],
   "source": []
  }
 ],
 "metadata": {
  "kernelspec": {
   "display_name": "Python 3",
   "language": "python",
   "name": "python3"
  },
  "language_info": {
   "codemirror_mode": {
    "name": "ipython",
    "version": 3
   },
   "file_extension": ".py",
   "mimetype": "text/x-python",
   "name": "python",
   "nbconvert_exporter": "python",
   "pygments_lexer": "ipython3",
   "version": "3.6.2"
  }
 },
 "nbformat": 4,
 "nbformat_minor": 2
}
