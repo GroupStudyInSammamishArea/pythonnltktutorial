{
 "cells": [
  {
   "cell_type": "code",
   "execution_count": 1,
   "metadata": {},
   "outputs": [],
   "source": [
    "from sklearn.feature_extraction.text import TfidfVectorizer, CountVectorizer\n",
    "from sklearn.decomposition import NMF, LatentDirichletAllocation\n",
    "from sklearn.datasets import fetch_20newsgroups\n",
    "import pickle"
   ]
  },
  {
   "cell_type": "code",
   "execution_count": 2,
   "metadata": {},
   "outputs": [],
   "source": [
    "n_samples = 2000\n",
    "n_features = 1000\n",
    "n_topics = 10\n",
    "n_components = n_topics\n",
    "n_top_words = 20"
   ]
  },
  {
   "cell_type": "code",
   "execution_count": 3,
   "metadata": {
    "collapsed": true
   },
   "outputs": [],
   "source": [
    "def print_top_words(model, feature_names, n_top_words):\n",
    "    for topic_idx, topic in enumerate(model.components_):\n",
    "        message = \"Topic #%d: \" % topic_idx\n",
    "        message += \" \".join([feature_names[i]\n",
    "                             # for i in topic.argsort()[:-n_top_words - 1:-1]])\n",
    "                             for i in topic.argsort()[-n_top_words - 1:-1]])        \n",
    "        print(message)\n",
    "    print()"
   ]
  },
  {
   "cell_type": "code",
   "execution_count": 4,
   "metadata": {},
   "outputs": [],
   "source": [
    "dataset = fetch_20newsgroups(shuffle=True, random_state=1,\n",
    "                            remove=('headers', 'footers', 'quotes'))\n",
    "data_samples = dataset.data[:n_samples]"
   ]
  },
  {
   "cell_type": "code",
   "execution_count": 5,
   "metadata": {
    "collapsed": true
   },
   "outputs": [],
   "source": [
    "tfidf_vectorizer = CountVectorizer(max_df=0.95, min_df=2, \n",
    "                                max_features=n_features, \n",
    "                                stop_words='english')\n",
    "\n",
    "tfidf = tfidf_vectorizer.fit_transform(data_samples)"
   ]
  },
  {
   "cell_type": "code",
   "execution_count": 6,
   "metadata": {},
   "outputs": [
    {
     "name": "stdout",
     "output_type": "stream",
     "text": [
      "Fitting LDA models with tf features\n"
     ]
    },
    {
     "name": "stderr",
     "output_type": "stream",
     "text": [
      "C:\\Users\\iambj\\AppData\\Local\\conda\\conda\\envs\\nltk\\lib\\site-packages\\sklearn\\decomposition\\online_lda.py:294: DeprecationWarning: n_topics has been renamed to n_components in version 0.19 and will be removed in 0.21\n",
      "  DeprecationWarning)\n"
     ]
    },
    {
     "name": "stdout",
     "output_type": "stream",
     "text": [
      "\n",
      "Topics in LDA model:\n",
      "Topic #0: research anonymous program data sun message cs ca faq list information contact available pub university ftp graphics send mail com\n",
      "Topic #1: let work bit got need ll point good want right make sure going think just use way ve know like\n",
      "Topic #2: point book later faith does religion time state went know life christian don read just people believe bible jesus think\n",
      "Topic #3: bios rom new help 16 scsi problem dos using software file use hard thanks pc drives card version windows disk\n",
      "Topic #4: national school red low million dr test care dc cost 10 speed new medical years 1993 disease aids hiv health\n",
      "Topic #5: mind matter thing men case doesn jews way did fact time things want israel make good don say does just\n",
      "Topic #6: flyers 16 21 14 22 23 17 period 25 20 play 12 19 13 team 15 game 18 11 10\n",
      "Topic #7: company numbers hit actually 500 model thing cubs don insurance cars bike engine think better new like good just year\n",
      "Topic #8: called says told thought think right old years say don took left children know time didn did like just said\n",
      "Topic #9: new energy enforcement shall keys moon person control church states security used section encryption earth public use space government key\n",
      "\n"
     ]
    }
   ],
   "source": [
    "# Fit the LDA model\n",
    "print(\"Fitting LDA models with tf features\")\n",
    "\n",
    "lda = LatentDirichletAllocation(n_topics=n_topics, max_iter=5, \n",
    "                               learning_method='online', learning_offset=5,\n",
    "                               random_state=0)\n",
    "lda.fit(tfidf)\n",
    "\n",
    "print(\"\\nTopics in LDA model:\")\n",
    "tfidf_feature_names = tfidf_vectorizer.get_feature_names()\n",
    "print_top_words(lda, tfidf_feature_names, n_top_words)"
   ]
  },
  {
   "cell_type": "code",
   "execution_count": 7,
   "metadata": {},
   "outputs": [
    {
     "data": {
      "text/plain": [
       "array([[  2.96498777,   3.80509664,  12.58672843, ...,   0.634946  ,\n",
       "          0.83225164,   0.14150743],\n",
       "       [  0.11060803,   0.10390246,   4.47412157, ...,  30.27157747,\n",
       "         52.90470471,   0.10107614],\n",
       "       [  0.14274731,   0.11671734,   0.29606627, ...,   9.07623012,\n",
       "         17.55213017,   0.10324781],\n",
       "       ..., \n",
       "       [  6.1066453 ,  33.00823521,   9.46750063, ...,  30.33155237,\n",
       "          0.50597395,   0.10109233],\n",
       "       [  0.10648207,  63.23248969,  15.10528685, ...,  85.35526087,\n",
       "         14.16544921,   0.15038472],\n",
       "       [  1.5087933 ,   0.11818876,   4.72361323, ...,  25.79758316,\n",
       "          0.10189482,   0.10094303]])"
      ]
     },
     "execution_count": 7,
     "metadata": {},
     "output_type": "execute_result"
    }
   ],
   "source": [
    "lda.components_"
   ]
  },
  {
   "cell_type": "code",
   "execution_count": 8,
   "metadata": {},
   "outputs": [
    {
     "name": "stdout",
     "output_type": "stream",
     "text": [
      "Fitting the NMF model (Frobenius norm) with tf-idf features\n",
      "\n",
      "Topics in NMF model (Frobenius norm):\n",
      "Topic #0: format package cs archive images image file files amiga objects server com ftp 3d 128 send ray mail pub graphics\n",
      "Topic #1: high includes data transfer __ speed heads systems interface 16 floppy supports card feature controller rom drive bios hard drives\n",
      "Topic #2: woman time did happened started took building come apartment like going came think went mamma don just know said didn\n",
      "Topic #3: 24 23 31 38 51 32 21 86 40 28 75 70 60 42 van 36 44 48 66 72\n",
      "Topic #4: dr page 20 number service study national april information research 10 1993 disease new medical children said care health aids\n",
      "Topic #5: program theory sun purpose phone ibm commercial general mac dos math available anonymous pc ftp edu comments type contact machines\n",
      "Topic #6: business authority code law designed act state following device use means application division person dangerous shall license military weapon firearm\n",
      "Topic #7: data information similar years land 10 attempt spacecraft images solar soviet mission earth orbit probes moon surface lunar mars space\n",
      "Topic #8: cars better point make tires people don new work does brake oil dot use just like time good god xfree86\n",
      "Topic #9: 29 goal 12 13 24 38 14 25 15 17 play 16 26 19 flyers 18 shots pp period 11\n",
      "\n"
     ]
    }
   ],
   "source": [
    "# Fit the NMF model\n",
    "print(\"Fitting the NMF model (Frobenius norm) with tf-idf features\")\n",
    "\n",
    "nmf = NMF(n_components=n_components, random_state=1,\n",
    "          alpha=.1, l1_ratio=.5)\n",
    "nmf.fit(tfidf)\n",
    "\n",
    "print(\"\\nTopics in NMF model (Frobenius norm):\")\n",
    "tfidf_feature_names = tfidf_vectorizer.get_feature_names()\n",
    "print_top_words(nmf, tfidf_feature_names, n_top_words)"
   ]
  },
  {
   "cell_type": "code",
   "execution_count": 9,
   "metadata": {},
   "outputs": [
    {
     "name": "stdout",
     "output_type": "stream",
     "text": [
      "Fitting the NMF model (generalized Kullback-Leibler divergence)\n",
      "\n",
      "Topics in NMF model (generalized Kullback-Leibler divergence):\n",
      "Topic #0: list ftp message email image server using computer files pub stuff help use file graphics send windows thanks mail com\n",
      "Topic #1: printer supports interface memory board feature high floppy use bios rom 16 power controller scsi speed drives card disk hard\n",
      "Topic #2: says things old want say right come got time ll ve didn said think going did like don know just\n",
      "Topic #3: 50 30 24 26 13 21 23 19 17 22 40 16 00 12 18 25 20 15 11 55\n",
      "Topic #4: number insurance cost american greek aids information states president care 1993 time health year children national research hiv 000 public\n",
      "Topic #5: current anonymous written runs ftp ibm edu university comments dos machines phone software mac program contact number pc available type\n",
      "Topic #6: act shall following military weapons control gun means clipper keys encryption person section chip israel used state use government key\n",
      "Topic #7: sci high book mars nasa energy books launch data orbit low mission year lunar science probe surface moon years earth\n",
      "Topic #8: jesus thing different really doesn say car know better believe time point make way don think just like does god\n",
      "Topic #9: teams mark leafs record nhl power second got players points games goal gm season win flyers year period play team\n",
      "\n"
     ]
    }
   ],
   "source": [
    "# Fit the NMF model with Kullback-Leibler\n",
    "print(\"Fitting the NMF model (generalized Kullback-Leibler divergence)\")\n",
    "\n",
    "nmf = NMF(n_components=n_components, random_state=1,\n",
    "          beta_loss='kullback-leibler', solver='mu', max_iter=1000, alpha=.1,\n",
    "          l1_ratio=.5)\n",
    "nmf.fit(tfidf)\n",
    "\n",
    "print(\"\\nTopics in NMF model (generalized Kullback-Leibler divergence):\")\n",
    "tfidf_feature_names = tfidf_vectorizer.get_feature_names()\n",
    "print_top_words(nmf, tfidf_feature_names, n_top_words)\n"
   ]
  },
  {
   "cell_type": "code",
   "execution_count": null,
   "metadata": {
    "collapsed": true
   },
   "outputs": [],
   "source": []
  }
 ],
 "metadata": {
  "kernelspec": {
   "display_name": "Python 3",
   "language": "python",
   "name": "python3"
  },
  "language_info": {
   "codemirror_mode": {
    "name": "ipython",
    "version": 3
   },
   "file_extension": ".py",
   "mimetype": "text/x-python",
   "name": "python",
   "nbconvert_exporter": "python",
   "pygments_lexer": "ipython3",
   "version": "3.6.2"
  }
 },
 "nbformat": 4,
 "nbformat_minor": 2
}
