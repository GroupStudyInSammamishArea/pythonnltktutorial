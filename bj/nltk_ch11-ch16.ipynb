{
 "cells": [
  {
   "cell_type": "code",
   "execution_count": 2,
   "metadata": {
    "collapsed": true
   },
   "outputs": [],
   "source": [
    "import nltk\n",
    "import random\n",
    "from nltk.corpus import movie_reviews"
   ]
  },
  {
   "cell_type": "code",
   "execution_count": 3,
   "metadata": {
    "collapsed": true
   },
   "outputs": [],
   "source": [
    "documents = [(list(movie_reviews.words(fileid)), category)\n",
    "                for category in movie_reviews.categories()\n",
    "                    for fileid in movie_reviews.fileids(category)]"
   ]
  },
  {
   "cell_type": "code",
   "execution_count": 4,
   "metadata": {
    "collapsed": true
   },
   "outputs": [],
   "source": [
    "random.shuffle(documents)"
   ]
  },
  {
   "cell_type": "code",
   "execution_count": 5,
   "metadata": {},
   "outputs": [
    {
     "name": "stdout",
     "output_type": "stream",
     "text": [
      "(['john', 'cusack', 'is', 'the', 'kind', 'of', 'actor', 'who', 'seems', 'to', 'effortlessly', 'slide', 'into', 'his', 'respective', 'film', 'roles', '.', 'so', 'effortlessly', 'that', 'people', 'tend', 'to', 'forget', 'he', \"'\", 's', 'there', ',', 'much', 'in', 'the', 'way', 'people', 'rarely', 'recall', 'many', 'of', 'the', 'great', 'character', 'actors', '(', 'anyone', 'who', 'can', 'put', 'the', 'name', 'james', 'rebhorn', 'with', 'that', 'actor', \"'\", 's', 'face', 'is', 'invited', 'to', 'treat', 'themselves', 'to', 'a', 'product', 'from', 'one', 'of', 'my', 'sponsors', ')', '.', 'example', ':', 'the', 'other', 'day', 'my', 'mother', 'asked', 'me', '(', 'the', 'expert', ',', 'of', 'course', ')', 'if', 'there', 'were', 'any', 'movies', 'out', 'worth', 'seeing', ',', 'never', 'mind', 'that', 'our', 'tastes', 'couldn', \"'\", 't', 'be', 'more', 'divergent', '---', 'i', \"'\", 'll', 'never', 'forget', 'the', 'day', 'she', 'recommended', 'that', 'i', 'go', 'see', 'a', 'night', 'at', 'the', 'roxbury', 'for', 'god', 'sakes', ',', 'and', 'to', 'be', 'fair', 'she', 'was', 'mightily', 'pissed', 'at', 'me', 'for', 'telling', 'her', 'that', 'go', '!', 'was', 'a', 'lot', 'of', 'fun', '(', 'which', 'it', 'is', ')', ',', 'so', 'i', 'didn', \"'\", 't', 'see', 'this', 'as', 'anything', 'more', 'than', 'a', 'futile', 'attempt', 'at', 'conversation', '.', 'i', 'muttered', ',', 'with', 'a', 'little', 'trepidation', ',', 'that', 'she', 'might', 'enjoy', 'high', 'fidelity', '.', 'she', 'responded', 'with', 'her', 'usual', 'query', ',', '\"', 'whose', 'in', 'that', 'one', '?', '\"', 'this', 'is', 'a', 'question', 'whose', 'answer', 'that', 'seems', 'to', 'immediately', 'conjure', 'up', 'the', 'kind', 'of', 'movie', 'you', 'went', 'to', 'see', '.', 'if', 'the', 'reply', 'is', 'julia', 'roberts', 'you', 'probably', 'assume', 'it', 'was', 'something', 'wispy', 'and', 'light', ',', 'a', 'sylvester', 'stallone', 'movie', 'and', 'you', 'picture', 'a', 'bloodbath', 'with', 'few', 'words', 'and', 'much', 'involuntary', 'bicep', 'flexing', ',', 'and', 'a', 'woody', 'allen', 'movie', 'means', 'hyper', 'articulate', 'white', 'people', '(', 'usually', 'of', 'the', 'jewish', 'faith', ')', 'fretting', 'about', 'in', 'some', 'upper', 'east', 'side', 'palace', '.', 'anyway', ',', 'when', 'i', 'answered', '\"', 'john', 'cusack', '\"', ',', 'she', 'replied', 'with', 'a', 'rather', 'stunned', '\"', 'who', '?', '\"', ',', 'as', 'if', 'it', 'was', 'unreasonable', 'for', 'her', 'to', 'know', 'whom', 'i', 'was', 'referring', 'to', '.', 'now', 'i', 'know', 'for', 'a', 'fact', 'that', 'my', 'mother', 'has', 'seen', 'several', 'cusack', 'movies', ',', 'most', 'recently', 'being', 'john', 'malkovich', 'and', 'pushing', 'tin', ',', 'but', 'i', 'suppose', 'it', \"'\", 's', 'understandable', 'that', 'she', 'would', 'not', 'recognize', 'the', 'name', ',', 'after', 'all', ',', 'for', 'most', ',', 'names', 'are', 'tougher', 'than', 'faces', '.', 'i', 'showed', 'her', 'a', 'picture', 'of', 'cusack', \"'\", 's', 'mug', 'in', 'the', 'paper', 'hoping', 'for', 'an', '\"', 'oh', '-', 'him', ',', 'yes', 'he', \"'\", 's', 'quite', 'good', '\"', 'instead', 'i', 'got', 'a', '\"', 'no', '-', 'i', 'don', \"'\", 't', 'know', 'him', '\"', '.', 'at', 'this', 'point', 'i', 'was', 'way', 'beyond', 'frustration', 'into', 'a', 'realm', 'of', 'nose', 'hair', 'yanking', 'anger', '(', 'yes', ',', 'filmic', 'ignorance', 'is', 'all', 'it', 'takes', 'to', 'get', 'me', 'into', 'the', 'nose', 'hair', 'pulling', 'zone', ')', ',', 'till', 'i', 'realized', 'something', ':', 'i', 'doubt', 'that', 'much', 'of', 'america', 'would', 'recognize', 'cusack', \"'\", 's', 'relatively', 'bland', 'visage', ',', 'or', 'even', 'the', 'name', 'which', 'is', 'rather', 'bland', 'compared', 'to', 'the', 'coolness', 'of', 'a', 'brad', 'pitt', 'or', 'tom', 'cruise', ',', 'one', '-', 'syllable', 'names', 'that', 'glide', 'off', 'the', 'tongue', 'with', 'the', 'velocity', 'of', 'a', 'speeding', 'car', '.', 'cu', '-', 'sack', '.', 'cu', '-', 'sack', '-', 'no', ',', 'not', 'quite', 'as', 'cool', '.', 'i', \"'\", 'm', 'sure', 'that', 'twenty', 'years', 'from', 'now', 'cusack', 'will', 'forever', 'be', 'referred', 'to', 'as', '\"', 'the', 'guy', 'from', '(', 'add', 'in', 'the', 'cusack', 'film', 'of', 'your', 'choice', ')', '\"', '.', 'he', \"'\", 's', 'not', 'a', 'brand', 'name', ',', 'and', 'his', 'movies', 'usually', 'aren', \"'\", 't', 'big', 'moneymakers', ',', 'but', 'in', 'his', 'own', 'unassuming', 'way', 'he', \"'\", 's', 'kind', 'of', 'a', 'genius', '.', 'with', 'his', 'pleasant', ',', 'common', 'man', 'looks', ',', 'and', 'charming', 'semi', '-', 'articulate', 'blatherings', 'he', 'has', 'become', 'one', 'of', 'the', 'most', 'likeable', 'romantic', 'leading', 'men', 'of', 'the', '90', \"'\", 's', '.', 'from', 'the', 'sure', 'thing', 'to', 'say', 'anything', 'cusack', 'has', 'merged', 'the', 'talents', 'of', 'early', 'tom', 'hanks', 'and', 'early', 'jack', 'lemmon', '.', 'despite', 'the', 'fact', 'that', 'nearly', 'every', 'character', 'he', 'plays', 'is', 'a', 'variation', 'of', 'the', 'character', 'before', 'it', '(', 'the', 'schlumpy', 'every', 'man', ')', ',', 'he', \"'\", 's', 'a', 'constantly', 'enjoyable', 'screen', 'persona', ',', 'like', 'albert', 'brooks', 'or', 'woody', 'allen', '.', 'and', 'he', 'knows', 'how', 'to', 'chose', 'scripts', ',', 'while', 'the', 'stephan', 'baldwin', \"'\", 's', 'and', 'val', 'kilmer', \"'\", 's', 'seem', 'to', 'put', 'them', 'selves', 'in', 'everything', '(', 'the', 'former', 'actually', 'had', 'the', 'insight', 'to', 'follow', 'up', 'oscar', 'winner', 'usual', 'suspects', 'with', 'a', 'pauly', 'shore', 'vehicle', ',', 'and', 'judging', 'from', 'his', 'latest', 'projects', 'it', 'looks', 'like', 'he', 'still', 'has', 'yet', 'to', 'fire', 'his', 'agent', ')', ',', 'cusack', 'generally', 'picks', 'rewarding', 'projects', '(', 'save', 'for', 'the', 'unwatchable', 'hot', 'pursuit', ',', 'a', '1988', 'film', 'also', 'featuring', 'a', 'young', 'ben', 'stiller', ')', '.', 'high', 'fidelity', 'is', 'his', 'second', 'collaboration', 'with', 'hit', 'or', 'miss', 'english', 'director', 'stephan', 'fears', '(', 'the', 'grifters', ',', 'the', 'hi', '-', 'lo', 'country', ')', ',', 'and', 'it', \"'\", 's', 'a', 'hit', '.', 'it', 'was', 'also', 'co', '-', 'written', 'by', 'cusack', ',', 'and', 'some', 'of', 'his', 'collaborators', 'on', 'the', 'terrific', 'comedy', ',', 'grosse', 'point', 'blank', '.', 'it', \"'\", 's', 'not', 'quite', 'as', 'entertaining', 'or', 'as', 'funny', 'as', 'that', 'film', ',', 'but', 'as', 'it', 'progresses', 'in', 'its', 'meandering', 'fashion', ',', 'the', 'movie', 'cast', 'something', 'of', 'a', 'spell', 'over', 'me', '.', 'high', 'fidelity', 'begins', 'as', 'a', 'hipster', 'ode', 'to', 'the', 'non', '-', 'committal', 'rob', ',', 'a', 'vinyl', 'record', 'store', 'owner', ',', 'who', 'opens', 'the', 'film', 'by', 'breaking', 'down', 'the', 'fourth', 'wall', 'with', 'much', 'abandon', 'and', 'educating', 'us', 'in', 'his', '\"', 'top', '5', 'break', 'ups', 'list', '\"', '.', 'this', 'is', 'something', 'cusack', 'does', 'the', 'entire', 'film', 'a', 'la', 'ferris', 'bueller', \"'\", 's', 'day', 'off', '.', 'at', 'first', 'the', 'talking', '-', 'directly', '-', 'into', '-', 'the', '-', 'camera', '-', 'schtick', 'had', 'me', 'vaguely', 'annoyed', ',', 'mostly', 'because', 'it', 'reminded', 'me', 'so', 'much', 'of', 'the', 'film', 'body', 'shots', 'which', 'used', 'a', 'similar', 'conceit', ',', 'but', 'it', 'began', 'to', 'grow', 'on', 'me', 'due', 'almost', 'entirely', 'to', 'cusack', \"'\", 's', 'witty', 'delivery', '.', 'he', \"'\", 's', 'the', 'kind', 'of', 'guy', 'we', 'don', \"'\", 't', 'mind', 'talking', 'directly', 'to', 'us', '.', 'gradually', 'the', 'film', 'settles', 'into', 'a', 'shampoo', '-', 'like', 'tragi', '-', 'comic', 'character', 'study', ',', 'of', 'a', 'guy', 'who', 'must', 'confront', 'himself', 'and', 'his', 'personal', 'failures', 'in', 'order', 'to', 'figure', 'out', 'the', 'true', 'person', 'he', 'is', '(', 'yes', 'it', \"'\", 's', 'all', 'very', 'existential', ')', '.', 'though', 'that', 'plot', '-', 'line', 'is', 'mostly', 'enjoyable', ',', 'the', 'thing', 'i', 'liked', 'the', 'most', 'about', 'the', 'film', 'is', 'how', 'much', 'pleasure', 'it', 'offers', 'in', 'introducing', 'us', 'to', 'minor', 'characters', ',', 'all', 'of', 'whom', '(', 'now', 'this', 'is', 'really', 'something', ')', 'are', 'terrific', 'enough', 'to', 'warrant', 'their', 'own', 'films', '.', 'the', 'best', 'of', 'which', 'is', 'jack', 'black', '(', 'of', 'the', 'very', 'funny', 'show', 'tenacious', 'd', ',', 'a', 'program', 'that', 'sadly', 'went', 'the', 'way', 'of', 'bruce', 'willis', \"'\", 'hair', '?', '?', '?', 'unfortunately', 'that', 'annoying', 'smirk', 'remains', ')', ',', 'an', 'ardent', 'record', 'store', 'employee', 'who', 'bullies', 'customers', 'into', 'buying', 'exactly', 'what', 'he', 'wants', 'them', 'to', 'buy', '.', 'he', \"'\", 's', 'the', 'kind', 'of', 'guy', 'i', \"'\", 'm', 'sure', 'we', \"'\", 've', 'all', 'met', 'before', ',', 'a', 'blowhard', 'who', 'thinks', 'he', \"'\", 's', 'always', 'right', 'and', 'will', 'do', 'anything', 'in', 'his', 'power', '(', 'be', 'it', 'yell', ',', 'argue', ',', 'insult', ')', 'to', 'hoist', 'his', 'opinion', 'onto', 'others', '.', 'but', 'i', 'like', 'this', 'guy', ',', 'because', 'of', 'how', 'black', 'plays', 'him', '.', 'the', 'actor', 'is', 'portly', 'with', 'a', 'round', 'baby', 'face', 'and', 'crazy', 'eyes', ',', 'but', 'despite', 'his', 'size', 'he', 'leaps', 'to', 'and', 'fro', 'like', 'a', 'manic', 'speed', 'freak', '(', 'which', 'might', 'be', 'a', 'bit', 'of', 'a', 'redundant', 'description', ',', 'seeing', 'as', 'how', 'all', 'the', 'speed', 'freaks', 'i', 'know', 'are', 'manic', ')', '.', 'he', \"'\", 's', 'the', 'kind', 'of', 'supporting', 'character', 'who', 'would', 'be', 'impossibly', 'annoying', 'comic', 'relief', 'in', 'most', 'other', 'films', '.', '(', 'look', 'at', 'what', 'that', 'hack', 'jan', 'de', 'bont', 'did', 'to', 'poor', 'phillip', 'seymour', 'hoffman', 'in', 'twister', ')', '.', 'but', 'fears', 'and', 'black', 'never', 'let', 'that', 'happen', '.', 'the', 'character', ',', 'for', 'all', 'his', 'shucking', 'and', 'jiving', 'is', 'steeped', 'in', 'reality', '.', 'he', \"'\", 's', 'over', 'the', 'top', ',', 'but', 'in', 'a', 'way', 'we', 'can', 'all', 'probably', 'relate', 'to', '.', 'catherine', 'zeta', '-', 'jones', ',', 'in', 'her', 'brief', 'role', ',', 'gives', 'a', 'vivid', 'portrayal', 'of', 'a', 'women', 'completely', 'enamored', 'with', 'her', 'own', '\"', 'charm', '\"', '.', 'tim', 'robbins', 'registers', 'in', 'an', 'even', 'tinier', 'part', 'as', 'a', 'new', 'age', '-', 'type', ',', 'a', 'character', 'played', 'entirely', 'for', 'cartoon', 'yuks', ',', 'but', 'still', 'manages', 'to', 'work', 'its', 'desired', 'comic', 'effect', '.', 'the', 'one', 'exception', 'in', 'the', 'acting', 'department', 'is', 'a', 'bit', 'of', 'a', 'doozy', ',', 'the', 'main', 'love', 'interest', 'played', 'by', 'danish', 'actress', 'iben', 'hjejle', '(', 'mifune', ')', ',', 'who', 'completely', 'obliterates', 'any', 'trace', 'of', 'a', 'danish', 'accent', ',', 'replacing', 'it', 'with', 'a', 'stilted', 'american', 'phonation', '.', 'i', 'give', 'her', 'kudos', 'for', 'attempting', 'such', 'a', 'contradictory', 'role', ',', 'but', 'instead', 'of', 'being', 'likeable', ',', 'she', 'comes', 'across', 'as', 'rather', 'robotic', ',', 'and', 'as', 'such', 'it', \"'\", 's', 'hard', 'to', 'see', 'why', 'cusack', \"'\", 's', 'character', 'would', 'be', 'so', 'obsessed', 'with', 'her', 'especially', 'when', 'he', 'has', 'a', 'beautiful', ',', 'intelligent', 'writer', '(', 'natasha', 'gregson', 'wagner', ')', 'potentially', 'waiting', 'in', 'the', 'wings', '.', 'this', 'reminded', 'me', 'of', 'say', 'anything', ',', 'where', 'the', 'charming', 'cusack', 'was', 'paired', 'with', 'the', 'charmless', 'ione', 'skye', ',', 'and', 'in', 'midnight', 'in', 'the', 'garden', 'of', 'good', 'and', 'evil', 'where', 'the', 'poor', 'bastard', 'had', 'to', 'put', 'up', 'with', 'alison', 'eastwood', '(', 'whose', 'unbelievably', 'more', 'wooden', 'then', 'father', ',', 'clint', 'for', 'those', '\"', 'special', 'people', '\"', 'whose', 'wheels', 'turn', 'a', 'little', 'slower', ')', '.', 'in', 'fact', 'cusack', 'is', 'rarely', 'paired', 'up', 'with', 'a', 'personality', 'that', 'matches', 'his', ',', 'though', 'i', \"'\", 'd', 'bet', 'that', 'if', 'laura', 'and', 'natasha', 'switched', 'roles', ',', 'the', 'result', 'would', 'be', 'more', 'effective', '.', 'high', 'fidelity', 'works', 'almost', 'entirely', 'on', 'the', 'strength', 'of', 'its', 'characters', 'and', 'performances', '.', 'fears', \"'\", 'direction', 'is', 'somewhat', 'stilted', ',', 'and', 'the', 'script', 'is', 'sometimes', 'a', 'little', 'too', '(', 'and', 'this', 'is', 'a', 'word', 'i', \"'\", 'm', 'beginning', 'to', 'hate', 'to', 'use', 'but', 'alas', 'i', 'must', ')', 'quirky', 'for', 'its', 'own', 'good', '(', 'i', 'think', 'i', \"'\", 'll', 'blame', 'that', 'on', 'scott', 'rosenberg', ',', 'who', 'judging', 'from', 'what', 'he', 'did', 'with', 'beautiful', 'girls', ',', 'con', 'air', ',', 'and', 'things', 'to', 'do', 'in', 'denver', 'while', 'your', 'dead', ',', 'has', 'his', 'fingerprints', 'all', 'over', 'the', 'most', 'irritating', 'bits', 'of', 'this', 'movie', ')', '.', 'but', 'cusack', 'really', 'does', 'deserve', 'an', 'award', ',', 'for', 'being', 'so', 'damn', '?', '?', '?', 'cusackian', '.', 'i', \"'\", 'm', 'afraid', 'that', 'his', 'talents', 'are', 'so', 'understated', 'that', 'he', 'may', 'have', 'to', 'wait', 'till', 'his', 'hip', 'needs', 'replacing', 'to', 'be', 'offered', 'such', 'an', 'award', 'worthy', 'of', 'his', 'considerable', 'talent', '.', 'his', 'character', ',', 'rob', '(', 'whose', 'sort', 'of', 'like', 'an', 'older', ',', 'more', 'bitter', 'lloyd', 'from', 'say', 'anything', ')', 'is', 'funny', 'and', 'tragic', 'without', 'being', 'pathetic', ',', 'and', 'that', 'cusack', 'can', 'do', 'all', 'this', ',', 'and', 'still', 'not', 'imprint', 'himself', 'onto', 'the', 'minds', 'of', 'most', 'audiences', ',', 'is', 'something', 'of', 'an', 'achievement', '.'], 'pos')\n"
     ]
    }
   ],
   "source": [
    "print(documents[1])"
   ]
  },
  {
   "cell_type": "code",
   "execution_count": 6,
   "metadata": {
    "collapsed": true
   },
   "outputs": [],
   "source": [
    "all_words = []\n",
    "for w in movie_reviews.words():\n",
    "    all_words.append(w.lower())\n",
    "\n",
    "all_words_dist = nltk.FreqDist(all_words)"
   ]
  },
  {
   "cell_type": "code",
   "execution_count": 7,
   "metadata": {},
   "outputs": [
    {
     "name": "stdout",
     "output_type": "stream",
     "text": [
      "[(',', 77717), ('the', 76529), ('.', 65876), ('a', 38106), ('and', 35576), ('of', 34123), ('to', 31937), (\"'\", 30585), ('is', 25195), ('in', 21822), ('s', 18513), ('\"', 17612), ('it', 16107), ('that', 15924), ('-', 15595)]\n"
     ]
    }
   ],
   "source": [
    "print(all_words_dist.most_common(15))"
   ]
  },
  {
   "cell_type": "code",
   "execution_count": 8,
   "metadata": {},
   "outputs": [
    {
     "name": "stdout",
     "output_type": "stream",
     "text": [
      "!\"#$%&'()*+,-./:;<=>?@[\\]^_`{|}~\n"
     ]
    }
   ],
   "source": [
    "from nltk.corpus import stopwords\n",
    "import string\n",
    "\n",
    "stop_words = set(stopwords.words(\"english\"))\n",
    "stop_words = stop_words.union(set(string.punctuation))\n",
    "\n",
    "print(string.punctuation)\n",
    "\n",
    "filtered_words = []\n",
    "for w in all_words:\n",
    "    if w not in stop_words:\n",
    "        filtered_words.append(w)\n",
    "        \n",
    "filtered_words_dist = nltk.FreqDist(filtered_words)"
   ]
  },
  {
   "cell_type": "code",
   "execution_count": 9,
   "metadata": {},
   "outputs": [
    {
     "name": "stdout",
     "output_type": "stream",
     "text": [
      "[('film', 9517), ('one', 5852), ('movie', 5771), ('like', 3690), ('even', 2565), ('good', 2411), ('time', 2411), ('story', 2169), ('would', 2109), ('much', 2049), ('character', 2020), ('also', 1967), ('get', 1949), ('two', 1911), ('well', 1906)]\n"
     ]
    }
   ],
   "source": [
    "print(filtered_words_dist.most_common(15))"
   ]
  },
  {
   "cell_type": "code",
   "execution_count": 10,
   "metadata": {},
   "outputs": [
    {
     "name": "stdout",
     "output_type": "stream",
     "text": [
      "253\n"
     ]
    }
   ],
   "source": [
    "print(filtered_words_dist[\"stupid\"])"
   ]
  },
  {
   "cell_type": "code",
   "execution_count": 11,
   "metadata": {},
   "outputs": [
    {
     "name": "stdout",
     "output_type": "stream",
     "text": [
      "35\n"
     ]
    }
   ],
   "source": [
    "print(filtered_words_dist[\"awesome\"])"
   ]
  },
  {
   "cell_type": "code",
   "execution_count": 12,
   "metadata": {},
   "outputs": [
    {
     "name": "stdout",
     "output_type": "stream",
     "text": [
      "132\n"
     ]
    }
   ],
   "source": [
    "print(filtered_words_dist[\"awful\"])"
   ]
  },
  {
   "cell_type": "markdown",
   "metadata": {},
   "source": [
    "## CH 12 - Words as Features for Learning"
   ]
  },
  {
   "cell_type": "code",
   "execution_count": 13,
   "metadata": {},
   "outputs": [
    {
     "name": "stdout",
     "output_type": "stream",
     "text": [
      "['\\x12', '--', '0', '000', '1', '10', '100', '12', '13', '15', '17', '1993', '1994', '1995', '1996', '1997', '1998', '1999', '2', '20', '2000', '2001', '3', '30', '4', '40', '5', '50', '54', '6', '60', '7', '70s', '8', '80', '80s', '8mm', '9', '90', '90s', 'abandoned', 'abilities', 'ability', 'able', 'absolutely', 'absurd', 'academy', 'accent', 'accept', 'accident', 'accidentally', 'accomplished', 'according', 'accused', 'achievement', 'across', 'act', 'acted', 'acting', 'action', 'actions', 'actor', 'actors', 'actress', 'actresses', 'acts', 'actual', 'actually', 'ad', 'adam', 'adams', 'adaptation', 'adapted', 'add', 'added', 'addition', 'adds', 'admit', 'adult', 'adults', 'adventure', 'adventures', 'advice', 'affair', 'affleck', 'aforementioned', 'afraid', 'african', 'age', 'agent', 'agents', 'ago', 'agree', 'agrees', 'ahead', 'air', 'airplane', 'al', 'alan', 'alas', 'albeit', 'albert', 'alex', 'alice', 'alicia', 'alien', 'aliens', 'alive', 'allen', 'allow', 'allowed', 'allowing', 'allows', 'almost', 'alone', 'along', 'already', 'also', 'although', 'altman', 'always', 'amanda', 'amazing', 'america', 'american', 'americans', 'among', 'amount', 'amusing', 'amy', 'anaconda', 'ancient', 'anderson', 'andrew', 'andy', 'angel', 'angeles', 'angels', 'anger', 'angle', 'angry', 'animal', 'animals', 'animated', 'animation', 'anna', 'anne', 'annie', 'annoying', 'another', 'answer', 'answers', 'anthony', 'anti', 'anybody', 'anymore', 'anyone', 'anything', 'anyway', 'anywhere', 'apart', 'apartment', 'ape', 'apes', 'apparent', 'apparently', 'appeal', 'appealing', 'appear', 'appearance', 'appearances', 'appeared', 'appears', 'appreciate', 'approach', 'appropriate', 'appropriately', 'area', 'arm', 'armageddon', 'armed', 'arms', 'army', 'arnold', 'around', 'arquette', 'arrives', 'art', 'arthur', 'artist', 'artistic', 'arts', 'ashley', 'aside', 'ask', 'asked', 'asking', 'asks', 'aspect', 'aspects', 'ass', 'assistant', 'assume', 'atmosphere', 'attack', 'attacks', 'attempt', 'attempting', 'attempts', 'attention', 'attitude', 'attraction', 'attractive', 'audience', 'audiences', 'austin', 'author', 'available', 'average', 'avoid', 'award', 'aware', 'away', 'awful', 'awkward', 'b', 'babe', 'baby', 'back', 'background', 'bacon', 'bad', 'badly', 'bag', 'baker', 'baldwin', 'ball', 'band', 'banderas', 'bang', 'bank', 'bar', 'barely', 'barry', 'barrymore', 'base', 'baseball', 'based', 'basic', 'basically', 'basis', 'basketball', 'bastard', 'bat', 'bathroom', 'batman', 'bats', 'battle', 'beach', 'bear', 'beast', 'beat', 'beating', 'beatty', 'beautiful', 'beautifully', 'beauty', 'became', 'become', 'becomes', 'becoming', 'bed', 'began', 'begin', 'beginning', 'begins', 'behavior', 'behind', 'believable', 'believe', 'believes', 'beloved', 'ben', 'besides', 'besson', 'best', 'bet', 'better', 'betty', 'beyond', 'big', 'bigger', 'biggest', 'bill', 'billy', 'bird', 'birth', 'birthday', 'bit', 'bits', 'bitter', 'bizarre', 'black', 'blade', 'blair', 'blame', 'bland', 'bleak', 'blind', 'block', 'blockbuster', 'blonde', 'blood', 'bloody', 'blow', 'blown', 'blue', 'blues', 'board', 'boat', 'bob', 'bobby', 'bodies', 'body', 'bomb', 'bond', 'bone', 'boogie', 'book', 'books', 'bore', 'bored', 'boring', 'born', 'boss', 'bother', 'bottom', 'bound', 'box', 'boxing', 'boy', 'boyfriend', 'boys', 'brad', 'brain', 'branagh', 'braveheart', 'break', 'breaking', 'breaks', 'breasts', 'breathtaking', 'brian', 'bride', 'bridge', 'brief', 'bright', 'brilliant', 'brilliantly', 'bring', 'bringing', 'brings', 'british', 'broderick', 'broken', 'brooks', 'brother', 'brothers', 'brought', 'brown', 'bruce', 'brutal', 'buddies', 'buddy', 'budget', 'bug', 'bugs', 'build', 'building', 'built', 'bulworth', 'bunch', 'burton', 'bus', 'business', 'butt', 'buy', 'buzz', 'c', 'cable', 'cage', 'california', 'call', 'called', 'calls', 'came', 'cameo', 'cameos', 'camera', 'cameron', 'camp', 'campaign', 'campbell', 'campy', 'cannot', 'capable', 'capsule', 'captain', 'capture', 'captured', 'car', 'card', 'care', 'career', 'carefully', 'cares', 'caring', 'carol', 'carpenter', 'carrey', 'carrie', 'carries', 'carry', 'cars', 'carter', 'cartoon', 'case', 'cash', 'cast', 'casting', 'cat', 'catch', 'catherine', 'caught', 'cauldron', 'cause', 'causes', 'cell', 'center', 'central', 'century', 'certain', 'certainly', 'cgi', 'chain', 'challenge', 'chan', 'chance', 'change', 'changed', 'changes', 'character', 'characterization', 'characters', 'charge', 'charisma', 'charles', 'charlie', 'charm', 'charming', 'chase', 'chases', 'chasing', 'cheap', 'check', 'cheesy', 'chemistry', 'chicago', 'chicken', 'chief', 'child', 'childhood', 'children', 'china', 'chinese', 'choice', 'choices', 'chosen', 'chris', 'christian', 'christmas', 'christopher', 'church', 'cinema', 'cinematic', 'cinematographer', 'cinematography', 'circumstances', 'city', 'civil', 'claims', 'claire', 'class', 'classic', 'classics', 'clean', 'clear', 'clearly', 'clever', 'clich', 'cliche', 'cliched', 'cliches', 'climactic', 'climax', 'clooney', 'close', 'closer', 'closing', 'clothes', 'club', 'clue', 'clueless', 'co', 'coach', 'cold', 'cole', 'collection', 'college', 'color', 'colorful', 'colors', 'com', 'combination', 'combined', 'come', 'comedic', 'comedies', 'comedy', 'comes', 'comic', 'coming', 'command', 'commentary', 'comments', 'commercial', 'committed', 'common', 'community', 'company', 'compare', 'compared', 'comparison', 'compelling', 'complete', 'completely', 'complex', 'complicated', 'computer', 'con', 'concept', 'concerned', 'conclusion', 'condition', 'conflict', 'confrontation', 'confused', 'confusing', 'connection', 'connery', 'connor', 'consider', 'considered', 'considering', 'consistently', 'consists', 'conspiracy', 'constant', 'constantly', 'contact', 'contain', 'contains', 'contemporary', 'content', 'continue', 'continues', 'contrast', 'contrived', 'control', 'conventional', 'conversation', 'convince', 'convinced', 'convincing', 'cool', 'cop', 'cops', 'copy', 'core', 'corner', 'corny', 'costner', 'costume', 'costumes', 'could', 'count', 'countless', 'country', 'couple', 'course', 'court', 'courtroom', 'cover', 'covered', 'cowboy', 'cox', 'crafted', 'crap', 'crash', 'craven', 'crazed', 'crazy', 'create', 'created', 'creates', 'creating', 'creative', 'creature', 'creatures', 'credit', 'credits', 'creepy', 'crew', 'crime', 'criminal', 'crisis', 'critic', 'critical', 'critics', 'critique', 'cross', 'crow', 'crowd', 'crucial', 'cruel', 'cruise', 'cry', 'crystal', 'cuba', 'cult', 'culture', 'current', 'cusack', 'cut', 'cute', 'cuts', 'cutting', 'dad', 'damme', 'damn', 'damon', 'dan', 'dance', 'dancing', 'danger', 'dangerous', 'daniel', 'danny', 'dark', 'darkness', 'date', 'daughter', 'david', 'davis', 'day', 'days', 'de', 'dead', 'deadly', 'deal', 'dealing', 'deals', 'dean', 'death', 'debut', 'decade', 'decades', 'decent', 'decide', 'decided', 'decides', 'decision', 'deep', 'deeper', 'deeply', 'defense', 'definitely', 'degree', 'delight', 'delightful', 'deliver', 'delivered', 'delivering', 'delivers', 'delivery', 'demands', 'denise', 'dennis', 'department', 'depp', 'depressing', 'depth', 'derek', 'describe', 'described', 'desert', 'deserve', 'deserved', 'deserves', 'design', 'designed', 'designer', 'desire', 'desperate', 'desperately', 'despite', 'destination', 'destroy', 'destroyed', 'destruction', 'detail', 'details', 'detective', 'determined', 'develop', 'developed', 'development', 'develops', 'device', 'devil', 'dialog', 'dialogue', 'diamond', 'diaz', 'dicaprio', 'dick', 'die', 'died', 'dies', 'difference', 'different', 'difficult', 'digital', 'dillon', 'dimensional', 'dinner', 'direct', 'directed', 'directing', 'direction', 'directly', 'director', 'directorial', 'directors', 'dirty', 'disappointed', 'disappointing', 'disappointment', 'disaster', 'disbelief', 'disco', 'discover', 'discovered', 'discovers', 'disney', 'display', 'distracting', 'disturbing', 'doctor', 'documentary', 'dog', 'dogs', 'dollar', 'dollars', 'done', 'donnell', 'door', 'doors', 'double', 'doubt', 'douglas', 'downright', 'dozen', 'dr', 'drag', 'dragon', 'drags', 'drama', 'dramatic', 'draw', 'drawn', 'dream', 'dreams', 'dress', 'dressed', 'drew', 'drinking', 'drive', 'driven', 'driver', 'drives', 'driving', 'drop', 'dropped', 'drug', 'drugs', 'drunk', 'drunken', 'dry', 'dude', 'due', 'dull', 'dumb', 'duvall', 'dvd', 'dying', 'e', 'earlier', 'early', 'earth', 'easily', 'easy', 'eat', 'eating', 'eccentric', 'ed', 'eddie', 'edge', 'editing', 'editor', 'edward', 'eerie', 'effect', 'effective', 'effectively', 'effects', 'effort', 'efforts', 'eight', 'either', 'elaborate', 'element', 'elements', 'elizabeth', 'ellie', 'else', 'embarrassing', 'emma', 'emotion', 'emotional', 'emotionally', 'emotions', 'empire', 'empty', 'encounter', 'encounters', 'end', 'endearing', 'ended', 'ending', 'endless', 'ends', 'enemy', 'energetic', 'energy', 'engaging', 'england', 'english', 'enjoy', 'enjoyable', 'enjoyed', 'enjoying', 'enormous', 'enough', 'ensemble', 'ensues', 'enter', 'entertain', 'entertaining', 'entertainment', 'entire', 'entirely', 'entry', 'environment', 'epic', 'episode', 'episodes', 'equal', 'equally', 'era', 'eric', 'erotic', 'escape', 'escapes', 'especially', 'esque', 'essentially', 'established', 'etc', 'ethan', 'eve', 'even', 'event', 'events', 'eventually', 'ever', 'every', 'everybody', 'everyone', 'everything', 'everywhere', 'evidence', 'evil', 'ex', 'exact', 'exactly', 'example', 'excellent', 'except', 'exception', 'exchange', 'excitement', 'exciting', 'excuse', 'executed', 'execution', 'executive', 'exercise', 'exist', 'existence', 'exists', 'expect', 'expectations', 'expected', 'expecting', 'expensive', 'experience', 'experiences', 'expert', 'explain', 'explained', 'explaining', 'explains', 'explanation', 'explored', 'explosions', 'expression', 'extended', 'extra', 'extraordinary', 'extreme', 'extremely', 'eye', 'eyed', 'eyes', 'f', 'face', 'faced', 'faces', 'fact', 'factor', 'facts', 'fail', 'failed', 'fails', 'failure', 'fair', 'fairly', 'fairy', 'faith', 'fake', 'fall', 'fallen', 'falling', 'falls', 'false', 'fame', 'familiar', 'families', 'family', 'famous', 'fan', 'fans', 'fantasies', 'fantastic', 'fantasy', 'far', 'fare', 'fascinating', 'fashion', 'fast', 'fat', 'fate', 'father', 'fault', 'favor', 'favorite', 'fbi', 'fear', 'fears', 'feature', 'featured', 'features', 'featuring', 'feel', 'feeling', 'feelings', 'feels', 'feet', 'fellow', 'felt', 'female', 'festival', 'fi', 'fiction', 'field', 'fiennes', 'fifteen', 'fifth', 'fight', 'fighting', 'fights', 'figure', 'figures', 'files', 'fill', 'filled', 'film', 'filmed', 'filming', 'filmmaker', 'filmmakers', 'filmmaking', 'films', 'final', 'finale', 'finally', 'fincher', 'find', 'finding', 'finds', 'fine', 'finest', 'finish', 'finn', 'fire', 'first', 'fish', 'fit', 'fits', 'five', 'flash', 'flashback', 'flashbacks', 'flashy', 'flat', 'flaw', 'flawed', 'flaws', 'flesh', 'flick', 'flicks', 'flight', 'floor', 'flubber', 'fly', 'flying', 'flynt', 'focus', 'focuses', 'folks', 'follow', 'followed', 'following', 'follows', 'fonda', 'food', 'fool', 'foot', 'footage', 'football', 'force', 'forced', 'forces', 'ford', 'foreign', 'forest', 'forever', 'forget', 'forgotten', 'form', 'former', 'formula', 'forth', 'fortunately', 'fortune', 'forward', 'foster', 'found', 'four', 'fox', 'frame', 'france', 'franchise', 'francis', 'frank', 'frankenstein', 'frankly', 'fred', 'freddie', 'free', 'freedom', 'freeman', 'freeze', 'french', 'frequently', 'fresh', 'friend', 'friendly', 'friends', 'friendship', 'frightening', 'front', 'fu', 'fugitive', 'full', 'fully', 'fun', 'funniest', 'funny', 'future', 'g', 'gabriel', 'gag', 'gags', 'gain', 'game', 'games', 'gang', 'gangster', 'garbage', 'gary', 'gave', 'gay', 'gene', 'general', 'generally', 'generated', 'generation', 'generic', 'genius', 'genre', 'genuine', 'genuinely', 'george', 'gere', 'german', 'get', 'gets', 'getting', 'ghost', 'ghosts', 'giant', 'gibson', 'gift', 'girl', 'girlfriend', 'girls', 'give', 'given', 'gives', 'giving', 'glenn', 'gloria', 'glory', 'go', 'goal', 'god', 'godzilla', 'goes', 'going', 'gold', 'golden', 'gone', 'gonna', 'good', 'goodman', 'goofy', 'gordon', 'gore', 'gorgeous', 'gory', 'got', 'gotten', 'government', 'grace', 'grade', 'graham', 'grand', 'grant', 'granted', 'graphic', 'gratuitous', 'great', 'greater', 'greatest', 'green', 'greg', 'gross', 'ground', 'group', 'grow', 'growing', 'grown', 'grows', 'guard', 'guess', 'guilty', 'gun', 'guns', 'guy', 'guys', 'hackman', 'hair', 'half', 'halfway', 'hall', 'halloween', 'hand', 'handed', 'handful', 'handle', 'handled', 'hands', 'handsome', 'hang', 'hanging', 'hank', 'hanks', 'happen', 'happened', 'happening', 'happens', 'happy', 'hard', 'hardly', 'harrelson', 'harris', 'harry', 'hate', 'haunted', 'haunting', 'head', 'headed', 'heads', 'hear', 'heard', 'hearing', 'heart', 'hearted', 'heaven', 'heavily', 'heavy', 'held', 'helen', 'hell', 'help', 'helped', 'helps', 'henry', 'henstridge', 'hero', 'heroes', 'heroine', 'hey', 'hidden', 'high', 'higher', 'highlight', 'highly', 'hilarious', 'hill', 'hint', 'hip', 'hired', 'historical', 'history', 'hit', 'hitchcock', 'hits', 'ho', 'hoffman', 'hold', 'holding', 'holds', 'hole', 'holes', 'holiday', 'hollow', 'hollywood', 'homage', 'home', 'honest', 'hong', 'honor', 'hope', 'hopefully', 'hopes', 'hoping', 'hopkins', 'horizon', 'horrible', 'horribly', 'horror', 'horse', 'hospital', 'hot', 'hotel', 'hour', 'hours', 'house', 'howard', 'however', 'huge', 'hughes', 'human', 'humanity', 'humans', 'humor', 'humorous', 'humour', 'hundred', 'hunt', 'hunter', 'hunting', 'hurt', 'husband', 'hype', 'ian', 'ice', 'idea', 'ideas', 'identity', 'idiotic', 'ii', 'ill', 'image', 'imagery', 'images', 'imagination', 'imagine', 'immediately', 'impact', 'important', 'importantly', 'impossible', 'impressed', 'impression', 'impressive', 'inane', 'include', 'included', 'includes', 'including', 'increasingly', 'incredible', 'incredibly', 'indeed', 'independence', 'independent', 'individual', 'industry', 'inept', 'inevitable', 'infamous', 'influence', 'information', 'initial', 'initially', 'inner', 'innocence', 'innocent', 'inside', 'insight', 'inspired', 'installment', 'instance', 'instantly', 'instead', 'instinct', 'insult', 'intellectual', 'intelligence', 'intelligent', 'intended', 'intense', 'intensity', 'intentions', 'interaction', 'interest', 'interested', 'interesting', 'international', 'intriguing', 'introduced', 'introduces', 'inventive', 'investigate', 'investigation', 'invisible', 'involved', 'involves', 'involving', 'irish', 'ironic', 'ironically', 'irritating', 'island', 'issue', 'issues', 'italian', 'j', 'jack', 'jackal', 'jackie', 'jackson', 'jail', 'jake', 'james', 'jamie', 'jan', 'jane', 'japanese', 'jar', 'jason', 'jay', 'jean', 'jedi', 'jeff', 'jeffrey', 'jennifer', 'jerry', 'jesus', 'jet', 'jim', 'jimmy', 'joan', 'job', 'jobs', 'joe', 'joel', 'john', 'johnny', 'johnson', 'join', 'joke', 'jokes', 'jolie', 'jon', 'jonathan', 'jones', 'jordan', 'journey', 'joy', 'jr', 'judd', 'judge', 'julia', 'julie', 'jump', 'jumps', 'jungle', 'jurassic', 'justice', 'k', 'karen', 'kate', 'keanu', 'keaton', 'keep', 'keeping', 'keeps', 'kelly', 'kenneth', 'kept', 'kevin', 'key', 'kick', 'kid', 'kidnapped', 'kids', 'kill', 'killed', 'killer', 'killers', 'killing', 'kills', 'kilmer', 'kim', 'kind', 'kinds', 'king', 'kiss', 'knew', 'knock', 'know', 'knowing', 'knowledge', 'known', 'knows', 'kong', 'kubrick', 'kung', 'l', 'la', 'lack', 'lacking', 'lacks', 'lady', 'lake', 'lame', 'land', 'language', 'large', 'largely', 'larger', 'larry', 'las', 'last', 'late', 'later', 'latest', 'latter', 'laugh', 'laughable', 'laughed', 'laughing', 'laughs', 'laughter', 'laura', 'law', 'lawrence', 'lawyer', 'lead', 'leader', 'leading', 'leads', 'league', 'learn', 'learned', 'learning', 'learns', 'least', 'leave', 'leaves', 'leaving', 'lebowski', 'led', 'lee', 'left', 'legend', 'legendary', 'length', 'leo', 'less', 'let', 'lethal', 'lets', 'letting', 'level', 'levels', 'lewis', 'li', 'lie', 'lies', 'life', 'lifeless', 'light', 'lighting', 'lights', 'likable', 'like', 'likeable', 'liked', 'likely', 'likes', 'limited', 'line', 'liners', 'lines', 'lisa', 'list', 'literally', 'little', 'live', 'lived', 'lives', 'living', 'lloyd', 'local', 'location', 'logic', 'london', 'lonely', 'long', 'longer', 'look', 'looked', 'looking', 'looks', 'loose', 'lord', 'los', 'lose', 'loser', 'loses', 'losing', 'loss', 'lost', 'lot', 'lots', 'loud', 'love', 'loved', 'lovely', 'lover', 'lovers', 'loves', 'loving', 'low', 'luc', 'lucas', 'luck', 'luckily', 'lucky', 'lucy', 'ludicrous', 'luke', 'lynch', 'machine', 'mad', 'made', 'mafia', 'magazine', 'maggie', 'magic', 'magical', 'mail', 'main', 'mainly', 'mainstream', 'major', 'make', 'makers', 'makes', 'makeup', 'making', 'male', 'malkovich', 'man', 'manage', 'managed', 'manager', 'manages', 'manner', 'many', 'marie', 'mark', 'market', 'marks', 'marriage', 'married', 'marry', 'mars', 'martial', 'martin', 'mary', 'mask', 'mass', 'master', 'masterpiece', 'match', 'material', 'matrix', 'matt', 'matter', 'matters', 'matthew', 'mature', 'max', 'may', 'maybe', 'mean', 'meaning', 'means', 'meant', 'meanwhile', 'media', 'medical', 'mediocre', 'meet', 'meeting', 'meets', 'meg', 'mel', 'melvin', 'member', 'members', 'memorable', 'memories', 'memory', 'men', 'menace', 'mental', 'mention', 'mentioned', 'mere', 'merely', 'mess', 'message', 'met', 'metal', 'michael', 'michelle', 'mickey', 'mid', 'middle', 'midnight', 'might', 'mighty', 'mike', 'mildly', 'mile', 'miles', 'military', 'miller', 'million', 'millionaire', 'millions', 'mind', 'minds', 'mine', 'minor', 'minute', 'minutes', 'miss', 'missed', 'missing', 'mission', 'mistake', 'mitchell', 'mix', 'mixed', 'mob', 'model', 'modern', 'mom', 'moment', 'moments', 'money', 'monkey', 'monster', 'monsters', 'month', 'months', 'mood', 'moore', 'moral', 'morgan', 'morning', 'mostly', 'mother', 'motion', 'mountain', 'mouse', 'mouth', 'move', 'moved', 'movement', 'moves', 'movie', 'movies', 'moving', 'mr', 'mrs', 'ms', 'mtv', 'much', 'mulan', 'multi', 'multiple', 'murder', 'murdered', 'murderer', 'murders', 'murphy', 'murray', 'music', 'musical', 'must', 'myers', 'mysterious', 'mystery', 'n', 'naked', 'name', 'named', 'names', 'narration', 'narrative', 'nasty', 'natasha', 'national', 'natural', 'naturally', 'nature', 'nbsp', 'near', 'nearly', 'necessarily', 'necessary', 'need', 'needed', 'needs', 'neeson', 'negative', 'neighbor', 'neil', 'neither', 'network', 'neve', 'never', 'nevertheless', 'new', 'news', 'next', 'nice', 'nicely', 'nicholson', 'nick', 'night', 'nightmare', 'nights', 'nine', 'niro', 'nobody', 'noir', 'nomination', 'non', 'none', 'nonetheless', 'normal', 'north', 'norton', 'notable', 'notably', 'notch', 'note', 'notes', 'nothing', 'notice', 'notion', 'novel', 'nowhere', 'nuclear', 'nudity', 'number', 'numbers', 'numerous', 'obi', 'obligatory', 'obnoxious', 'obsessed', 'obvious', 'obviously', 'occasional', 'occasionally', 'occur', 'occurs', 'ocean', 'october', 'odd', 'oddly', 'offensive', 'offer', 'offers', 'office', 'officer', 'often', 'oh', 'ok', 'okay', 'old', 'older', 'oliver', 'one', 'ones', 'onto', 'open', 'opening', 'opens', 'opera', 'operation', 'opinion', 'opportunity', 'opposite', 'ordell', 'order', 'orders', 'ordinary', 'original', 'originality', 'originally', 'oscar', 'others', 'otherwise', 'outrageous', 'outside', 'outstanding', 'overall', 'overcome', 'overly', 'owner', 'p', 'pace', 'paced', 'pacing', 'pacino', 'packed', 'paid', 'pain', 'painful', 'painfully', 'pair', 'palma', 'paltrow', 'pam', 'paper', 'par', 'parents', 'paris', 'park', 'parker', 'parody', 'part', 'particular', 'particularly', 'partner', 'parts', 'party', 'pass', 'passed', 'passes', 'passion', 'past', 'patch', 'path', 'pathetic', 'patient', 'patrick', 'paul', 'paxton', 'pay', 'penn', 'people', 'perfect', 'perfection', 'perfectly', 'perform', 'performance', 'performances', 'performers', 'perhaps', 'period', 'person', 'persona', 'personal', 'personality', 'personally', 'perspective', 'peter', 'pg', 'phantom', 'phil', 'phone', 'photography', 'physical', 'pick', 'picked', 'picks', 'picture', 'pictures', 'pie', 'piece', 'pieces', 'pig', 'pilot', 'pitt', 'place', 'placed', 'places', 'plain', 'plan', 'plane', 'planet', 'plans', 'play', 'played', 'player', 'players', 'playing', 'plays', 'pleasant', 'please', 'pleasure', 'plenty', 'plot', 'plots', 'plus', 'point', 'pointless', 'points', 'police', 'political', 'politics', 'poor', 'poorly', 'pop', 'popular', 'porn', 'portrayal', 'portrayed', 'portrays', 'position', 'positive', 'possible', 'possibly', 'post', 'potential', 'power', 'powerful', 'powers', 'practically', 'pre', 'predictable', 'pregnant', 'premise', 'presence', 'present', 'presented', 'presents', 'president', 'press', 'pretty', 'previous', 'previously', 'price', 'priest', 'primary', 'prime', 'prince', 'princess', 'prinze', 'prior', 'prison', 'prisoner', 'prisoners', 'private', 'probably', 'problem', 'problems', 'proceedings', 'process', 'produce', 'produced', 'producer', 'producers', 'product', 'production', 'professional', 'professor', 'program', 'progresses', 'project', 'projects', 'promise', 'promising', 'proof', 'protagonist', 'protagonists', 'prove', 'proves', 'provide', 'provided', 'provides', 'providing', 'provoking', 'psycho', 'psychological', 'public', 'pull', 'pulled', 'pulls', 'pulp', 'punch', 'pure', 'purpose', 'put', 'puts', 'putting', 'quaid', 'qualities', 'quality', 'queen', 'quentin', 'quest', 'question', 'questions', 'quick', 'quickly', 'quiet', 'quirky', 'quite', 'r', 'race', 'radio', 'rain', 'raise', 'raised', 'random', 'randy', 'range', 'rape', 'rare', 'rarely', 'rate', 'rated', 'rather', 'rating', 'ray', 'reach', 'reaction', 'read', 'reading', 'ready', 'real', 'realism', 'realistic', 'reality', 'realize', 'realized', 'realizes', 'really', 'reason', 'reasons', 'recall', 'received', 'recent', 'recently', 'recognize', 'recommend', 'record', 'red', 'reese', 'reeves', 'reference', 'references', 'refreshing', 'refuses', 'regular', 'related', 'relationship', 'relationships', 'relatively', 'release', 'released', 'relief', 'religion', 'religious', 'remain', 'remaining', 'remains', 'remake', 'remarkable', 'remember', 'remembered', 'reminded', 'reminds', 'reminiscent', 'remotely', 'rent', 'replaced', 'reporter', 'required', 'requires', 'rescue', 'research', 'respect', 'responsible', 'rest', 'restaurant', 'result', 'results', 'return', 'returns', 'reveal', 'revealed', 'reveals', 'revenge', 'review', 'reviews', 'revolves', 'rich', 'richard', 'richards', 'rick', 'ride', 'ridiculous', 'right', 'ring', 'rip', 'ripley', 'rise', 'rising', 'risk', 'rival', 'river', 'road', 'rob', 'robert', 'roberts', 'robin', 'robocop', 'robot', 'rock', 'rocky', 'roger', 'role', 'roles', 'roll', 'rolling', 'romance', 'romantic', 'romeo', 'ron', 'room', 'root', 'rose', 'roth', 'round', 'routine', 'rule', 'rules', 'run', 'running', 'runs', 'rush', 'russell', 'russian', 'ryan', 'sad', 'sadly', 'safe', 'said', 'sake', 'sam', 'sandler', 'sandra', 'sarah', 'sat', 'satan', 'satire', 'satisfying', 'saturday', 'save', 'saved', 'saves', 'saving', 'saw', 'say', 'saying', 'says', 'scale', 'scare', 'scared', 'scary', 'scene', 'scenery', 'scenes', 'scheme', 'school', 'schumacher', 'schwarzenegger', 'sci', 'science', 'scientist', 'scientists', 'score', 'scorsese', 'scott', 'scream', 'screaming', 'screen', 'screening', 'screenplay', 'screenwriter', 'screenwriters', 'script', 'sea', 'seagal', 'sean', 'search', 'season', 'seat', 'second', 'seconds', 'secret', 'security', 'see', 'seeing', 'seem', 'seemed', 'seemingly', 'seems', 'seen', 'sees', 'segment', 'self', 'sell', 'selling', 'semi', 'send', 'sends', 'sense', 'senses', 'sent', 'sequel', 'sequels', 'sequence', 'sequences', 'serial', 'series', 'serious', 'seriously', 'serve', 'serves', 'service', 'set', 'seth', 'sets', 'setting', 'settle', 'setup', 'seven', 'several', 'sex', 'sexual', 'sexy', 'shakespeare', 'shallow', 'shame', 'share', 'sharp', 'sheer', 'sheriff', 'ship', 'shock', 'shocking', 'shoot', 'shooting', 'shop', 'short', 'shot', 'shots', 'show', 'showed', 'showing', 'shown', 'shows', 'shrek', 'shut', 'sick', 'side', 'sidekick', 'sides', 'sidney', 'sight', 'sign', 'significant', 'signs', 'silent', 'silly', 'silver', 'similar', 'simon', 'simple', 'simply', 'since', 'sing', 'singer', 'singing', 'single', 'sir', 'sister', 'sisters', 'sit', 'sitcom', 'sitting', 'situation', 'situations', 'six', 'sixth', 'size', 'skills', 'skin', 'skip', 'sky', 'slapstick', 'slasher', 'slave', 'sleep', 'sleepy', 'slightly', 'slow', 'slowly', 'small', 'smart', 'smile', 'smith', 'smoking', 'snake', 'snipes', 'snow', 'soap', 'social', 'society', 'soft', 'soldier', 'soldiers', 'sole', 'solid', 'somehow', 'someone', 'something', 'sometimes', 'somewhat', 'somewhere', 'son', 'song', 'songs', 'sonny', 'soon', 'sorry', 'sort', 'sorts', 'soul', 'sound', 'sounds', 'soundtrack', 'source', 'south', 'space', 'spacey', 'spawn', 'speak', 'speaking', 'speaks', 'special', 'species', 'specifically', 'spectacular', 'speech', 'speed', 'spend', 'spending', 'spends', 'spent', 'spice', 'spielberg', 'spirit', 'spirited', 'spiritual', 'spoilers', 'spoken', 'sports', 'spot', 'spots', 'spy', 'stage', 'staged', 'stallone', 'stand', 'standard', 'standing', 'stands', 'stanley', 'star', 'starring', 'stars', 'starship', 'start', 'started', 'starting', 'starts', 'state', 'statement', 'states', 'station', 'status', 'stay', 'steal', 'stealing', 'steals', 'step', 'stephen', 'steps', 'stereotypes', 'stereotypical', 'steve', 'steven', 'stewart', 'stick', 'still', 'stiller', 'stock', 'stolen', 'stone', 'stop', 'stops', 'store', 'stories', 'storm', 'story', 'storyline', 'storytelling', 'straight', 'strange', 'strangely', 'street', 'streets', 'strength', 'stretch', 'strike', 'strikes', 'strip', 'strong', 'stronger', 'structure', 'struggle', 'struggling', 'stuart', 'stuck', 'student', 'students', 'studio', 'studios', 'study', 'stuff', 'stunning', 'stunt', 'stunts', 'stupid', 'style', 'stylish', 'sub', 'subject', 'subplot', 'subplots', 'substance', 'subtle', 'succeed', 'succeeds', 'success', 'successful', 'successfully', 'sudden', 'suddenly', 'suffer', 'suffering', 'suffers', 'suggest', 'suggests', 'suicide', 'suit', 'suits', 'summer', 'sun', 'super', 'superb', 'superior', 'supernatural', 'support', 'supporting', 'suppose', 'supposed', 'supposedly', 'sure', 'surely', 'surface', 'surprise', 'surprised', 'surprises', 'surprising', 'surprisingly', 'surreal', 'survive', 'survivors', 'susan', 'suspect', 'suspects', 'suspense', 'suspenseful', 'sweet', 'sword', 'sympathetic', 'sympathy', 'synopsis', 'system', 'table', 'take', 'taken', 'takes', 'taking', 'tale', 'talent', 'talented', 'talents', 'talk', 'talking', 'talks', 'tarantino', 'target', 'tarzan', 'task', 'taste', 'taylor', 'teacher', 'team', 'tears', 'technical', 'technology', 'ted', 'tedious', 'teen', 'teenage', 'teenagers', 'teens', 'television', 'tell', 'telling', 'tells', 'ten', 'tend', 'tense', 'tension', 'term', 'terminator', 'terms', 'terrible', 'terribly', 'terrific', 'terrifying', 'terror', 'terrorist', 'terry', 'test', 'texas', 'thankfully', 'thanks', 'theater', 'theaters', 'theatre', 'theatrical', 'theme', 'themes', 'theory', 'therefore', 'thief', 'thin', 'thing', 'things', 'think', 'thinking', 'thinks', 'third', 'thirty', 'thomas', 'thompson', 'thoroughly', 'though', 'thought', 'thoughts', 'threat', 'threatening', 'three', 'thriller', 'thrillers', 'thrilling', 'thrills', 'throughout', 'throw', 'throwing', 'thrown', 'throws', 'thus', 'tight', 'till', 'tim', 'time', 'times', 'timing', 'tiny', 'tired', 'titanic', 'title', 'today', 'todd', 'together', 'told', 'tom', 'tommy', 'tone', 'tony', 'took', 'top', 'torn', 'total', 'totally', 'touch', 'touches', 'touching', 'tough', 'toward', 'towards', 'town', 'toy', 'toys', 'track', 'tracks', 'trade', 'tradition', 'traditional', 'tragedy', 'tragic', 'trailer', 'trailers', 'train', 'training', 'trapped', 'trash', 'travel', 'travels', 'travolta', 'treat', 'treated', 'treatment', 'treats', 'trek', 'trial', 'tribe', 'trick', 'tricks', 'tried', 'tries', 'trilogy', 'trio', 'trip', 'trite', 'troopers', 'trouble', 'troubled', 'truck', 'true', 'truly', 'truman', 'trust', 'truth', 'try', 'trying', 'tucker', 'turn', 'turned', 'turning', 'turns', 'tv', 'twenty', 'twice', 'twin', 'twist', 'twisted', 'twists', 'two', 'tyler', 'type', 'types', 'typical', 'u', 'ugly', 'ultimate', 'ultimately', 'un', 'unable', 'unbelievable', 'understand', 'understanding', 'unexpected', 'unfortunate', 'unfortunately', 'unfunny', 'uninteresting', 'unique', 'united', 'universal', 'universe', 'unknown', 'unless', 'unlike', 'unlikely', 'unnecessary', 'unusual', 'upon', 'ups', 'urban', 'us', 'use', 'used', 'uses', 'using', 'usual', 'usually', 'utter', 'utterly', 'vacation', 'value', 'values', 'vampire', 'vampires', 'van', 'variety', 'various', 'vegas', 'vehicle', 'verhoeven', 'version', 'veteran', 'via', 'victim', 'victims', 'video', 'view', 'viewed', 'viewer', 'viewers', 'viewing', 'village', 'villain', 'villains', 'vincent', 'violence', 'violent', 'virtual', 'virtually', 'virus', 'vision', 'visit', 'visual', 'visually', 'visuals', 'voice', 'voiced', 'voices', 'vs', 'wahlberg', 'wait', 'waiting', 'walk', 'walking', 'walks', 'wall', 'wallace', 'walter', 'wan', 'want', 'wanted', 'wants', 'war', 'warm', 'warner', 'warning', 'warrior', 'wars', 'washington', 'waste', 'wasted', 'watch', 'watched', 'watching', 'water', 'wave', 'way', 'wayne', 'ways', 'weak', 'wealthy', 'weapon', 'weapons', 'wear', 'wearing', 'wears', 'wedding', 'week', 'weekend', 'weeks', 'weight', 'weird', 'welcome', 'well', 'welles', 'went', 'wes', 'west', 'western', 'whatever', 'whatsoever', 'whenever', 'whether', 'white', 'whole', 'whose', 'wide', 'wife', 'wild', 'wildly', 'william', 'williams', 'williamson', 'willing', 'willis', 'wilson', 'win', 'wind', 'window', 'wing', 'winner', 'winning', 'wins', 'wise', 'wish', 'wit', 'witch', 'within', 'without', 'witness', 'witty', 'woman', 'women', 'wonder', 'wonderful', 'wonderfully', 'wondering', 'wonders', 'wong', 'woo', 'wood', 'wooden', 'woods', 'woody', 'word', 'words', 'work', 'worked', 'worker', 'workers', 'working', 'works', 'world', 'worse', 'worst', 'worth', 'worthy', 'would', 'wrestling', 'write', 'writer', 'writers', 'writing', 'written', 'wrong', 'wrote', 'x', 'yeah', 'year', 'years', 'yes', 'yet', 'york', 'young', 'younger', 'youth', 'zero']\n"
     ]
    }
   ],
   "source": [
    "word_features = list(filtered_words_dist.keys())[:3000]\n",
    "###############################\n",
    "# BUGBUG ??\n",
    "###############################\n",
    "word_features = filtered_words_dist.most_common(3000)\n",
    "word_features = [word_feature[0]\n",
    "                    for word_feature in word_features]\n",
    "word_features.sort()\n",
    "print(word_features)"
   ]
  },
  {
   "cell_type": "code",
   "execution_count": 14,
   "metadata": {},
   "outputs": [
    {
     "name": "stdout",
     "output_type": "stream",
     "text": [
      "{'\\x12': False, '--': False, '0': False, '000': False, '1': False, '10': True, '100': False, '12': False, '13': False, '15': False, '17': False, '1993': False, '1994': False, '1995': False, '1996': False, '1997': False, '1998': False, '1999': False, '2': True, '20': True, '2000': False, '2001': False, '3': True, '30': False, '4': True, '40': False, '5': False, '50': False, '54': False, '6': False, '60': False, '7': True, '70s': False, '8': True, '80': False, '80s': False, '8mm': False, '9': True, '90': False, '90s': False, 'abandoned': False, 'abilities': False, 'ability': False, 'able': False, 'absolutely': False, 'absurd': False, 'academy': False, 'accent': False, 'accept': False, 'accident': True, 'accidentally': False, 'accomplished': False, 'according': False, 'accused': False, 'achievement': False, 'across': False, 'act': False, 'acted': False, 'acting': False, 'action': False, 'actions': False, 'actor': False, 'actors': True, 'actress': False, 'actresses': False, 'acts': False, 'actual': False, 'actually': True, 'ad': False, 'adam': False, 'adams': False, 'adaptation': False, 'adapted': False, 'add': False, 'added': False, 'addition': False, 'adds': False, 'admit': False, 'adult': False, 'adults': False, 'adventure': False, 'adventures': False, 'advice': False, 'affair': False, 'affleck': False, 'aforementioned': False, 'afraid': False, 'african': False, 'age': False, 'agent': False, 'agents': False, 'ago': True, 'agree': False, 'agrees': False, 'ahead': False, 'air': False, 'airplane': False, 'al': False, 'alan': False, 'alas': False, 'albeit': False, 'albert': False, 'alex': False, 'alice': False, 'alicia': False, 'alien': False, 'aliens': False, 'alive': False, 'allen': False, 'allow': False, 'allowed': False, 'allowing': False, 'allows': False, 'almost': False, 'alone': False, 'along': False, 'already': False, 'also': True, 'although': True, 'altman': False, 'always': True, 'amanda': False, 'amazing': False, 'america': False, 'american': True, 'americans': False, 'among': False, 'amount': False, 'amusing': False, 'amy': False, 'anaconda': False, 'ancient': False, 'anderson': False, 'andrew': False, 'andy': False, 'angel': False, 'angeles': False, 'angels': False, 'anger': False, 'angle': False, 'angry': False, 'animal': False, 'animals': False, 'animated': False, 'animation': False, 'anna': False, 'anne': False, 'annie': False, 'annoying': False, 'another': False, 'answer': False, 'answers': False, 'anthony': False, 'anti': False, 'anybody': False, 'anymore': False, 'anyone': False, 'anything': False, 'anyway': False, 'anywhere': False, 'apart': False, 'apartment': False, 'ape': False, 'apes': False, 'apparent': False, 'apparently': True, 'appeal': False, 'appealing': False, 'appear': False, 'appearance': False, 'appearances': False, 'appeared': False, 'appears': False, 'appreciate': False, 'approach': False, 'appropriate': False, 'appropriately': False, 'area': False, 'arm': False, 'armageddon': False, 'armed': False, 'arms': False, 'army': False, 'arnold': False, 'around': False, 'arquette': False, 'arrives': False, 'art': False, 'arthur': False, 'artist': False, 'artistic': False, 'arts': False, 'ashley': False, 'aside': False, 'ask': False, 'asked': False, 'asking': False, 'asks': False, 'aspect': False, 'aspects': False, 'ass': False, 'assistant': False, 'assume': False, 'atmosphere': False, 'attack': False, 'attacks': False, 'attempt': True, 'attempting': False, 'attempts': False, 'attention': False, 'attitude': False, 'attraction': False, 'attractive': False, 'audience': True, 'audiences': False, 'austin': False, 'author': False, 'available': False, 'average': False, 'avoid': False, 'award': False, 'aware': False, 'away': True, 'awful': False, 'awkward': False, 'b': False, 'babe': False, 'baby': False, 'back': True, 'background': False, 'bacon': False, 'bad': True, 'badly': False, 'bag': False, 'baker': False, 'baldwin': False, 'ball': False, 'band': False, 'banderas': False, 'bang': False, 'bank': False, 'bar': False, 'barely': False, 'barry': False, 'barrymore': False, 'base': False, 'baseball': False, 'based': False, 'basic': False, 'basically': False, 'basis': False, 'basketball': False, 'bastard': False, 'bat': False, 'bathroom': False, 'batman': False, 'bats': False, 'battle': False, 'beach': False, 'bear': False, 'beast': False, 'beat': False, 'beating': False, 'beatty': False, 'beautiful': False, 'beautifully': False, 'beauty': True, 'became': False, 'become': False, 'becomes': False, 'becoming': False, 'bed': False, 'began': False, 'begin': False, 'beginning': False, 'begins': False, 'behavior': False, 'behind': False, 'believable': False, 'believe': False, 'believes': False, 'beloved': False, 'ben': False, 'besides': False, 'besson': False, 'best': False, 'bet': False, 'better': False, 'betty': False, 'beyond': False, 'big': True, 'bigger': False, 'biggest': True, 'bill': False, 'billy': False, 'bird': False, 'birth': False, 'birthday': False, 'bit': True, 'bits': False, 'bitter': False, 'bizarre': False, 'black': False, 'blade': False, 'blair': True, 'blame': False, 'bland': False, 'bleak': False, 'blind': False, 'block': False, 'blockbuster': False, 'blonde': False, 'blood': False, 'bloody': False, 'blow': False, 'blown': False, 'blue': False, 'blues': False, 'board': False, 'boat': False, 'bob': False, 'bobby': False, 'bodies': False, 'body': False, 'bomb': False, 'bond': False, 'bone': False, 'boogie': False, 'book': False, 'books': False, 'bore': False, 'bored': False, 'boring': False, 'born': False, 'boss': False, 'bother': False, 'bottom': True, 'bound': False, 'box': False, 'boxing': False, 'boy': False, 'boyfriend': False, 'boys': False, 'brad': False, 'brain': False, 'branagh': False, 'braveheart': False, 'break': True, 'breaking': False, 'breaks': False, 'breasts': False, 'breathtaking': False, 'brian': False, 'bride': False, 'bridge': False, 'brief': False, 'bright': False, 'brilliant': False, 'brilliantly': False, 'bring': False, 'bringing': False, 'brings': False, 'british': False, 'broderick': False, 'broken': False, 'brooks': False, 'brother': False, 'brothers': False, 'brought': False, 'brown': False, 'bruce': False, 'brutal': False, 'buddies': False, 'buddy': False, 'budget': False, 'bug': False, 'bugs': False, 'build': False, 'building': False, 'built': False, 'bulworth': False, 'bunch': False, 'burton': False, 'bus': False, 'business': False, 'butt': False, 'buy': False, 'buzz': False, 'c': False, 'cable': False, 'cage': False, 'california': False, 'call': False, 'called': False, 'calls': False, 'came': True, 'cameo': False, 'cameos': False, 'camera': False, 'cameron': False, 'camp': False, 'campaign': False, 'campbell': False, 'campy': False, 'cannot': False, 'capable': False, 'capsule': False, 'captain': False, 'capture': False, 'captured': False, 'car': False, 'card': False, 'care': False, 'career': False, 'carefully': False, 'cares': False, 'caring': False, 'carol': False, 'carpenter': False, 'carrey': False, 'carrie': False, 'carries': False, 'carry': False, 'cars': False, 'carter': False, 'cartoon': False, 'case': False, 'cash': False, 'cast': False, 'casting': False, 'cat': False, 'catch': False, 'catherine': False, 'caught': False, 'cauldron': False, 'cause': False, 'causes': False, 'cell': False, 'center': False, 'central': False, 'century': False, 'certain': False, 'certainly': False, 'cgi': False, 'chain': False, 'challenge': False, 'chan': False, 'chance': False, 'change': False, 'changed': False, 'changes': False, 'character': True, 'characterization': False, 'characters': True, 'charge': False, 'charisma': False, 'charles': False, 'charlie': False, 'charm': False, 'charming': False, 'chase': True, 'chases': False, 'chasing': True, 'cheap': False, 'check': False, 'cheesy': False, 'chemistry': False, 'chicago': False, 'chicken': False, 'chief': False, 'child': False, 'childhood': False, 'children': False, 'china': False, 'chinese': False, 'choice': False, 'choices': False, 'chosen': False, 'chris': False, 'christian': False, 'christmas': False, 'christopher': False, 'church': True, 'cinema': False, 'cinematic': False, 'cinematographer': False, 'cinematography': False, 'circumstances': False, 'city': False, 'civil': False, 'claims': False, 'claire': False, 'class': False, 'classic': False, 'classics': False, 'clean': False, 'clear': False, 'clearly': False, 'clever': False, 'clich': False, 'cliche': False, 'cliched': False, 'cliches': False, 'climactic': False, 'climax': False, 'clooney': False, 'close': False, 'closer': False, 'closing': False, 'clothes': False, 'club': False, 'clue': True, 'clueless': False, 'co': False, 'coach': False, 'cold': False, 'cole': False, 'collection': False, 'college': False, 'color': False, 'colorful': False, 'colors': False, 'com': False, 'combination': False, 'combined': False, 'come': False, 'comedic': False, 'comedies': False, 'comedy': False, 'comes': False, 'comic': False, 'coming': True, 'command': False, 'commentary': False, 'comments': False, 'commercial': False, 'committed': False, 'common': False, 'community': False, 'company': False, 'compare': False, 'compared': False, 'comparison': False, 'compelling': False, 'complete': False, 'completely': True, 'complex': False, 'complicated': False, 'computer': False, 'con': False, 'concept': True, 'concerned': False, 'conclusion': False, 'condition': False, 'conflict': False, 'confrontation': False, 'confused': False, 'confusing': True, 'connection': False, 'connery': False, 'connor': False, 'consider': False, 'considered': False, 'considering': False, 'consistently': False, 'consists': False, 'conspiracy': False, 'constant': False, 'constantly': False, 'contact': False, 'contain': False, 'contains': False, 'contemporary': False, 'content': False, 'continue': False, 'continues': True, 'contrast': False, 'contrived': False, 'control': False, 'conventional': False, 'conversation': False, 'convince': False, 'convinced': False, 'convincing': False, 'cool': True, 'cop': False, 'cops': False, 'copy': False, 'core': False, 'corner': False, 'corny': False, 'costner': False, 'costume': False, 'costumes': False, 'could': False, 'count': False, 'countless': False, 'country': False, 'couple': False, 'course': False, 'court': False, 'courtroom': False, 'cover': False, 'covered': False, 'cowboy': False, 'cox': False, 'crafted': False, 'crap': False, 'crash': False, 'craven': False, 'crazed': False, 'crazy': False, 'create': False, 'created': False, 'creates': False, 'creating': False, 'creative': False, 'creature': False, 'creatures': False, 'credit': False, 'credits': False, 'creepy': False, 'crew': False, 'crime': False, 'criminal': False, 'crisis': False, 'critic': False, 'critical': False, 'critics': False, 'critique': True, 'cross': False, 'crow': True, 'crowd': False, 'crucial': False, 'cruel': False, 'cruise': False, 'cry': False, 'crystal': False, 'cuba': False, 'cult': False, 'culture': False, 'current': False, 'cusack': False, 'cut': False, 'cute': False, 'cuts': False, 'cutting': False, 'dad': False, 'damme': False, 'damn': False, 'damon': False, 'dan': False, 'dance': False, 'dancing': False, 'danger': False, 'dangerous': False, 'daniel': False, 'danny': False, 'dark': False, 'darkness': False, 'date': False, 'daughter': False, 'david': False, 'davis': False, 'day': False, 'days': False, 'de': False, 'dead': True, 'deadly': False, 'deal': True, 'dealing': False, 'deals': False, 'dean': False, 'death': False, 'debut': False, 'decade': False, 'decades': False, 'decent': True, 'decide': False, 'decided': True, 'decides': False, 'decision': False, 'deep': False, 'deeper': False, 'deeply': False, 'defense': False, 'definitely': False, 'degree': False, 'delight': False, 'delightful': False, 'deliver': False, 'delivered': False, 'delivering': False, 'delivers': False, 'delivery': False, 'demands': False, 'denise': False, 'dennis': False, 'department': False, 'depp': False, 'depressing': False, 'depth': False, 'derek': False, 'describe': False, 'described': False, 'desert': False, 'deserve': False, 'deserved': False, 'deserves': False, 'design': False, 'designed': False, 'designer': False, 'desire': False, 'desperate': False, 'desperately': False, 'despite': True, 'destination': False, 'destroy': False, 'destroyed': False, 'destruction': False, 'detail': False, 'details': False, 'detective': False, 'determined': False, 'develop': False, 'developed': False, 'development': False, 'develops': False, 'device': False, 'devil': False, 'dialog': False, 'dialogue': False, 'diamond': False, 'diaz': False, 'dicaprio': False, 'dick': False, 'die': False, 'died': False, 'dies': True, 'difference': False, 'different': True, 'difficult': False, 'digital': False, 'dillon': False, 'dimensional': False, 'dinner': False, 'direct': False, 'directed': False, 'directing': False, 'direction': False, 'directly': False, 'director': True, 'directorial': False, 'directors': False, 'dirty': False, 'disappointed': False, 'disappointing': False, 'disappointment': False, 'disaster': False, 'disbelief': False, 'disco': False, 'discover': False, 'discovered': False, 'discovers': False, 'disney': False, 'display': False, 'distracting': False, 'disturbing': False, 'doctor': False, 'documentary': False, 'dog': False, 'dogs': False, 'dollar': False, 'dollars': False, 'done': False, 'donnell': False, 'door': False, 'doors': False, 'double': False, 'doubt': False, 'douglas': False, 'downright': False, 'dozen': False, 'dr': False, 'drag': False, 'dragon': False, 'drags': False, 'drama': False, 'dramatic': False, 'draw': False, 'drawn': False, 'dream': False, 'dreams': True, 'dress': False, 'dressed': False, 'drew': False, 'drinking': False, 'drive': True, 'driven': False, 'driver': False, 'drives': False, 'driving': False, 'drop': False, 'dropped': False, 'drug': False, 'drugs': False, 'drunk': False, 'drunken': False, 'dry': False, 'dude': False, 'due': False, 'dull': False, 'dumb': False, 'duvall': False, 'dvd': False, 'dying': False, 'e': False, 'earlier': False, 'early': False, 'earth': False, 'easily': False, 'easy': False, 'eat': False, 'eating': False, 'eccentric': False, 'ed': False, 'eddie': False, 'edge': True, 'editing': False, 'editor': False, 'edward': False, 'eerie': False, 'effect': False, 'effective': False, 'effectively': False, 'effects': False, 'effort': False, 'efforts': False, 'eight': False, 'either': False, 'elaborate': False, 'element': False, 'elements': False, 'elizabeth': False, 'ellie': False, 'else': False, 'embarrassing': False, 'emma': False, 'emotion': False, 'emotional': False, 'emotionally': False, 'emotions': False, 'empire': False, 'empty': False, 'encounter': False, 'encounters': False, 'end': False, 'endearing': False, 'ended': False, 'ending': True, 'endless': False, 'ends': False, 'enemy': False, 'energetic': False, 'energy': False, 'engaging': True, 'england': False, 'english': False, 'enjoy': False, 'enjoyable': False, 'enjoyed': False, 'enjoying': False, 'enormous': False, 'enough': False, 'ensemble': False, 'ensues': False, 'enter': True, 'entertain': True, 'entertaining': True, 'entertainment': False, 'entire': True, 'entirely': False, 'entry': False, 'environment': False, 'epic': False, 'episode': False, 'episodes': False, 'equal': False, 'equally': False, 'era': False, 'eric': False, 'erotic': False, 'escape': False, 'escapes': False, 'especially': False, 'esque': False, 'essentially': False, 'established': False, 'etc': False, 'ethan': False, 'eve': False, 'even': True, 'event': False, 'events': False, 'eventually': False, 'ever': True, 'every': True, 'everybody': False, 'everyone': False, 'everything': False, 'everywhere': False, 'evidence': False, 'evil': False, 'ex': False, 'exact': True, 'exactly': False, 'example': False, 'excellent': False, 'except': False, 'exception': False, 'exchange': False, 'excitement': False, 'exciting': False, 'excuse': False, 'executed': True, 'execution': False, 'executive': False, 'exercise': False, 'exist': False, 'existence': False, 'exists': False, 'expect': False, 'expectations': False, 'expected': False, 'expecting': False, 'expensive': False, 'experience': False, 'experiences': False, 'expert': False, 'explain': False, 'explained': True, 'explaining': False, 'explains': False, 'explanation': True, 'explored': False, 'explosions': False, 'expression': False, 'extended': False, 'extra': False, 'extraordinary': False, 'extreme': False, 'extremely': False, 'eye': False, 'eyed': False, 'eyes': False, 'f': False, 'face': False, 'faced': False, 'faces': False, 'fact': False, 'factor': False, 'facts': False, 'fail': False, 'failed': False, 'fails': False, 'failure': False, 'fair': False, 'fairly': False, 'fairy': False, 'faith': False, 'fake': False, 'fall': False, 'fallen': False, 'falling': False, 'falls': False, 'false': False, 'fame': False, 'familiar': False, 'families': False, 'family': False, 'famous': False, 'fan': False, 'fans': False, 'fantasies': False, 'fantastic': False, 'fantasy': True, 'far': False, 'fare': False, 'fascinating': False, 'fashion': False, 'fast': False, 'fat': False, 'fate': False, 'father': False, 'fault': False, 'favor': False, 'favorite': False, 'fbi': False, 'fear': False, 'fears': False, 'feature': False, 'featured': False, 'features': False, 'featuring': False, 'feel': False, 'feeling': True, 'feelings': False, 'feels': True, 'feet': False, 'fellow': False, 'felt': False, 'female': False, 'festival': False, 'fi': False, 'fiction': False, 'field': False, 'fiennes': False, 'fifteen': False, 'fifth': False, 'fight': False, 'fighting': False, 'fights': False, 'figure': False, 'figures': False, 'files': False, 'fill': False, 'filled': False, 'film': True, 'filmed': False, 'filming': False, 'filmmaker': False, 'filmmakers': False, 'filmmaking': False, 'films': True, 'final': True, 'finale': False, 'finally': False, 'fincher': False, 'find': True, 'finding': False, 'finds': False, 'fine': False, 'finest': False, 'finish': False, 'finn': False, 'fire': False, 'first': False, 'fish': False, 'fit': False, 'fits': False, 'five': True, 'flash': False, 'flashback': False, 'flashbacks': False, 'flashy': False, 'flat': False, 'flaw': False, 'flawed': False, 'flaws': False, 'flesh': False, 'flick': True, 'flicks': True, 'flight': False, 'floor': False, 'flubber': False, 'fly': False, 'flying': False, 'flynt': False, 'focus': False, 'focuses': False, 'folks': True, 'follow': False, 'followed': False, 'following': False, 'follows': False, 'fonda': False, 'food': False, 'fool': False, 'foot': False, 'footage': False, 'football': False, 'force': False, 'forced': False, 'forces': False, 'ford': False, 'foreign': False, 'forest': False, 'forever': False, 'forget': False, 'forgotten': False, 'form': False, 'former': False, 'formula': False, 'forth': False, 'fortunately': False, 'fortune': False, 'forward': False, 'foster': False, 'found': False, 'four': False, 'fox': False, 'frame': False, 'france': False, 'franchise': False, 'francis': False, 'frank': False, 'frankenstein': False, 'frankly': False, 'fred': False, 'freddie': False, 'free': False, 'freedom': False, 'freeman': False, 'freeze': False, 'french': False, 'frequently': False, 'fresh': False, 'friend': False, 'friendly': False, 'friends': False, 'friendship': False, 'frightening': False, 'front': False, 'fu': False, 'fugitive': False, 'full': False, 'fully': False, 'fun': False, 'funniest': False, 'funny': False, 'future': False, 'g': False, 'gabriel': False, 'gag': False, 'gags': False, 'gain': False, 'game': False, 'games': False, 'gang': False, 'gangster': False, 'garbage': False, 'gary': False, 'gave': False, 'gay': False, 'gene': False, 'general': False, 'generally': True, 'generated': False, 'generation': True, 'generic': False, 'genius': False, 'genre': True, 'genuine': False, 'genuinely': False, 'george': False, 'gere': False, 'german': False, 'get': True, 'gets': False, 'getting': False, 'ghost': False, 'ghosts': False, 'giant': False, 'gibson': False, 'gift': False, 'girl': False, 'girlfriend': True, 'girls': False, 'give': True, 'given': True, 'gives': False, 'giving': True, 'glenn': False, 'gloria': False, 'glory': False, 'go': True, 'goal': False, 'god': False, 'godzilla': False, 'goes': False, 'going': True, 'gold': False, 'golden': False, 'gone': False, 'gonna': False, 'good': True, 'goodman': False, 'goofy': False, 'gordon': False, 'gore': False, 'gorgeous': False, 'gory': False, 'got': True, 'gotten': False, 'government': False, 'grace': False, 'grade': False, 'graham': False, 'grand': False, 'grant': False, 'granted': False, 'graphic': False, 'gratuitous': False, 'great': False, 'greater': False, 'greatest': False, 'green': False, 'greg': False, 'gross': False, 'ground': False, 'group': False, 'grow': False, 'growing': False, 'grown': False, 'grows': False, 'guard': False, 'guess': True, 'guilty': False, 'gun': False, 'guns': False, 'guy': False, 'guys': True, 'hackman': False, 'hair': False, 'half': True, 'halfway': False, 'hall': False, 'halloween': False, 'hand': False, 'handed': False, 'handful': False, 'handle': False, 'handled': False, 'hands': False, 'handsome': False, 'hang': False, 'hanging': False, 'hank': False, 'hanks': False, 'happen': True, 'happened': False, 'happening': False, 'happens': False, 'happy': False, 'hard': False, 'hardly': False, 'harrelson': False, 'harris': False, 'harry': False, 'hate': False, 'haunted': False, 'haunting': False, 'head': True, 'headed': False, 'heads': False, 'hear': False, 'heard': False, 'hearing': False, 'heart': False, 'hearted': False, 'heaven': False, 'heavily': False, 'heavy': False, 'held': False, 'helen': False, 'hell': False, 'help': False, 'helped': False, 'helps': False, 'henry': False, 'henstridge': False, 'hero': False, 'heroes': False, 'heroine': False, 'hey': False, 'hidden': False, 'high': False, 'higher': False, 'highlight': False, 'highly': False, 'hilarious': False, 'hill': False, 'hint': False, 'hip': False, 'hired': False, 'historical': False, 'history': False, 'hit': False, 'hitchcock': False, 'hits': False, 'ho': False, 'hoffman': False, 'hold': False, 'holding': False, 'holds': True, 'hole': False, 'holes': False, 'holiday': False, 'hollow': False, 'hollywood': False, 'homage': False, 'home': False, 'honest': False, 'hong': False, 'honor': False, 'hope': False, 'hopefully': False, 'hopes': False, 'hoping': False, 'hopkins': False, 'horizon': False, 'horrible': False, 'horribly': False, 'horror': True, 'horse': False, 'hospital': False, 'hot': True, 'hotel': False, 'hour': False, 'hours': False, 'house': False, 'howard': False, 'however': False, 'huge': False, 'hughes': False, 'human': False, 'humanity': False, 'humans': False, 'humor': False, 'humorous': False, 'humour': False, 'hundred': False, 'hunt': False, 'hunter': False, 'hunting': False, 'hurt': False, 'husband': False, 'hype': False, 'ian': False, 'ice': False, 'idea': True, 'ideas': False, 'identity': False, 'idiotic': False, 'ii': False, 'ill': False, 'image': False, 'imagery': False, 'images': False, 'imagination': False, 'imagine': False, 'immediately': False, 'impact': False, 'important': False, 'importantly': False, 'impossible': False, 'impressed': False, 'impression': False, 'impressive': False, 'inane': False, 'include': False, 'included': False, 'includes': False, 'including': False, 'increasingly': False, 'incredible': False, 'incredibly': False, 'indeed': False, 'independence': False, 'independent': False, 'individual': False, 'industry': False, 'inept': False, 'inevitable': False, 'infamous': False, 'influence': False, 'information': False, 'initial': False, 'initially': False, 'inner': False, 'innocence': False, 'innocent': False, 'inside': False, 'insight': True, 'inspired': False, 'installment': False, 'instance': False, 'instantly': False, 'instead': False, 'instinct': False, 'insult': False, 'intellectual': False, 'intelligence': False, 'intelligent': False, 'intended': False, 'intense': False, 'intensity': False, 'intentions': False, 'interaction': False, 'interest': False, 'interested': False, 'interesting': False, 'international': False, 'intriguing': False, 'introduced': False, 'introduces': False, 'inventive': False, 'investigate': False, 'investigation': False, 'invisible': False, 'involved': False, 'involves': False, 'involving': False, 'irish': False, 'ironic': False, 'ironically': False, 'irritating': False, 'island': False, 'issue': False, 'issues': False, 'italian': False, 'j': False, 'jack': False, 'jackal': False, 'jackie': False, 'jackson': False, 'jail': False, 'jake': False, 'james': False, 'jamie': False, 'jan': False, 'jane': False, 'japanese': False, 'jar': False, 'jason': False, 'jay': False, 'jean': False, 'jedi': False, 'jeff': False, 'jeffrey': False, 'jennifer': False, 'jerry': False, 'jesus': False, 'jet': False, 'jim': False, 'jimmy': False, 'joan': False, 'job': False, 'jobs': False, 'joe': False, 'joel': False, 'john': False, 'johnny': False, 'johnson': False, 'join': False, 'joke': False, 'jokes': False, 'jolie': False, 'jon': False, 'jonathan': False, 'jones': False, 'jordan': False, 'journey': False, 'joy': False, 'jr': False, 'judd': False, 'judge': False, 'julia': False, 'julie': False, 'jump': False, 'jumps': False, 'jungle': False, 'jurassic': False, 'justice': False, 'k': False, 'karen': False, 'kate': False, 'keanu': False, 'keaton': False, 'keep': False, 'keeping': False, 'keeps': False, 'kelly': False, 'kenneth': False, 'kept': False, 'kevin': False, 'key': False, 'kick': False, 'kid': False, 'kidnapped': False, 'kids': True, 'kill': False, 'killed': False, 'killer': False, 'killers': False, 'killing': False, 'kills': False, 'kilmer': False, 'kim': False, 'kind': True, 'kinds': False, 'king': False, 'kiss': False, 'knew': False, 'knock': False, 'know': True, 'knowing': False, 'knowledge': False, 'known': False, 'knows': False, 'kong': False, 'kubrick': False, 'kung': False, 'l': False, 'la': False, 'lack': False, 'lacking': False, 'lacks': False, 'lady': False, 'lake': False, 'lame': False, 'land': False, 'language': False, 'large': False, 'largely': False, 'larger': False, 'larry': False, 'las': False, 'last': False, 'late': False, 'later': False, 'latest': False, 'latter': False, 'laugh': False, 'laughable': False, 'laughed': False, 'laughing': False, 'laughs': False, 'laughter': False, 'laura': False, 'law': False, 'lawrence': False, 'lawyer': False, 'lead': False, 'leader': False, 'leading': False, 'leads': False, 'league': False, 'learn': False, 'learned': False, 'learning': False, 'learns': False, 'least': False, 'leave': False, 'leaves': False, 'leaving': False, 'lebowski': False, 'led': False, 'lee': False, 'left': False, 'legend': False, 'legendary': False, 'length': False, 'leo': False, 'less': False, 'let': False, 'lethal': False, 'lets': False, 'letting': False, 'level': False, 'levels': False, 'lewis': False, 'li': False, 'lie': False, 'lies': False, 'life': True, 'lifeless': False, 'light': False, 'lighting': False, 'lights': False, 'likable': False, 'like': True, 'likeable': False, 'liked': False, 'likely': False, 'likes': False, 'limited': False, 'line': True, 'liners': False, 'lines': False, 'lisa': False, 'list': False, 'literally': False, 'little': True, 'live': False, 'lived': False, 'lives': False, 'living': False, 'lloyd': False, 'local': False, 'location': False, 'logic': False, 'london': False, 'lonely': False, 'long': False, 'longer': False, 'look': True, 'looked': False, 'looking': False, 'looks': False, 'loose': False, 'lord': False, 'los': False, 'lose': False, 'loser': False, 'loses': False, 'losing': False, 'loss': False, 'lost': True, 'lot': False, 'lots': False, 'loud': False, 'love': False, 'loved': False, 'lovely': False, 'lover': False, 'lovers': False, 'loves': False, 'loving': False, 'low': False, 'luc': False, 'lucas': False, 'luck': False, 'luckily': False, 'lucky': False, 'lucy': False, 'ludicrous': False, 'luke': False, 'lynch': False, 'machine': False, 'mad': False, 'made': False, 'mafia': False, 'magazine': False, 'maggie': False, 'magic': False, 'magical': False, 'mail': False, 'main': True, 'mainly': False, 'mainstream': False, 'major': False, 'make': True, 'makers': False, 'makes': True, 'makeup': False, 'making': True, 'male': False, 'malkovich': False, 'man': False, 'manage': False, 'managed': False, 'manager': False, 'manages': False, 'manner': False, 'many': False, 'marie': False, 'mark': False, 'market': False, 'marks': False, 'marriage': False, 'married': False, 'marry': False, 'mars': False, 'martial': False, 'martin': False, 'mary': False, 'mask': False, 'mass': False, 'master': False, 'masterpiece': False, 'match': False, 'material': False, 'matrix': False, 'matt': False, 'matter': False, 'matters': False, 'matthew': False, 'mature': False, 'max': False, 'may': False, 'maybe': False, 'mean': True, 'meaning': False, 'means': False, 'meant': False, 'meanwhile': False, 'media': False, 'medical': False, 'mediocre': False, 'meet': False, 'meeting': False, 'meets': False, 'meg': False, 'mel': False, 'melvin': False, 'member': True, 'members': False, 'memorable': False, 'memories': False, 'memory': False, 'men': False, 'menace': False, 'mental': False, 'mention': False, 'mentioned': False, 'mere': False, 'merely': False, 'mess': True, 'message': False, 'met': False, 'metal': False, 'michael': False, 'michelle': False, 'mickey': False, 'mid': False, 'middle': False, 'midnight': False, 'might': True, 'mighty': False, 'mike': False, 'mildly': False, 'mile': False, 'miles': False, 'military': False, 'miller': False, 'million': False, 'millionaire': False, 'millions': False, 'mind': True, 'minds': False, 'mine': False, 'minor': False, 'minute': False, 'minutes': True, 'miss': False, 'missed': False, 'missing': False, 'mission': False, 'mistake': False, 'mitchell': False, 'mix': False, 'mixed': False, 'mob': False, 'model': False, 'modern': False, 'mom': False, 'moment': False, 'moments': False, 'money': False, 'monkey': False, 'monster': False, 'monsters': False, 'month': False, 'months': False, 'mood': False, 'moore': False, 'moral': False, 'morgan': False, 'morning': False, 'mostly': False, 'mother': False, 'motion': False, 'mountain': False, 'mouse': False, 'mouth': False, 'move': False, 'moved': False, 'movement': False, 'moves': False, 'movie': True, 'movies': True, 'moving': False, 'mr': False, 'mrs': False, 'ms': False, 'mtv': False, 'much': False, 'mulan': False, 'multi': False, 'multiple': False, 'murder': False, 'murdered': False, 'murderer': False, 'murders': False, 'murphy': False, 'murray': False, 'music': True, 'musical': False, 'must': False, 'myers': False, 'mysterious': False, 'mystery': False, 'n': False, 'naked': False, 'name': False, 'named': False, 'names': False, 'narration': False, 'narrative': False, 'nasty': False, 'natasha': False, 'national': False, 'natural': False, 'naturally': False, 'nature': False, 'nbsp': False, 'near': False, 'nearly': False, 'necessarily': False, 'necessary': False, 'need': True, 'needed': False, 'needs': False, 'neeson': False, 'negative': False, 'neighbor': False, 'neil': False, 'neither': False, 'network': False, 'neve': False, 'never': False, 'nevertheless': False, 'new': True, 'news': False, 'next': False, 'nice': False, 'nicely': False, 'nicholson': False, 'nick': False, 'night': False, 'nightmare': True, 'nights': False, 'nine': False, 'niro': False, 'nobody': False, 'noir': False, 'nomination': False, 'non': False, 'none': False, 'nonetheless': False, 'normal': True, 'north': False, 'norton': False, 'notable': False, 'notably': False, 'notch': False, 'note': False, 'notes': False, 'nothing': False, 'notice': False, 'notion': False, 'novel': False, 'nowhere': False, 'nuclear': False, 'nudity': False, 'number': False, 'numbers': False, 'numerous': False, 'obi': False, 'obligatory': False, 'obnoxious': False, 'obsessed': False, 'obvious': False, 'obviously': True, 'occasional': False, 'occasionally': False, 'occur': False, 'occurs': False, 'ocean': False, 'october': False, 'odd': False, 'oddly': False, 'offensive': False, 'offer': False, 'offers': False, 'office': False, 'officer': False, 'often': False, 'oh': True, 'ok': False, 'okay': True, 'old': False, 'older': False, 'oliver': False, 'one': True, 'ones': False, 'onto': False, 'open': False, 'opening': False, 'opens': False, 'opera': False, 'operation': False, 'opinion': False, 'opportunity': False, 'opposite': False, 'ordell': False, 'order': False, 'orders': False, 'ordinary': False, 'original': False, 'originality': False, 'originally': False, 'oscar': False, 'others': True, 'otherwise': False, 'outrageous': False, 'outside': False, 'outstanding': False, 'overall': True, 'overcome': False, 'overly': False, 'owner': False, 'p': False, 'pace': False, 'paced': False, 'pacing': False, 'pacino': False, 'packed': False, 'paid': False, 'pain': False, 'painful': False, 'painfully': False, 'pair': False, 'palma': False, 'paltrow': False, 'pam': False, 'paper': False, 'par': False, 'parents': False, 'paris': False, 'park': False, 'parker': False, 'parody': False, 'part': True, 'particular': False, 'particularly': False, 'partner': False, 'parts': False, 'party': True, 'pass': False, 'passed': False, 'passes': False, 'passion': False, 'past': False, 'patch': False, 'path': False, 'pathetic': False, 'patient': False, 'patrick': False, 'paul': False, 'paxton': False, 'pay': False, 'penn': False, 'people': True, 'perfect': False, 'perfection': False, 'perfectly': False, 'perform': False, 'performance': False, 'performances': False, 'performers': False, 'perhaps': False, 'period': False, 'person': False, 'persona': False, 'personal': False, 'personality': False, 'personally': True, 'perspective': False, 'peter': False, 'pg': False, 'phantom': False, 'phil': False, 'phone': False, 'photography': False, 'physical': False, 'pick': False, 'picked': False, 'picks': False, 'picture': False, 'pictures': False, 'pie': False, 'piece': False, 'pieces': False, 'pig': False, 'pilot': False, 'pitt': False, 'place': False, 'placed': False, 'places': False, 'plain': True, 'plan': False, 'plane': False, 'planet': False, 'plans': False, 'play': False, 'played': False, 'player': False, 'players': False, 'playing': True, 'plays': False, 'pleasant': False, 'please': False, 'pleasure': False, 'plenty': False, 'plot': True, 'plots': False, 'plus': False, 'point': True, 'pointless': False, 'points': False, 'police': False, 'political': False, 'politics': False, 'poor': False, 'poorly': False, 'pop': False, 'popular': False, 'porn': False, 'portrayal': False, 'portrayed': False, 'portrays': False, 'position': False, 'positive': False, 'possible': False, 'possibly': False, 'post': False, 'potential': False, 'power': False, 'powerful': False, 'powers': False, 'practically': False, 'pre': False, 'predictable': False, 'pregnant': False, 'premise': False, 'presence': False, 'present': False, 'presented': False, 'presents': True, 'president': False, 'press': False, 'pretty': True, 'previous': False, 'previously': False, 'price': False, 'priest': False, 'primary': False, 'prime': False, 'prince': False, 'princess': False, 'prinze': False, 'prior': False, 'prison': False, 'prisoner': False, 'prisoners': False, 'private': False, 'probably': False, 'problem': True, 'problems': True, 'proceedings': False, 'process': False, 'produce': False, 'produced': False, 'producer': False, 'producers': False, 'product': False, 'production': True, 'professional': False, 'professor': False, 'program': False, 'progresses': False, 'project': False, 'projects': False, 'promise': False, 'promising': False, 'proof': False, 'protagonist': False, 'protagonists': False, 'prove': False, 'proves': False, 'provide': False, 'provided': False, 'provides': False, 'providing': False, 'provoking': False, 'psycho': False, 'psychological': False, 'public': False, 'pull': False, 'pulled': False, 'pulls': False, 'pulp': False, 'punch': False, 'pure': False, 'purpose': False, 'put': False, 'puts': False, 'putting': False, 'quaid': False, 'qualities': False, 'quality': False, 'queen': False, 'quentin': False, 'quest': False, 'question': False, 'questions': False, 'quick': False, 'quickly': False, 'quiet': False, 'quirky': False, 'quite': False, 'r': False, 'race': False, 'radio': False, 'rain': False, 'raise': False, 'raised': False, 'random': False, 'randy': False, 'range': False, 'rape': False, 'rare': False, 'rarely': True, 'rate': False, 'rated': False, 'rather': False, 'rating': False, 'ray': False, 'reach': False, 'reaction': False, 'read': False, 'reading': False, 'ready': False, 'real': False, 'realism': False, 'realistic': False, 'reality': False, 'realize': False, 'realized': False, 'realizes': False, 'really': True, 'reason': False, 'reasons': False, 'recall': False, 'received': False, 'recent': False, 'recently': False, 'recognize': False, 'recommend': False, 'record': False, 'red': False, 'reese': False, 'reeves': False, 'reference': False, 'references': False, 'refreshing': False, 'refuses': False, 'regular': False, 'related': False, 'relationship': False, 'relationships': False, 'relatively': False, 'release': False, 'released': False, 'relief': False, 'religion': False, 'religious': False, 'remain': False, 'remaining': False, 'remains': False, 'remake': False, 'remarkable': False, 'remember': False, 'remembered': False, 'reminded': False, 'reminds': False, 'reminiscent': False, 'remotely': False, 'rent': False, 'replaced': False, 'reporter': False, 'required': False, 'requires': False, 'rescue': False, 'research': False, 'respect': False, 'responsible': False, 'rest': False, 'restaurant': False, 'result': False, 'results': False, 'return': False, 'returns': False, 'reveal': False, 'revealed': False, 'reveals': False, 'revenge': False, 'review': True, 'reviews': False, 'revolves': False, 'rich': False, 'richard': False, 'richards': False, 'rick': False, 'ride': False, 'ridiculous': False, 'right': False, 'ring': False, 'rip': False, 'ripley': False, 'rise': False, 'rising': False, 'risk': False, 'rival': False, 'river': False, 'road': False, 'rob': False, 'robert': False, 'roberts': False, 'robin': False, 'robocop': False, 'robot': False, 'rock': False, 'rocky': False, 'roger': False, 'role': False, 'roles': False, 'roll': False, 'rolling': False, 'romance': False, 'romantic': False, 'romeo': False, 'ron': False, 'room': False, 'root': False, 'rose': False, 'roth': False, 'round': False, 'routine': False, 'rule': False, 'rules': False, 'run': False, 'running': True, 'runs': False, 'rush': False, 'russell': False, 'russian': False, 'ryan': False, 'sad': True, 'sadly': False, 'safe': False, 'said': False, 'sake': False, 'sam': False, 'sandler': False, 'sandra': False, 'sarah': False, 'sat': False, 'satan': False, 'satire': False, 'satisfying': False, 'saturday': False, 'save': False, 'saved': False, 'saves': False, 'saving': False, 'saw': False, 'say': False, 'saying': False, 'says': False, 'scale': False, 'scare': False, 'scared': False, 'scary': False, 'scene': False, 'scenery': False, 'scenes': True, 'scheme': False, 'school': False, 'schumacher': False, 'schwarzenegger': False, 'sci': False, 'science': False, 'scientist': False, 'scientists': False, 'score': False, 'scorsese': False, 'scott': False, 'scream': False, 'screaming': False, 'screen': False, 'screening': False, 'screenplay': False, 'screenwriter': False, 'screenwriters': False, 'script': False, 'sea': False, 'seagal': False, 'sean': False, 'search': False, 'season': False, 'seat': False, 'second': False, 'seconds': False, 'secret': True, 'security': False, 'see': True, 'seeing': False, 'seem': True, 'seemed': True, 'seemingly': False, 'seems': True, 'seen': False, 'sees': False, 'segment': False, 'self': False, 'sell': False, 'selling': False, 'semi': False, 'send': False, 'sends': False, 'sense': True, 'senses': False, 'sent': False, 'sequel': False, 'sequels': False, 'sequence': False, 'sequences': False, 'serial': False, 'series': False, 'serious': False, 'seriously': False, 'serve': False, 'serves': False, 'service': False, 'set': False, 'seth': False, 'sets': False, 'setting': False, 'settle': False, 'setup': False, 'seven': False, 'several': False, 'sex': False, 'sexual': False, 'sexy': False, 'shakespeare': False, 'shallow': False, 'shame': False, 'share': False, 'sharp': False, 'sheer': False, 'sheriff': False, 'ship': False, 'shock': False, 'shocking': False, 'shoot': False, 'shooting': False, 'shop': False, 'short': False, 'shot': False, 'shots': False, 'show': False, 'showed': False, 'showing': True, 'shown': False, 'shows': True, 'shrek': False, 'shut': False, 'sick': False, 'side': False, 'sidekick': False, 'sides': False, 'sidney': False, 'sight': False, 'sign': False, 'significant': False, 'signs': False, 'silent': False, 'silly': False, 'silver': False, 'similar': False, 'simon': False, 'simple': False, 'simply': True, 'since': True, 'sing': False, 'singer': False, 'singing': False, 'single': False, 'sir': False, 'sister': False, 'sisters': False, 'sit': False, 'sitcom': False, 'sitting': True, 'situation': False, 'situations': False, 'six': False, 'sixth': False, 'size': False, 'skills': False, 'skin': False, 'skip': True, 'sky': False, 'slapstick': False, 'slasher': True, 'slave': False, 'sleep': False, 'sleepy': False, 'slightly': False, 'slow': False, 'slowly': False, 'small': False, 'smart': False, 'smile': False, 'smith': False, 'smoking': False, 'snake': False, 'snipes': False, 'snow': False, 'soap': False, 'social': False, 'society': False, 'soft': False, 'soldier': False, 'soldiers': False, 'sole': False, 'solid': False, 'somehow': False, 'someone': True, 'something': False, 'sometimes': False, 'somewhat': False, 'somewhere': True, 'son': False, 'song': False, 'songs': False, 'sonny': False, 'soon': False, 'sorry': False, 'sort': False, 'sorts': False, 'soul': False, 'sound': False, 'sounds': False, 'soundtrack': False, 'source': False, 'south': False, 'space': False, 'spacey': False, 'spawn': False, 'speak': False, 'speaking': False, 'speaks': False, 'special': False, 'species': False, 'specifically': False, 'spectacular': False, 'speech': False, 'speed': False, 'spend': False, 'spending': False, 'spends': False, 'spent': False, 'spice': False, 'spielberg': False, 'spirit': False, 'spirited': False, 'spiritual': False, 'spoilers': False, 'spoken': False, 'sports': False, 'spot': False, 'spots': False, 'spy': False, 'stage': False, 'staged': False, 'stallone': False, 'stand': False, 'standard': False, 'standing': False, 'stands': False, 'stanley': False, 'star': False, 'starring': False, 'stars': False, 'starship': False, 'start': True, 'started': False, 'starting': False, 'starts': True, 'state': False, 'statement': False, 'states': False, 'station': False, 'status': False, 'stay': False, 'steal': False, 'stealing': False, 'steals': False, 'step': False, 'stephen': False, 'steps': False, 'stereotypes': False, 'stereotypical': False, 'steve': False, 'steven': False, 'stewart': False, 'stick': True, 'still': True, 'stiller': False, 'stock': False, 'stolen': False, 'stone': False, 'stop': False, 'stops': False, 'store': False, 'stories': False, 'storm': False, 'story': False, 'storyline': False, 'storytelling': False, 'straight': False, 'strange': True, 'strangely': False, 'street': True, 'streets': False, 'strength': False, 'stretch': False, 'strike': False, 'strikes': False, 'strip': False, 'strong': False, 'stronger': False, 'structure': False, 'struggle': False, 'struggling': False, 'stuart': False, 'stuck': False, 'student': False, 'students': False, 'studio': True, 'studios': False, 'study': False, 'stuff': False, 'stunning': False, 'stunt': False, 'stunts': False, 'stupid': False, 'style': False, 'stylish': False, 'sub': False, 'subject': False, 'subplot': False, 'subplots': False, 'substance': False, 'subtle': False, 'succeed': False, 'succeeds': False, 'success': False, 'successful': False, 'successfully': False, 'sudden': False, 'suddenly': False, 'suffer': False, 'suffering': False, 'suffers': False, 'suggest': False, 'suggests': False, 'suicide': False, 'suit': False, 'suits': True, 'summer': False, 'sun': False, 'super': False, 'superb': False, 'superior': False, 'supernatural': False, 'support': False, 'supporting': False, 'suppose': False, 'supposed': False, 'supposedly': False, 'sure': True, 'surely': False, 'surface': False, 'surprise': False, 'surprised': False, 'surprises': False, 'surprising': False, 'surprisingly': False, 'surreal': False, 'survive': False, 'survivors': False, 'susan': False, 'suspect': False, 'suspects': False, 'suspense': False, 'suspenseful': False, 'sweet': False, 'sword': False, 'sympathetic': False, 'sympathy': False, 'synopsis': False, 'system': False, 'table': False, 'take': False, 'taken': True, 'takes': False, 'taking': False, 'tale': False, 'talent': False, 'talented': False, 'talents': False, 'talk': False, 'talking': False, 'talks': False, 'tarantino': False, 'target': False, 'tarzan': False, 'task': False, 'taste': False, 'taylor': False, 'teacher': False, 'team': False, 'tears': False, 'technical': False, 'technology': False, 'ted': False, 'tedious': False, 'teen': True, 'teenage': False, 'teenagers': False, 'teens': False, 'television': False, 'tell': False, 'telling': False, 'tells': False, 'ten': False, 'tend': False, 'tense': False, 'tension': False, 'term': False, 'terminator': False, 'terms': False, 'terrible': False, 'terribly': True, 'terrific': False, 'terrifying': False, 'terror': False, 'terrorist': False, 'terry': False, 'test': False, 'texas': False, 'thankfully': False, 'thanks': False, 'theater': False, 'theaters': False, 'theatre': False, 'theatrical': False, 'theme': False, 'themes': False, 'theory': False, 'therefore': False, 'thief': False, 'thin': False, 'thing': False, 'things': True, 'think': False, 'thinking': False, 'thinks': False, 'third': False, 'thirty': False, 'thomas': False, 'thompson': False, 'thoroughly': False, 'though': False, 'thought': False, 'thoughts': False, 'threat': False, 'threatening': False, 'three': False, 'thriller': False, 'thrillers': False, 'thrilling': True, 'thrills': False, 'throughout': True, 'throw': False, 'throwing': False, 'thrown': False, 'throws': False, 'thus': False, 'tight': False, 'till': False, 'tim': False, 'time': False, 'times': False, 'timing': False, 'tiny': False, 'tired': False, 'titanic': False, 'title': False, 'today': False, 'todd': False, 'together': False, 'told': False, 'tom': False, 'tommy': False, 'tone': False, 'tony': False, 'took': True, 'top': False, 'torn': False, 'total': False, 'totally': False, 'touch': False, 'touches': True, 'touching': False, 'tough': False, 'toward': False, 'towards': False, 'town': False, 'toy': False, 'toys': False, 'track': False, 'tracks': False, 'trade': False, 'tradition': False, 'traditional': False, 'tragedy': False, 'tragic': False, 'trailer': False, 'trailers': False, 'train': False, 'training': False, 'trapped': False, 'trash': False, 'travel': False, 'travels': False, 'travolta': False, 'treat': False, 'treated': False, 'treatment': False, 'treats': False, 'trek': False, 'trial': False, 'tribe': False, 'trick': False, 'tricks': False, 'tried': False, 'tries': False, 'trilogy': False, 'trio': False, 'trip': False, 'trite': False, 'troopers': False, 'trouble': False, 'troubled': False, 'truck': False, 'true': False, 'truly': False, 'truman': False, 'trust': False, 'truth': False, 'try': False, 'trying': True, 'tucker': False, 'turn': False, 'turned': False, 'turning': True, 'turns': False, 'tv': False, 'twenty': False, 'twice': False, 'twin': False, 'twist': False, 'twisted': False, 'twists': False, 'two': True, 'tyler': False, 'type': False, 'types': True, 'typical': False, 'u': False, 'ugly': False, 'ultimate': False, 'ultimately': False, 'un': False, 'unable': False, 'unbelievable': False, 'understand': False, 'understanding': True, 'unexpected': False, 'unfortunate': False, 'unfortunately': False, 'unfunny': False, 'uninteresting': False, 'unique': False, 'united': False, 'universal': False, 'universe': False, 'unknown': False, 'unless': False, 'unlike': False, 'unlikely': False, 'unnecessary': False, 'unusual': False, 'upon': False, 'ups': False, 'urban': False, 'us': True, 'use': False, 'used': False, 'uses': False, 'using': False, 'usual': False, 'usually': False, 'utter': False, 'utterly': False, 'vacation': False, 'value': False, 'values': False, 'vampire': False, 'vampires': False, 'van': False, 'variety': False, 'various': False, 'vegas': False, 'vehicle': False, 'verhoeven': False, 'version': False, 'veteran': False, 'via': False, 'victim': False, 'victims': False, 'video': True, 'view': False, 'viewed': False, 'viewer': False, 'viewers': False, 'viewing': False, 'village': False, 'villain': False, 'villains': False, 'vincent': False, 'violence': False, 'violent': False, 'virtual': False, 'virtually': False, 'virus': False, 'vision': False, 'visit': False, 'visual': False, 'visually': False, 'visuals': False, 'voice': False, 'voiced': False, 'voices': False, 'vs': False, 'wahlberg': False, 'wait': False, 'waiting': False, 'walk': False, 'walking': False, 'walks': False, 'wall': False, 'wallace': False, 'walter': False, 'wan': False, 'want': True, 'wanted': False, 'wants': False, 'war': False, 'warm': False, 'warner': False, 'warning': False, 'warrior': False, 'wars': False, 'washington': False, 'waste': False, 'wasted': False, 'watch': True, 'watched': False, 'watching': False, 'water': False, 'wave': False, 'way': True, 'wayne': False, 'ways': True, 'weak': False, 'wealthy': False, 'weapon': False, 'weapons': False, 'wear': False, 'wearing': False, 'wears': False, 'wedding': False, 'week': False, 'weekend': False, 'weeks': False, 'weight': False, 'weird': True, 'welcome': False, 'well': True, 'welles': False, 'went': False, 'wes': True, 'west': False, 'western': False, 'whatever': True, 'whatsoever': False, 'whenever': False, 'whether': False, 'white': False, 'whole': False, 'whose': False, 'wide': False, 'wife': False, 'wild': False, 'wildly': False, 'william': False, 'williams': False, 'williamson': False, 'willing': False, 'willis': False, 'wilson': False, 'win': False, 'wind': False, 'window': False, 'wing': False, 'winner': False, 'winning': False, 'wins': False, 'wise': False, 'wish': False, 'wit': False, 'witch': True, 'within': False, 'without': False, 'witness': False, 'witty': False, 'woman': False, 'women': False, 'wonder': False, 'wonderful': False, 'wonderfully': False, 'wondering': False, 'wonders': False, 'wong': False, 'woo': False, 'wood': False, 'wooden': False, 'woods': False, 'woody': False, 'word': False, 'words': False, 'work': False, 'worked': False, 'worker': False, 'workers': False, 'working': False, 'works': False, 'world': True, 'worse': False, 'worst': False, 'worth': False, 'worthy': False, 'would': True, 'wrestling': False, 'write': True, 'writer': False, 'writers': False, 'writing': False, 'written': False, 'wrong': False, 'wrote': False, 'x': False, 'yeah': False, 'year': False, 'years': True, 'yes': False, 'yet': False, 'york': False, 'young': False, 'younger': False, 'youth': False, 'zero': False}\n"
     ]
    }
   ],
   "source": [
    "def find_features(document):\n",
    "    words = set(document)\n",
    "    features = {}\n",
    "    for w in word_features: # Why not enumerating words in the document? --> Then no way to find \"false\" words.\n",
    "        features[w] = (w in words) # True if w is in words/the document.\n",
    "        \n",
    "    return features\n",
    "\n",
    "print((find_features(movie_reviews.words('neg/cv000_29416.txt')))) # Negative review "
   ]
  },
  {
   "cell_type": "code",
   "execution_count": 15,
   "metadata": {
    "collapsed": true
   },
   "outputs": [],
   "source": [
    "featuresets = [(find_features(rev), category) \n",
    "                   for (rev, category) in documents]"
   ]
  },
  {
   "cell_type": "code",
   "execution_count": 16,
   "metadata": {},
   "outputs": [
    {
     "name": "stdout",
     "output_type": "stream",
     "text": [
      "neg\n"
     ]
    }
   ],
   "source": [
    "print(featuresets[0][1])"
   ]
  },
  {
   "cell_type": "markdown",
   "metadata": {
    "collapsed": true
   },
   "source": [
    "# CH 13 Naive Bayes"
   ]
  },
  {
   "cell_type": "code",
   "execution_count": 17,
   "metadata": {},
   "outputs": [
    {
     "name": "stdout",
     "output_type": "stream",
     "text": [
      "Naive Bayes Algo accuracy percent: 85.0\n",
      "Most Informative Features\n",
      "             outstanding = True              pos : neg    =     10.6 : 1.0\n",
      "               ludicrous = True              neg : pos    =      9.9 : 1.0\n",
      "                  finest = True              pos : neg    =      7.9 : 1.0\n",
      "                  seagal = True              neg : pos    =      7.4 : 1.0\n",
      "                   anger = True              pos : neg    =      7.2 : 1.0\n",
      "                   mulan = True              pos : neg    =      7.0 : 1.0\n",
      "                 idiotic = True              neg : pos    =      7.0 : 1.0\n",
      "             wonderfully = True              pos : neg    =      6.8 : 1.0\n",
      "              schumacher = True              neg : pos    =      6.6 : 1.0\n",
      "            breathtaking = True              pos : neg    =      6.3 : 1.0\n",
      "                   damon = True              pos : neg    =      6.1 : 1.0\n",
      "                    lame = True              neg : pos    =      5.7 : 1.0\n",
      "                   flynt = True              pos : neg    =      5.7 : 1.0\n",
      "                lebowski = True              pos : neg    =      5.7 : 1.0\n",
      "                   jolie = True              neg : pos    =      5.4 : 1.0\n"
     ]
    }
   ],
   "source": [
    "training_set = featuresets[:1900]\n",
    "testing_set = featuresets[1900:]\n",
    "\n",
    "classifier = nltk.NaiveBayesClassifier.train(training_set)\n",
    "print(\"Naive Bayes Algo accuracy percent:\", (nltk.classify.accuracy(classifier, testing_set))*100)\n",
    "classifier.show_most_informative_features(15)"
   ]
  },
  {
   "cell_type": "markdown",
   "metadata": {
    "collapsed": true
   },
   "source": [
    "# CH 14 Pickle"
   ]
  },
  {
   "cell_type": "code",
   "execution_count": 18,
   "metadata": {
    "collapsed": true
   },
   "outputs": [],
   "source": [
    "import pickle"
   ]
  },
  {
   "cell_type": "code",
   "execution_count": 19,
   "metadata": {
    "collapsed": true
   },
   "outputs": [],
   "source": [
    "save_classifier = open(\"naivebayes.pickle\", \"wb\")\n",
    "pickle.dump(classifier, save_classifier)\n",
    "save_classifier.close()"
   ]
  },
  {
   "cell_type": "code",
   "execution_count": 20,
   "metadata": {},
   "outputs": [
    {
     "name": "stdout",
     "output_type": "stream",
     "text": [
      "Naive Bayes Algo accuracy percent: 85.0\n",
      "Most Informative Features\n",
      "             outstanding = True              pos : neg    =     10.6 : 1.0\n",
      "               ludicrous = True              neg : pos    =      9.9 : 1.0\n",
      "                  finest = True              pos : neg    =      7.9 : 1.0\n",
      "                  seagal = True              neg : pos    =      7.4 : 1.0\n",
      "                   anger = True              pos : neg    =      7.2 : 1.0\n",
      "                   mulan = True              pos : neg    =      7.0 : 1.0\n",
      "                 idiotic = True              neg : pos    =      7.0 : 1.0\n",
      "             wonderfully = True              pos : neg    =      6.8 : 1.0\n",
      "              schumacher = True              neg : pos    =      6.6 : 1.0\n",
      "            breathtaking = True              pos : neg    =      6.3 : 1.0\n",
      "                   damon = True              pos : neg    =      6.1 : 1.0\n",
      "                    lame = True              neg : pos    =      5.7 : 1.0\n",
      "                   flynt = True              pos : neg    =      5.7 : 1.0\n",
      "                lebowski = True              pos : neg    =      5.7 : 1.0\n",
      "                   jolie = True              neg : pos    =      5.4 : 1.0\n"
     ]
    }
   ],
   "source": [
    "classifier_f = open(\"naivebayes.pickle\", \"rb\")\n",
    "classifier_loaded = pickle.load(classifier_f)\n",
    "classifier_f.close()\n",
    "\n",
    "print(\"Naive Bayes Algo accuracy percent:\", (nltk.classify.accuracy(classifier_loaded, testing_set))*100)\n",
    "classifier_loaded.show_most_informative_features(15)"
   ]
  },
  {
   "cell_type": "markdown",
   "metadata": {},
   "source": [
    "# Ch15"
   ]
  },
  {
   "cell_type": "code",
   "execution_count": 21,
   "metadata": {
    "collapsed": true
   },
   "outputs": [],
   "source": [
    "from nltk.classify.scikitlearn import SklearnClassifier\n",
    "from sklearn.naive_bayes import MultinomialNB, GaussianNB, BernoulliNB\n",
    "from sklearn.linear_model import LogisticRegression, SGDClassifier\n",
    "from sklearn.svm import SVC, LinearSVC, NuSVC"
   ]
  },
  {
   "cell_type": "code",
   "execution_count": 22,
   "metadata": {},
   "outputs": [
    {
     "name": "stdout",
     "output_type": "stream",
     "text": [
      "MNB_classifier accuracy percent: 89.0\n"
     ]
    }
   ],
   "source": [
    "MNB_classifier = SklearnClassifier(MultinomialNB())\n",
    "MNB_classifier.train(training_set)\n",
    "print(\"MNB_classifier accuracy percent:\", (nltk.classify.accuracy(MNB_classifier, testing_set))*100)"
   ]
  },
  {
   "cell_type": "code",
   "execution_count": 23,
   "metadata": {},
   "outputs": [
    {
     "ename": "TypeError",
     "evalue": "A sparse matrix was passed, but dense data is required. Use X.toarray() to convert to a dense numpy array.",
     "output_type": "error",
     "traceback": [
      "\u001b[1;31m---------------------------------------------------------------------------\u001b[0m",
      "\u001b[1;31mTypeError\u001b[0m                                 Traceback (most recent call last)",
      "\u001b[1;32m<ipython-input-23-0bff5be95efa>\u001b[0m in \u001b[0;36m<module>\u001b[1;34m()\u001b[0m\n\u001b[0;32m      1\u001b[0m \u001b[0mGaussianNB_classifier\u001b[0m \u001b[1;33m=\u001b[0m \u001b[0mSklearnClassifier\u001b[0m\u001b[1;33m(\u001b[0m\u001b[0mGaussianNB\u001b[0m\u001b[1;33m(\u001b[0m\u001b[1;33m)\u001b[0m\u001b[1;33m)\u001b[0m\u001b[1;33m\u001b[0m\u001b[0m\n\u001b[1;32m----> 2\u001b[1;33m \u001b[0mGaussianNB_classifier\u001b[0m\u001b[1;33m.\u001b[0m\u001b[0mtrain\u001b[0m\u001b[1;33m(\u001b[0m\u001b[0mtraining_set\u001b[0m\u001b[1;33m)\u001b[0m\u001b[1;33m\u001b[0m\u001b[0m\n\u001b[0m\u001b[0;32m      3\u001b[0m \u001b[0mprint\u001b[0m\u001b[1;33m(\u001b[0m\u001b[1;34m\"GaussianNB_classifier accuracy percent:\"\u001b[0m\u001b[1;33m,\u001b[0m \u001b[1;33m(\u001b[0m\u001b[0mnltk\u001b[0m\u001b[1;33m.\u001b[0m\u001b[0mclassify\u001b[0m\u001b[1;33m.\u001b[0m\u001b[0maccuracy\u001b[0m\u001b[1;33m(\u001b[0m\u001b[0mGaussianNB_classifier\u001b[0m\u001b[1;33m,\u001b[0m \u001b[0mtesting_set\u001b[0m\u001b[1;33m)\u001b[0m\u001b[1;33m)\u001b[0m\u001b[1;33m*\u001b[0m\u001b[1;36m100\u001b[0m\u001b[1;33m)\u001b[0m\u001b[1;33m\u001b[0m\u001b[0m\n",
      "\u001b[1;32m~\\AppData\\Local\\conda\\conda\\envs\\nltk\\lib\\site-packages\\nltk\\classify\\scikitlearn.py\u001b[0m in \u001b[0;36mtrain\u001b[1;34m(self, labeled_featuresets)\u001b[0m\n\u001b[0;32m    117\u001b[0m         \u001b[0mX\u001b[0m \u001b[1;33m=\u001b[0m \u001b[0mself\u001b[0m\u001b[1;33m.\u001b[0m\u001b[0m_vectorizer\u001b[0m\u001b[1;33m.\u001b[0m\u001b[0mfit_transform\u001b[0m\u001b[1;33m(\u001b[0m\u001b[0mX\u001b[0m\u001b[1;33m)\u001b[0m\u001b[1;33m\u001b[0m\u001b[0m\n\u001b[0;32m    118\u001b[0m         \u001b[0my\u001b[0m \u001b[1;33m=\u001b[0m \u001b[0mself\u001b[0m\u001b[1;33m.\u001b[0m\u001b[0m_encoder\u001b[0m\u001b[1;33m.\u001b[0m\u001b[0mfit_transform\u001b[0m\u001b[1;33m(\u001b[0m\u001b[0my\u001b[0m\u001b[1;33m)\u001b[0m\u001b[1;33m\u001b[0m\u001b[0m\n\u001b[1;32m--> 119\u001b[1;33m         \u001b[0mself\u001b[0m\u001b[1;33m.\u001b[0m\u001b[0m_clf\u001b[0m\u001b[1;33m.\u001b[0m\u001b[0mfit\u001b[0m\u001b[1;33m(\u001b[0m\u001b[0mX\u001b[0m\u001b[1;33m,\u001b[0m \u001b[0my\u001b[0m\u001b[1;33m)\u001b[0m\u001b[1;33m\u001b[0m\u001b[0m\n\u001b[0m\u001b[0;32m    120\u001b[0m \u001b[1;33m\u001b[0m\u001b[0m\n\u001b[0;32m    121\u001b[0m         \u001b[1;32mreturn\u001b[0m \u001b[0mself\u001b[0m\u001b[1;33m\u001b[0m\u001b[0m\n",
      "\u001b[1;32m~\\AppData\\Local\\conda\\conda\\envs\\nltk\\lib\\site-packages\\sklearn\\naive_bayes.py\u001b[0m in \u001b[0;36mfit\u001b[1;34m(self, X, y, sample_weight)\u001b[0m\n\u001b[0;32m    181\u001b[0m             \u001b[0mReturns\u001b[0m \u001b[0mself\u001b[0m\u001b[1;33m.\u001b[0m\u001b[1;33m\u001b[0m\u001b[0m\n\u001b[0;32m    182\u001b[0m         \"\"\"\n\u001b[1;32m--> 183\u001b[1;33m         \u001b[0mX\u001b[0m\u001b[1;33m,\u001b[0m \u001b[0my\u001b[0m \u001b[1;33m=\u001b[0m \u001b[0mcheck_X_y\u001b[0m\u001b[1;33m(\u001b[0m\u001b[0mX\u001b[0m\u001b[1;33m,\u001b[0m \u001b[0my\u001b[0m\u001b[1;33m)\u001b[0m\u001b[1;33m\u001b[0m\u001b[0m\n\u001b[0m\u001b[0;32m    184\u001b[0m         return self._partial_fit(X, y, np.unique(y), _refit=True,\n\u001b[0;32m    185\u001b[0m                                  sample_weight=sample_weight)\n",
      "\u001b[1;32m~\\AppData\\Local\\conda\\conda\\envs\\nltk\\lib\\site-packages\\sklearn\\utils\\validation.py\u001b[0m in \u001b[0;36mcheck_X_y\u001b[1;34m(X, y, accept_sparse, dtype, order, copy, force_all_finite, ensure_2d, allow_nd, multi_output, ensure_min_samples, ensure_min_features, y_numeric, warn_on_dtype, estimator)\u001b[0m\n\u001b[0;32m    540\u001b[0m     X = check_array(X, accept_sparse, dtype, order, copy, force_all_finite,\n\u001b[0;32m    541\u001b[0m                     \u001b[0mensure_2d\u001b[0m\u001b[1;33m,\u001b[0m \u001b[0mallow_nd\u001b[0m\u001b[1;33m,\u001b[0m \u001b[0mensure_min_samples\u001b[0m\u001b[1;33m,\u001b[0m\u001b[1;33m\u001b[0m\u001b[0m\n\u001b[1;32m--> 542\u001b[1;33m                     ensure_min_features, warn_on_dtype, estimator)\n\u001b[0m\u001b[0;32m    543\u001b[0m     \u001b[1;32mif\u001b[0m \u001b[0mmulti_output\u001b[0m\u001b[1;33m:\u001b[0m\u001b[1;33m\u001b[0m\u001b[0m\n\u001b[0;32m    544\u001b[0m         y = check_array(y, 'csr', force_all_finite=True, ensure_2d=False,\n",
      "\u001b[1;32m~\\AppData\\Local\\conda\\conda\\envs\\nltk\\lib\\site-packages\\sklearn\\utils\\validation.py\u001b[0m in \u001b[0;36mcheck_array\u001b[1;34m(array, accept_sparse, dtype, order, copy, force_all_finite, ensure_2d, allow_nd, ensure_min_samples, ensure_min_features, warn_on_dtype, estimator)\u001b[0m\n\u001b[0;32m    398\u001b[0m     \u001b[1;32mif\u001b[0m \u001b[0msp\u001b[0m\u001b[1;33m.\u001b[0m\u001b[0missparse\u001b[0m\u001b[1;33m(\u001b[0m\u001b[0marray\u001b[0m\u001b[1;33m)\u001b[0m\u001b[1;33m:\u001b[0m\u001b[1;33m\u001b[0m\u001b[0m\n\u001b[0;32m    399\u001b[0m         array = _ensure_sparse_format(array, accept_sparse, dtype, copy,\n\u001b[1;32m--> 400\u001b[1;33m                                       force_all_finite)\n\u001b[0m\u001b[0;32m    401\u001b[0m     \u001b[1;32melse\u001b[0m\u001b[1;33m:\u001b[0m\u001b[1;33m\u001b[0m\u001b[0m\n\u001b[0;32m    402\u001b[0m         \u001b[0marray\u001b[0m \u001b[1;33m=\u001b[0m \u001b[0mnp\u001b[0m\u001b[1;33m.\u001b[0m\u001b[0marray\u001b[0m\u001b[1;33m(\u001b[0m\u001b[0marray\u001b[0m\u001b[1;33m,\u001b[0m \u001b[0mdtype\u001b[0m\u001b[1;33m=\u001b[0m\u001b[0mdtype\u001b[0m\u001b[1;33m,\u001b[0m \u001b[0morder\u001b[0m\u001b[1;33m=\u001b[0m\u001b[0morder\u001b[0m\u001b[1;33m,\u001b[0m \u001b[0mcopy\u001b[0m\u001b[1;33m=\u001b[0m\u001b[0mcopy\u001b[0m\u001b[1;33m)\u001b[0m\u001b[1;33m\u001b[0m\u001b[0m\n",
      "\u001b[1;32m~\\AppData\\Local\\conda\\conda\\envs\\nltk\\lib\\site-packages\\sklearn\\utils\\validation.py\u001b[0m in \u001b[0;36m_ensure_sparse_format\u001b[1;34m(spmatrix, accept_sparse, dtype, copy, force_all_finite)\u001b[0m\n\u001b[0;32m    242\u001b[0m \u001b[1;33m\u001b[0m\u001b[0m\n\u001b[0;32m    243\u001b[0m     \u001b[1;32mif\u001b[0m \u001b[0maccept_sparse\u001b[0m \u001b[1;32mis\u001b[0m \u001b[1;32mFalse\u001b[0m\u001b[1;33m:\u001b[0m\u001b[1;33m\u001b[0m\u001b[0m\n\u001b[1;32m--> 244\u001b[1;33m         raise TypeError('A sparse matrix was passed, but dense '\n\u001b[0m\u001b[0;32m    245\u001b[0m                         \u001b[1;34m'data is required. Use X.toarray() to '\u001b[0m\u001b[1;33m\u001b[0m\u001b[0m\n\u001b[0;32m    246\u001b[0m                         'convert to a dense numpy array.')\n",
      "\u001b[1;31mTypeError\u001b[0m: A sparse matrix was passed, but dense data is required. Use X.toarray() to convert to a dense numpy array."
     ]
    }
   ],
   "source": [
    "GaussianNB_classifier = SklearnClassifier(GaussianNB())\n",
    "GaussianNB_classifier.train(training_set)\n",
    "print(\"GaussianNB_classifier accuracy percent:\", (nltk.classify.accuracy(GaussianNB_classifier, testing_set))*100)"
   ]
  },
  {
   "cell_type": "code",
   "execution_count": 24,
   "metadata": {},
   "outputs": [
    {
     "name": "stdout",
     "output_type": "stream",
     "text": [
      "BernoulliNB_classifier accuracy percent: 85.0\n"
     ]
    }
   ],
   "source": [
    "BernoulliNB_classifier = SklearnClassifier(BernoulliNB())\n",
    "BernoulliNB_classifier.train(training_set)\n",
    "print(\"BernoulliNB_classifier accuracy percent:\", (nltk.classify.accuracy(BernoulliNB_classifier, testing_set))*100)"
   ]
  },
  {
   "cell_type": "code",
   "execution_count": 26,
   "metadata": {},
   "outputs": [
    {
     "name": "stdout",
     "output_type": "stream",
     "text": [
      "LogisticRegression_classifier accuracy percent: 81.0\n"
     ]
    }
   ],
   "source": [
    "LogisticRegression_classifier = SklearnClassifier(LogisticRegression())\n",
    "LogisticRegression_classifier.train(training_set)\n",
    "print(\"LogisticRegression_classifier accuracy percent:\", (nltk.classify.accuracy(LogisticRegression_classifier, testing_set))*100)"
   ]
  },
  {
   "cell_type": "code",
   "execution_count": 28,
   "metadata": {},
   "outputs": [
    {
     "name": "stderr",
     "output_type": "stream",
     "text": [
      "C:\\Users\\iambj\\AppData\\Local\\conda\\conda\\envs\\nltk\\lib\\site-packages\\sklearn\\linear_model\\stochastic_gradient.py:84: FutureWarning: max_iter and tol parameters have been added in <class 'sklearn.linear_model.stochastic_gradient.SGDClassifier'> in 0.19. If both are left unset, they default to max_iter=5 and tol=None. If tol is not None, max_iter defaults to max_iter=1000. From 0.21, default max_iter will be 1000, and default tol will be 1e-3.\n",
      "  \"and default tol will be 1e-3.\" % type(self), FutureWarning)\n"
     ]
    },
    {
     "name": "stdout",
     "output_type": "stream",
     "text": [
      "SGDClassifier_classifier accuracy percent: 82.0\n"
     ]
    }
   ],
   "source": [
    "SGDClassifier_classifier = SklearnClassifier(SGDClassifier())\n",
    "SGDClassifier_classifier.train(training_set)\n",
    "print(\"SGDClassifier_classifier accuracy percent:\", (nltk.classify.accuracy(SGDClassifier_classifier, testing_set))*100)"
   ]
  },
  {
   "cell_type": "code",
   "execution_count": 29,
   "metadata": {},
   "outputs": [
    {
     "name": "stdout",
     "output_type": "stream",
     "text": [
      "SVC_classifier accuracy percent: 83.0\n"
     ]
    }
   ],
   "source": [
    "SVC_classifier = SklearnClassifier(SVC())\n",
    "SVC_classifier.train(training_set)\n",
    "print(\"SVC_classifier accuracy percent:\", (nltk.classify.accuracy(SVC_classifier, testing_set))*100)"
   ]
  },
  {
   "cell_type": "code",
   "execution_count": 30,
   "metadata": {},
   "outputs": [
    {
     "name": "stdout",
     "output_type": "stream",
     "text": [
      "LinearSVC_classifier accuracy percent: 81.0\n"
     ]
    }
   ],
   "source": [
    "LinearSVC_classifier = SklearnClassifier(LinearSVC())\n",
    "LinearSVC_classifier.train(training_set)\n",
    "print(\"LinearSVC_classifier accuracy percent:\", (nltk.classify.accuracy(LinearSVC_classifier, testing_set))*100)"
   ]
  },
  {
   "cell_type": "code",
   "execution_count": 31,
   "metadata": {},
   "outputs": [
    {
     "name": "stdout",
     "output_type": "stream",
     "text": [
      "NuSVC_classifier accuracy percent: 82.0\n"
     ]
    }
   ],
   "source": [
    "NuSVC_classifier = SklearnClassifier(NuSVC())\n",
    "NuSVC_classifier.train(training_set)\n",
    "print(\"NuSVC_classifier accuracy percent:\", (nltk.classify.accuracy(NuSVC_classifier, testing_set))*100)"
   ]
  },
  {
   "cell_type": "code",
   "execution_count": 41,
   "metadata": {
    "collapsed": true
   },
   "outputs": [],
   "source": [
    "from nltk.classify import ClassifierI\n",
    "from statistics import mode\n",
    "\n",
    "class VoteClassifier(ClassifierI):\n",
    "    def __init__(self, *classifiers): # don't forget *\n",
    "        self._classifiers = classifiers\n",
    "        \n",
    "    def classify(self, features):\n",
    "        votes = []\n",
    "        for c in self._classifiers:\n",
    "            v = c.classify(features)\n",
    "            votes.append(v)\n",
    "        return mode(votes) # pick the most popular one. pos or neg\n",
    "    \n",
    "    def confidence(self, features):\n",
    "        votes = []\n",
    "        for c in self._classifiers:\n",
    "            v = c.classify(features)\n",
    "            votes.append(v)\n",
    "        \n",
    "        choice_votes = votes.count(mode(votes)) # the number of most popular one\n",
    "        conf = choice_votes / len(votes)        # the ratio of the most popular one.\n",
    "        \n",
    "        return conf"
   ]
  },
  {
   "cell_type": "code",
   "execution_count": 42,
   "metadata": {},
   "outputs": [
    {
     "name": "stdout",
     "output_type": "stream",
     "text": [
      "voted_classifier accuracy percent: 89.0\n"
     ]
    }
   ],
   "source": [
    "voted_classifier = VoteClassifier(classifier,\n",
    "                                  MNB_classifier,\n",
    "                                  BernoulliNB_classifier,                                   \n",
    "                                  LinearSVC_classifier,\n",
    "                                  SVC_classifier,\n",
    "                                  NuSVC_classifier, \n",
    "                                  LogisticRegression_classifier)\n",
    "\n",
    "print(\"voted_classifier accuracy percent:\", (nltk.classify.accuracy(voted_classifier, testing_set))*100)"
   ]
  },
  {
   "cell_type": "code",
   "execution_count": 50,
   "metadata": {},
   "outputs": [
    {
     "name": "stdout",
     "output_type": "stream",
     "text": [
      "Classification pos , Confidence Score 100.0 %\n"
     ]
    }
   ],
   "source": [
    "        print(\"Classification\", voted_classifier.classify(testing_set[0][0]), \", Confidence Score\", voted_classifier.confidence(testing_set[0][0])*100, \"%\" )"
   ]
  },
  {
   "cell_type": "code",
   "execution_count": 53,
   "metadata": {},
   "outputs": [
    {
     "name": "stdout",
     "output_type": "stream",
     "text": [
      "Classification pos , Confidence Score 100.0 %\n",
      "Classification neg , Confidence Score 100.0 %\n",
      "Classification pos , Confidence Score 100.0 %\n",
      "Classification pos , Confidence Score 100.0 %\n",
      "Classification neg , Confidence Score 100.0 %\n",
      "Classification pos , Confidence Score 100.0 %\n",
      "Classification pos , Confidence Score 57.14285714285714 %\n"
     ]
    }
   ],
   "source": [
    "print(\"Classification\", voted_classifier.classify(testing_set[1][0]), \", Confidence Score\", voted_classifier.confidence(testing_set[1][0])*100, \"%\" )\n",
    "print(\"Classification\", voted_classifier.classify(testing_set[2][0]), \", Confidence Score\", voted_classifier.confidence(testing_set[2][0])*100, \"%\" )\n",
    "print(\"Classification\", voted_classifier.classify(testing_set[3][0]), \", Confidence Score\", voted_classifier.confidence(testing_set[3][0])*100, \"%\" )\n",
    "print(\"Classification\", voted_classifier.classify(testing_set[4][0]), \", Confidence Score\", voted_classifier.confidence(testing_set[4][0])*100, \"%\" )\n",
    "print(\"Classification\", voted_classifier.classify(testing_set[5][0]), \", Confidence Score\", voted_classifier.confidence(testing_set[5][0])*100, \"%\" )\n",
    "print(\"Classification\", voted_classifier.classify(testing_set[6][0]), \", Confidence Score\", voted_classifier.confidence(testing_set[6][0])*100, \"%\" )\n",
    "print(\"Classification\", voted_classifier.classify(testing_set[7][0]), \", Confidence Score\", voted_classifier.confidence(testing_set[7][0])*100, \"%\" )"
   ]
  },
  {
   "cell_type": "code",
   "execution_count": null,
   "metadata": {
    "collapsed": true
   },
   "outputs": [],
   "source": []
  }
 ],
 "metadata": {
  "kernelspec": {
   "display_name": "Python 3",
   "language": "python",
   "name": "python3"
  },
  "language_info": {
   "codemirror_mode": {
    "name": "ipython",
    "version": 3
   },
   "file_extension": ".py",
   "mimetype": "text/x-python",
   "name": "python",
   "nbconvert_exporter": "python",
   "pygments_lexer": "ipython3",
   "version": "3.6.2"
  }
 },
 "nbformat": 4,
 "nbformat_minor": 2
}
