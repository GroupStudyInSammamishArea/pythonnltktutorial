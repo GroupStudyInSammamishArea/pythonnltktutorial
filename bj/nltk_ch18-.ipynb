{
 "cells": [
  {
   "cell_type": "code",
   "execution_count": 5,
   "metadata": {
    "collapsed": true
   },
   "outputs": [],
   "source": [
    "import nltk\n",
    "import random\n",
    "from nltk.corpus import movie_reviews\n",
    "from nltk.tokenize import word_tokenize"
   ]
  },
  {
   "cell_type": "code",
   "execution_count": 3,
   "metadata": {
    "collapsed": true
   },
   "outputs": [],
   "source": [
    "short_pos = open(\"nltk_positive.txt\", \"r\").read()\n",
    "short_neg = open(\"nltk_negative.txt\", \"r\").read()"
   ]
  },
  {
   "cell_type": "code",
   "execution_count": 6,
   "metadata": {},
   "outputs": [],
   "source": [
    "documents = []\n",
    "\n",
    "for r in short_pos.split('\\n'):\n",
    "    documents.append((r, \"pos\"))\n",
    "    \n",
    "for r in short_neg.split('\\n'):\n",
    "    documents.append((r, \"neg\"))\n",
    "    \n",
    "all_words = []\n",
    "\n",
    "short_pos_words = word_tokenize(short_pos)\n",
    "short_neg_words = word_tokenize(short_neg)\n",
    "\n",
    "for w in short_pos_words:\n",
    "    all_words.append(w.lower())\n",
    "\n",
    "for w in short_neg_words:\n",
    "    all_words.append(w.lower())\n",
    "\n",
    "all_words_dist = nltk.FreqDist(all_words)"
   ]
  },
  {
   "cell_type": "code",
   "execution_count": 12,
   "metadata": {},
   "outputs": [
    {
     "name": "stdout",
     "output_type": "stream",
     "text": [
      "[('.', 14010), ('the', 10111), (',', 10037), ('a', 7306), ('and', 6201), ('of', 6062), ('to', 4234), ('is', 3558), (\"'s\", 3537), ('it', 3418), ('that', 2657), ('in', 2629), ('as', 1803), ('but', 1641), ('film', 1589)]\n"
     ]
    }
   ],
   "source": [
    "print(all_words_dist.most_common(15))"
   ]
  },
  {
   "cell_type": "code",
   "execution_count": 14,
   "metadata": {},
   "outputs": [
    {
     "name": "stdout",
     "output_type": "stream",
     "text": [
      "!\"#$%&'()*+,-./:;<=>?@[\\]^_`{|}~\n"
     ]
    }
   ],
   "source": [
    "from nltk.corpus import stopwords\n",
    "import string\n",
    "\n",
    "stop_words = set(stopwords.words(\"english\"))\n",
    "stop_words = stop_words.union(set(string.punctuation))\n",
    "\n",
    "print(string.punctuation)\n",
    "\n",
    "filtered_words = []\n",
    "for w in all_words:\n",
    "    if w not in stop_words:\n",
    "        filtered_words.append(w)\n",
    "        \n",
    "filtered_words_dist = nltk.FreqDist(filtered_words)"
   ]
  },
  {
   "cell_type": "code",
   "execution_count": 15,
   "metadata": {},
   "outputs": [
    {
     "name": "stdout",
     "output_type": "stream",
     "text": [
      "[(\"'s\", 3537), ('film', 1589), ('movie', 1336), (\"n't\", 940), ('one', 739), ('like', 720), ('--', 670), ('``', 655), ('story', 493), ('much', 386), ('even', 382), ('good', 377), ('comedy', 356), ('time', 341), ('characters', 330)]\n"
     ]
    }
   ],
   "source": [
    "print(filtered_words_dist.most_common(15))"
   ]
  },
  {
   "cell_type": "code",
   "execution_count": 8,
   "metadata": {
    "collapsed": true
   },
   "outputs": [],
   "source": [
    "word_features = list(filtered_words_dist.keys())[:5000]\n",
    "###############################\n",
    "# BUGBUG ??\n",
    "###############################\n",
    "word_features = filtered_words_dist.most_common(5000)\n",
    "word_features = [word_feature[0]\n",
    "                    for word_feature in word_features]\n",
    "word_features.sort()"
   ]
  },
  {
   "cell_type": "code",
   "execution_count": 16,
   "metadata": {
    "collapsed": true
   },
   "outputs": [],
   "source": [
    "def find_features(document):\n",
    "    words = word_tokenize(document) # BJ: Why do we need to change this instead of set just using the same method?\n",
    "    features = {}\n",
    "    for w in word_features: # Why not enumerating words in the document? --> Then no way to find \"false\" words.\n",
    "        features[w] = (w in words) # True if w is in words/the document.\n",
    "        \n",
    "    return features"
   ]
  },
  {
   "cell_type": "code",
   "execution_count": 17,
   "metadata": {
    "collapsed": true
   },
   "outputs": [],
   "source": [
    "featuresets = [(find_features(rev), category) \n",
    "                   for (rev, category) in documents]\n",
    "\n",
    "random.shuffle(featuresets)"
   ]
  },
  {
   "cell_type": "code",
   "execution_count": 18,
   "metadata": {},
   "outputs": [
    {
     "name": "stdout",
     "output_type": "stream",
     "text": [
      "Naive Bayes Algo accuracy percent: 76.6566265060241\n",
      "Most Informative Features\n",
      "              engrossing = True              pos : neg    =     21.6 : 1.0\n",
      "                mediocre = True              neg : pos    =     16.4 : 1.0\n",
      "                 generic = True              neg : pos    =     15.7 : 1.0\n",
      "               inventive = True              pos : neg    =     14.9 : 1.0\n",
      "                 routine = True              neg : pos    =     14.4 : 1.0\n",
      "                intimate = True              pos : neg    =     14.3 : 1.0\n",
      "                  boring = True              neg : pos    =     13.9 : 1.0\n",
      "              refreshing = True              pos : neg    =     13.6 : 1.0\n",
      "                    flat = True              neg : pos    =     13.5 : 1.0\n",
      "                powerful = True              pos : neg    =     12.7 : 1.0\n",
      "                    warm = True              pos : neg    =     12.5 : 1.0\n",
      "                      90 = True              neg : pos    =     12.4 : 1.0\n",
      "            refreshingly = True              pos : neg    =     12.3 : 1.0\n",
      "               wonderful = True              pos : neg    =     11.7 : 1.0\n",
      "             mesmerizing = True              pos : neg    =     11.6 : 1.0\n"
     ]
    }
   ],
   "source": [
    "training_set = featuresets[:10000]\n",
    "testing_set = featuresets[10000:]\n",
    "\n",
    "classifier = nltk.NaiveBayesClassifier.train(training_set)\n",
    "print(\"Naive Bayes Algo accuracy percent:\", (nltk.classify.accuracy(classifier, testing_set))*100)\n",
    "classifier.show_most_informative_features(15)"
   ]
  },
  {
   "cell_type": "code",
   "execution_count": 19,
   "metadata": {
    "collapsed": true
   },
   "outputs": [],
   "source": [
    "from nltk.classify.scikitlearn import SklearnClassifier\n",
    "from sklearn.naive_bayes import MultinomialNB, GaussianNB, BernoulliNB\n",
    "from sklearn.linear_model import LogisticRegression, SGDClassifier\n",
    "from sklearn.svm import SVC, LinearSVC, NuSVC"
   ]
  },
  {
   "cell_type": "code",
   "execution_count": 20,
   "metadata": {},
   "outputs": [
    {
     "name": "stdout",
     "output_type": "stream",
     "text": [
      "MNB_classifier accuracy percent: 75.30120481927712\n"
     ]
    }
   ],
   "source": [
    "MNB_classifier = SklearnClassifier(MultinomialNB())\n",
    "MNB_classifier.train(training_set)\n",
    "print(\"MNB_classifier accuracy percent:\", (nltk.classify.accuracy(MNB_classifier, testing_set))*100)"
   ]
  },
  {
   "cell_type": "code",
   "execution_count": 21,
   "metadata": {
    "collapsed": true
   },
   "outputs": [],
   "source": [
    "# GaussianNB_classifier = SklearnClassifier(GaussianNB())\n",
    "# GaussianNB_classifier.train(training_set)\n",
    "# print(\"GaussianNB_classifier accuracy percent:\", (nltk.classify.accuracy(GaussianNB_classifier, testing_set))*100)"
   ]
  },
  {
   "cell_type": "code",
   "execution_count": 22,
   "metadata": {},
   "outputs": [
    {
     "name": "stdout",
     "output_type": "stream",
     "text": [
      "BernoulliNB_classifier accuracy percent: 76.95783132530121\n"
     ]
    }
   ],
   "source": [
    "BernoulliNB_classifier = SklearnClassifier(BernoulliNB())\n",
    "BernoulliNB_classifier.train(training_set)\n",
    "print(\"BernoulliNB_classifier accuracy percent:\", (nltk.classify.accuracy(BernoulliNB_classifier, testing_set))*100)"
   ]
  },
  {
   "cell_type": "code",
   "execution_count": 23,
   "metadata": {},
   "outputs": [
    {
     "name": "stdout",
     "output_type": "stream",
     "text": [
      "LogisticRegression_classifier accuracy percent: 76.05421686746988\n"
     ]
    }
   ],
   "source": [
    "LogisticRegression_classifier = SklearnClassifier(LogisticRegression())\n",
    "LogisticRegression_classifier.train(training_set)\n",
    "print(\"LogisticRegression_classifier accuracy percent:\", (nltk.classify.accuracy(LogisticRegression_classifier, testing_set))*100)"
   ]
  },
  {
   "cell_type": "code",
   "execution_count": 24,
   "metadata": {},
   "outputs": [
    {
     "name": "stdout",
     "output_type": "stream",
     "text": [
      "SGDClassifier_classifier accuracy percent: 73.04216867469879\n"
     ]
    }
   ],
   "source": [
    "SGDClassifier_classifier = SklearnClassifier(SGDClassifier())\n",
    "SGDClassifier_classifier.train(training_set)\n",
    "print(\"SGDClassifier_classifier accuracy percent:\", (nltk.classify.accuracy(SGDClassifier_classifier, testing_set))*100)"
   ]
  },
  {
   "cell_type": "code",
   "execution_count": 25,
   "metadata": {},
   "outputs": [
    {
     "name": "stdout",
     "output_type": "stream",
     "text": [
      "SVC_classifier accuracy percent: 48.19277108433735\n"
     ]
    }
   ],
   "source": [
    "SVC_classifier = SklearnClassifier(SVC())\n",
    "SVC_classifier.train(training_set)\n",
    "print(\"SVC_classifier accuracy percent:\", (nltk.classify.accuracy(SVC_classifier, testing_set))*100)"
   ]
  },
  {
   "cell_type": "code",
   "execution_count": 26,
   "metadata": {},
   "outputs": [
    {
     "name": "stdout",
     "output_type": "stream",
     "text": [
      "LinearSVC_classifier accuracy percent: 73.3433734939759\n"
     ]
    }
   ],
   "source": [
    "LinearSVC_classifier = SklearnClassifier(LinearSVC())\n",
    "LinearSVC_classifier.train(training_set)\n",
    "print(\"LinearSVC_classifier accuracy percent:\", (nltk.classify.accuracy(LinearSVC_classifier, testing_set))*100)"
   ]
  },
  {
   "cell_type": "code",
   "execution_count": 29,
   "metadata": {},
   "outputs": [
    {
     "name": "stdout",
     "output_type": "stream",
     "text": [
      "NuSVC_classifier accuracy percent: 73.94578313253012\n"
     ]
    }
   ],
   "source": [
    "NuSVC_classifier = SklearnClassifier(NuSVC())\n",
    "NuSVC_classifier.train(training_set)\n",
    "print(\"NuSVC_classifier accuracy percent:\", (nltk.classify.accuracy(NuSVC_classifier, testing_set))*100)"
   ]
  },
  {
   "cell_type": "code",
   "execution_count": 27,
   "metadata": {
    "collapsed": true
   },
   "outputs": [],
   "source": [
    "from nltk.classify import ClassifierI\n",
    "from statistics import mode\n",
    "\n",
    "class VoteClassifier(ClassifierI):\n",
    "    def __init__(self, *classifiers): # don't forget *\n",
    "        self._classifiers = classifiers\n",
    "        \n",
    "    def classify(self, features):\n",
    "        votes = []\n",
    "        for c in self._classifiers:\n",
    "            v = c.classify(features)\n",
    "            votes.append(v)\n",
    "        return mode(votes) # pick the most popular one. pos or neg        \n",
    "\n",
    "    # mode() has an issue with even number, not sure a work around, so using odd number classifier.\n",
    "# no unique mode; found 2 equally common values\n",
    "\n",
    "    def confidence(self, features):\n",
    "        votes = []\n",
    "        for c in self._classifiers:\n",
    "            v = c.classify(features)\n",
    "            votes.append(v)\n",
    "        \n",
    "        choice_votes = votes.count(mode(votes)) # the number of most popular one\n",
    "        conf = choice_votes / len(votes)        # the ratio of the most popular one.\n",
    "        \n",
    "        return conf"
   ]
  },
  {
   "cell_type": "code",
   "execution_count": 48,
   "metadata": {},
   "outputs": [
    {
     "name": "stdout",
     "output_type": "stream",
     "text": [
      "voted_classifier accuracy percent: 76.50602409638554\n"
     ]
    }
   ],
   "source": [
    "voted_classifier = VoteClassifier(classifier,\n",
    "                                  MNB_classifier,\n",
    "                                  BernoulliNB_classifier,                                   \n",
    "                                  # SVC_Classifier,\n",
    "                                  # LinearSVC_classifier,                                  \n",
    "                                  NuSVC_classifier, \n",
    "                                  LogisticRegression_classifier)\n",
    "\n",
    "# mode() has an issue with even number, not sure a work around, so using odd number classifier.\n",
    "# no unique mode; found 2 equally common values\n",
    "\n",
    "print(\"voted_classifier accuracy percent:\", (nltk.classify.accuracy(voted_classifier, testing_set))*100)"
   ]
  },
  {
   "cell_type": "code",
   "execution_count": 49,
   "metadata": {},
   "outputs": [
    {
     "name": "stdout",
     "output_type": "stream",
     "text": [
      "Classification neg , Confidence Score 100.0 %\n"
     ]
    }
   ],
   "source": [
    "print(\"Classification\", voted_classifier.classify(testing_set[0][0]), \", Confidence Score\", voted_classifier.confidence(testing_set[0][0])*100, \"%\" )"
   ]
  },
  {
   "cell_type": "code",
   "execution_count": 50,
   "metadata": {},
   "outputs": [
    {
     "name": "stdout",
     "output_type": "stream",
     "text": [
      "Classification neg , Confidence Score 100.0 %\n",
      "Classification pos , Confidence Score 100.0 %\n",
      "Classification pos , Confidence Score 100.0 %\n",
      "Classification neg , Confidence Score 100.0 %\n",
      "Classification pos , Confidence Score 100.0 %\n",
      "Classification neg , Confidence Score 100.0 %\n",
      "Classification neg , Confidence Score 100.0 %\n"
     ]
    }
   ],
   "source": [
    "print(\"Classification\", voted_classifier.classify(testing_set[1][0]), \", Confidence Score\", voted_classifier.confidence(testing_set[1][0])*100, \"%\" )\n",
    "print(\"Classification\", voted_classifier.classify(testing_set[2][0]), \", Confidence Score\", voted_classifier.confidence(testing_set[2][0])*100, \"%\" )\n",
    "print(\"Classification\", voted_classifier.classify(testing_set[3][0]), \", Confidence Score\", voted_classifier.confidence(testing_set[3][0])*100, \"%\" )\n",
    "print(\"Classification\", voted_classifier.classify(testing_set[4][0]), \", Confidence Score\", voted_classifier.confidence(testing_set[4][0])*100, \"%\" )\n",
    "print(\"Classification\", voted_classifier.classify(testing_set[5][0]), \", Confidence Score\", voted_classifier.confidence(testing_set[5][0])*100, \"%\" )\n",
    "print(\"Classification\", voted_classifier.classify(testing_set[6][0]), \", Confidence Score\", voted_classifier.confidence(testing_set[6][0])*100, \"%\" )\n",
    "print(\"Classification\", voted_classifier.classify(testing_set[7][0]), \", Confidence Score\", voted_classifier.confidence(testing_set[7][0])*100, \"%\" )"
   ]
  },
  {
   "cell_type": "code",
   "execution_count": 51,
   "metadata": {
    "collapsed": true
   },
   "outputs": [],
   "source": [
    "import pickle"
   ]
  },
  {
   "cell_type": "code",
   "execution_count": 56,
   "metadata": {
    "collapsed": true
   },
   "outputs": [],
   "source": [
    "def pickle_data(data, filename):\n",
    "    file = open(filename, \"wb\")\n",
    "    pickle.dump(data, file)\n",
    "    file.close()"
   ]
  },
  {
   "cell_type": "code",
   "execution_count": 58,
   "metadata": {},
   "outputs": [],
   "source": [
    "pickle_data(classifier, \"naivebayesian_classifier.pickle\")\n",
    "pickle_data(MNB_classifier, \"MNB_classifier.pickle\")\n",
    "pickle_data(BernoulliNB_classifier, \"BernoulliNB_classifier.pickle\")\n",
    "pickle_data(LinearSVC_classifier, \"LinearSVC_classifier.pickle\")\n",
    "pickle_data(SVC_classifier, \"SVC_classifier.pickle\")\n",
    "pickle_data(NuSVC_classifier, \"NuSVC_classifier.pickle\")\n",
    "pickle_data(LogisticRegression_classifier, \"LogisticRegression_classifier.pickle\")\n",
    "pickle_data(SGDClassifier_classifier, \"SGDClassifier_classifier.pickle\")\n",
    "pickle_data(voted_classifier, \"voted_classifier.pickle\")\n",
    "\n",
    "pickle_data(training_set, \"NLTK_training_set.pickle\")\n",
    "pickle_data(testing_set, \"NLTK_test_set.pickle\")"
   ]
  },
  {
   "cell_type": "code",
   "execution_count": null,
   "metadata": {
    "collapsed": true
   },
   "outputs": [],
   "source": []
  }
 ],
 "metadata": {
  "kernelspec": {
   "display_name": "Python 3",
   "language": "python",
   "name": "python3"
  },
  "language_info": {
   "codemirror_mode": {
    "name": "ipython",
    "version": 3
   },
   "file_extension": ".py",
   "mimetype": "text/x-python",
   "name": "python",
   "nbconvert_exporter": "python",
   "pygments_lexer": "ipython3",
   "version": "3.6.1"
  }
 },
 "nbformat": 4,
 "nbformat_minor": 2
}
