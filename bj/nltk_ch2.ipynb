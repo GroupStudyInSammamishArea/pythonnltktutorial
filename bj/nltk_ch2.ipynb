{
 "cells": [
  {
   "cell_type": "code",
   "execution_count": 1,
   "metadata": {
    "collapsed": true
   },
   "outputs": [],
   "source": [
    "from nltk.corpus import stopwords\n",
    "from nltk.tokenize import word_tokenize"
   ]
  },
  {
   "cell_type": "code",
   "execution_count": 2,
   "metadata": {
    "collapsed": true
   },
   "outputs": [],
   "source": [
    "example_sentence = \"This is an example showing off stop word filteration.\""
   ]
  },
  {
   "cell_type": "code",
   "execution_count": 3,
   "metadata": {
    "collapsed": true
   },
   "outputs": [],
   "source": [
    "stop_words = set(stopwords.words(\"english\"))"
   ]
  },
  {
   "cell_type": "code",
   "execution_count": 4,
   "metadata": {},
   "outputs": [
    {
     "name": "stdout",
     "output_type": "stream",
     "text": [
      "{'above', 'its', 'in', 'ain', \"she's\", 'through', 't', 'for', 'here', 'aren', \"shan't\", 'being', 'these', 'at', \"you'd\", \"hadn't\", \"mustn't\", \"mightn't\", 'herself', 'he', 'of', 'weren', 'between', 'further', 'against', 'and', 'up', 'did', 'from', 'when', 'such', 'don', 'few', 'will', 'mustn', \"weren't\", \"didn't\", 'own', \"doesn't\", 'what', 'be', 'having', 'by', 'just', \"don't\", 'under', 'other', 'themselves', \"couldn't\", 'out', 'during', 'couldn', 'yours', 'isn', 'was', 'y', \"won't\", 'about', 'again', 'me', 'wasn', 'into', 'ma', 'd', \"isn't\", 'their', \"you've\", 'where', 'were', 'very', 'an', 'ourselves', 's', 'her', 'it', 'to', 'why', \"you'll\", 'both', 'only', 'after', \"it's\", 'is', 'can', 'him', 'they', 'before', 'on', 've', 'have', 'or', 'doesn', 'hers', 'down', 'all', 'if', 'so', 'yourself', 'a', 'm', 'myself', 'until', 'mightn', 'too', 'does', 'do', 'am', 'your', 'no', \"that'll\", 'who', 'hadn', 'are', 'himself', 'you', 'won', 'we', 'each', 'i', \"wasn't\", 'nor', 'shouldn', 're', 'not', 'she', \"wouldn't\", 'which', \"should've\", 'there', 'those', 'll', 'shan', 'his', 'theirs', 'didn', 'wouldn', 'itself', 'most', 'than', 'now', \"you're\", 'my', \"haven't\", 'but', 'should', 'whom', \"needn't\", 'with', 'been', \"hasn't\", 'some', 'our', 'below', 'any', 'the', 'o', 'because', 'that', 'once', 'this', \"shouldn't\", 'same', 'has', 'how', 'had', 'ours', 'haven', 'while', 'as', 'yourselves', 'more', 'then', 'hasn', 'doing', 'off', \"aren't\", 'needn', 'them', 'over'}\n"
     ]
    }
   ],
   "source": [
    "print(stop_words)"
   ]
  },
  {
   "cell_type": "code",
   "execution_count": 6,
   "metadata": {},
   "outputs": [],
   "source": [
    "words = word_tokenize(example_sentence)"
   ]
  },
  {
   "cell_type": "code",
   "execution_count": 8,
   "metadata": {},
   "outputs": [],
   "source": [
    "filtered_sentence = []\n",
    "for w in words:\n",
    "    if w not in stop_words:\n",
    "        filtered_sentence.append(w)"
   ]
  },
  {
   "cell_type": "code",
   "execution_count": 9,
   "metadata": {},
   "outputs": [
    {
     "name": "stdout",
     "output_type": "stream",
     "text": [
      "['This', 'example', 'showing', 'stop', 'word', 'filteration', '.']\n"
     ]
    }
   ],
   "source": [
    "print(filtered_sentence)"
   ]
  },
  {
   "cell_type": "code",
   "execution_count": 10,
   "metadata": {
    "collapsed": true
   },
   "outputs": [],
   "source": [
    "filtered_sentence_one_line = [w for w in words if not w in stop_words]"
   ]
  },
  {
   "cell_type": "code",
   "execution_count": 11,
   "metadata": {},
   "outputs": [
    {
     "name": "stdout",
     "output_type": "stream",
     "text": [
      "['This', 'example', 'showing', 'stop', 'word', 'filteration', '.']\n"
     ]
    }
   ],
   "source": [
    "print(filtered_sentence_one_line)"
   ]
  },
  {
   "cell_type": "code",
   "execution_count": null,
   "metadata": {
    "collapsed": true
   },
   "outputs": [],
   "source": []
  }
 ],
 "metadata": {
  "kernelspec": {
   "display_name": "Python 3",
   "language": "python",
   "name": "python3"
  },
  "language_info": {
   "codemirror_mode": {
    "name": "ipython",
    "version": 3
   },
   "file_extension": ".py",
   "mimetype": "text/x-python",
   "name": "python",
   "nbconvert_exporter": "python",
   "pygments_lexer": "ipython3",
   "version": "3.6.2"
  }
 },
 "nbformat": 4,
 "nbformat_minor": 2
}
